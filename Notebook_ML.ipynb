{
  "cells": [
    {
      "cell_type": "markdown",
      "metadata": {},
      "source": [
        "# Machine Learning Avancé\n",
        "Ce document présente les techniques d'optimisation de différents modèles d'apprentissage supervisé. Les manipulations de la donnée ne sont pas présentés dans le présent document. Il permet également de s'initier aux modèles de stacking et de voting. Qu'est ce que le stacking ? Le stacking, ou l'empilement, est une technique d'ensemble learning utilisée dans la régression et d'autres tâches d'apprentissage automatique. L'objectif du stacking est de combiner les prédictions de plusieurs modèles de régression de base (appelés également \"learners\" ou \"modèles de base\") pour améliorer les performances de la prédiction par rapport à l'utilisation d'un seul modèle de régression. Le stacking permet souvent d'obtenir de meilleures performances prédictives que l'utilisation de chaque modèle de base individuellement et de réduire la dépendance des modèles aux graines fixées. "
      ]
    },
    {
      "cell_type": "code",
      "execution_count": 1,
      "metadata": {
        "execution": {
          "iopub.execute_input": "2023-03-02T13:02:12.136826Z",
          "iopub.status.busy": "2023-03-02T13:02:12.136445Z",
          "iopub.status.idle": "2023-03-02T13:02:12.631040Z",
          "shell.execute_reply": "2023-03-02T13:02:12.629890Z",
          "shell.execute_reply.started": "2023-03-02T13:02:12.136792Z"
        },
        "id": "Kuh-aiYJPaDo",
        "trusted": true
      },
      "outputs": [],
      "source": [
        "import pandas as pd\n",
        "import numpy as np\n",
        "from sklearn.model_selection import train_test_split\n",
        "from sklearn.metrics import mean_squared_error, r2_score, accuracy_score, mean_absolute_error, f1_score\n",
        "from tensorflow import keras\n",
        "from tensorflow.keras import layers\n",
        "from tensorflow.keras.layers import Dense, Dropout\n",
        "from sklearn.model_selection import GridSearchCV"
      ]
    },
    {
      "cell_type": "markdown",
      "metadata": {
        "id": "y0MbVFI9stL2"
      },
      "source": [
        "## Importation de la base Sur google Collab\n",
        "Comment importer les données sur google collab pour utiliser la puissance de calcul de google collab ? "
      ]
    },
    {
      "cell_type": "code",
      "execution_count": 2,
      "metadata": {
        "colab": {
          "base_uri": "https://localhost:8080/",
          "height": 73
        },
        "id": "bV1bzs0nQwUU",
        "outputId": "cfa0f865-3960-4ccc-d097-38037e93522c"
      },
      "outputs": [
        {
          "data": {
            "text/html": [
              "\n",
              "     <input type=\"file\" id=\"files-8d157346-c0c6-469e-bd91-16fa0cf14751\" name=\"files[]\" multiple disabled\n",
              "        style=\"border:none\" />\n",
              "     <output id=\"result-8d157346-c0c6-469e-bd91-16fa0cf14751\">\n",
              "      Upload widget is only available when the cell has been executed in the\n",
              "      current browser session. Please rerun this cell to enable.\n",
              "      </output>\n",
              "      <script>// Copyright 2017 Google LLC\n",
              "//\n",
              "// Licensed under the Apache License, Version 2.0 (the \"License\");\n",
              "// you may not use this file except in compliance with the License.\n",
              "// You may obtain a copy of the License at\n",
              "//\n",
              "//      http://www.apache.org/licenses/LICENSE-2.0\n",
              "//\n",
              "// Unless required by applicable law or agreed to in writing, software\n",
              "// distributed under the License is distributed on an \"AS IS\" BASIS,\n",
              "// WITHOUT WARRANTIES OR CONDITIONS OF ANY KIND, either express or implied.\n",
              "// See the License for the specific language governing permissions and\n",
              "// limitations under the License.\n",
              "\n",
              "/**\n",
              " * @fileoverview Helpers for google.colab Python module.\n",
              " */\n",
              "(function(scope) {\n",
              "function span(text, styleAttributes = {}) {\n",
              "  const element = document.createElement('span');\n",
              "  element.textContent = text;\n",
              "  for (const key of Object.keys(styleAttributes)) {\n",
              "    element.style[key] = styleAttributes[key];\n",
              "  }\n",
              "  return element;\n",
              "}\n",
              "\n",
              "// Max number of bytes which will be uploaded at a time.\n",
              "const MAX_PAYLOAD_SIZE = 100 * 1024;\n",
              "\n",
              "function _uploadFiles(inputId, outputId) {\n",
              "  const steps = uploadFilesStep(inputId, outputId);\n",
              "  const outputElement = document.getElementById(outputId);\n",
              "  // Cache steps on the outputElement to make it available for the next call\n",
              "  // to uploadFilesContinue from Python.\n",
              "  outputElement.steps = steps;\n",
              "\n",
              "  return _uploadFilesContinue(outputId);\n",
              "}\n",
              "\n",
              "// This is roughly an async generator (not supported in the browser yet),\n",
              "// where there are multiple asynchronous steps and the Python side is going\n",
              "// to poll for completion of each step.\n",
              "// This uses a Promise to block the python side on completion of each step,\n",
              "// then passes the result of the previous step as the input to the next step.\n",
              "function _uploadFilesContinue(outputId) {\n",
              "  const outputElement = document.getElementById(outputId);\n",
              "  const steps = outputElement.steps;\n",
              "\n",
              "  const next = steps.next(outputElement.lastPromiseValue);\n",
              "  return Promise.resolve(next.value.promise).then((value) => {\n",
              "    // Cache the last promise value to make it available to the next\n",
              "    // step of the generator.\n",
              "    outputElement.lastPromiseValue = value;\n",
              "    return next.value.response;\n",
              "  });\n",
              "}\n",
              "\n",
              "/**\n",
              " * Generator function which is called between each async step of the upload\n",
              " * process.\n",
              " * @param {string} inputId Element ID of the input file picker element.\n",
              " * @param {string} outputId Element ID of the output display.\n",
              " * @return {!Iterable<!Object>} Iterable of next steps.\n",
              " */\n",
              "function* uploadFilesStep(inputId, outputId) {\n",
              "  const inputElement = document.getElementById(inputId);\n",
              "  inputElement.disabled = false;\n",
              "\n",
              "  const outputElement = document.getElementById(outputId);\n",
              "  outputElement.innerHTML = '';\n",
              "\n",
              "  const pickedPromise = new Promise((resolve) => {\n",
              "    inputElement.addEventListener('change', (e) => {\n",
              "      resolve(e.target.files);\n",
              "    });\n",
              "  });\n",
              "\n",
              "  const cancel = document.createElement('button');\n",
              "  inputElement.parentElement.appendChild(cancel);\n",
              "  cancel.textContent = 'Cancel upload';\n",
              "  const cancelPromise = new Promise((resolve) => {\n",
              "    cancel.onclick = () => {\n",
              "      resolve(null);\n",
              "    };\n",
              "  });\n",
              "\n",
              "  // Wait for the user to pick the files.\n",
              "  const files = yield {\n",
              "    promise: Promise.race([pickedPromise, cancelPromise]),\n",
              "    response: {\n",
              "      action: 'starting',\n",
              "    }\n",
              "  };\n",
              "\n",
              "  cancel.remove();\n",
              "\n",
              "  // Disable the input element since further picks are not allowed.\n",
              "  inputElement.disabled = true;\n",
              "\n",
              "  if (!files) {\n",
              "    return {\n",
              "      response: {\n",
              "        action: 'complete',\n",
              "      }\n",
              "    };\n",
              "  }\n",
              "\n",
              "  for (const file of files) {\n",
              "    const li = document.createElement('li');\n",
              "    li.append(span(file.name, {fontWeight: 'bold'}));\n",
              "    li.append(span(\n",
              "        `(${file.type || 'n/a'}) - ${file.size} bytes, ` +\n",
              "        `last modified: ${\n",
              "            file.lastModifiedDate ? file.lastModifiedDate.toLocaleDateString() :\n",
              "                                    'n/a'} - `));\n",
              "    const percent = span('0% done');\n",
              "    li.appendChild(percent);\n",
              "\n",
              "    outputElement.appendChild(li);\n",
              "\n",
              "    const fileDataPromise = new Promise((resolve) => {\n",
              "      const reader = new FileReader();\n",
              "      reader.onload = (e) => {\n",
              "        resolve(e.target.result);\n",
              "      };\n",
              "      reader.readAsArrayBuffer(file);\n",
              "    });\n",
              "    // Wait for the data to be ready.\n",
              "    let fileData = yield {\n",
              "      promise: fileDataPromise,\n",
              "      response: {\n",
              "        action: 'continue',\n",
              "      }\n",
              "    };\n",
              "\n",
              "    // Use a chunked sending to avoid message size limits. See b/62115660.\n",
              "    let position = 0;\n",
              "    do {\n",
              "      const length = Math.min(fileData.byteLength - position, MAX_PAYLOAD_SIZE);\n",
              "      const chunk = new Uint8Array(fileData, position, length);\n",
              "      position += length;\n",
              "\n",
              "      const base64 = btoa(String.fromCharCode.apply(null, chunk));\n",
              "      yield {\n",
              "        response: {\n",
              "          action: 'append',\n",
              "          file: file.name,\n",
              "          data: base64,\n",
              "        },\n",
              "      };\n",
              "\n",
              "      let percentDone = fileData.byteLength === 0 ?\n",
              "          100 :\n",
              "          Math.round((position / fileData.byteLength) * 100);\n",
              "      percent.textContent = `${percentDone}% done`;\n",
              "\n",
              "    } while (position < fileData.byteLength);\n",
              "  }\n",
              "\n",
              "  // All done.\n",
              "  yield {\n",
              "    response: {\n",
              "      action: 'complete',\n",
              "    }\n",
              "  };\n",
              "}\n",
              "\n",
              "scope.google = scope.google || {};\n",
              "scope.google.colab = scope.google.colab || {};\n",
              "scope.google.colab._files = {\n",
              "  _uploadFiles,\n",
              "  _uploadFilesContinue,\n",
              "};\n",
              "})(self);\n",
              "</script> "
            ],
            "text/plain": [
              "<IPython.core.display.HTML object>"
            ]
          },
          "metadata": {},
          "output_type": "display_data"
        },
        {
          "name": "stdout",
          "output_type": "stream",
          "text": [
            "Saving base.csv to base.csv\n"
          ]
        }
      ],
      "source": [
        "# Première étape\n",
        "from google.colab import files\n",
        "import io\n",
        "uploaded = files.upload()"
      ]
    },
    {
      "cell_type": "code",
      "execution_count": 3,
      "metadata": {
        "colab": {
          "base_uri": "https://localhost:8080/",
          "height": 237
        },
        "id": "1NR5ooRuPaDq",
        "outputId": "5b7f292b-5c0e-4450-ef55-f135209ec6ca"
      },
      "outputs": [
        {
          "data": {
            "text/html": [
              "\n",
              "  <div id=\"df-50888b48-e31d-4465-9e35-01ee482c7f5e\">\n",
              "    <div class=\"colab-df-container\">\n",
              "      <div>\n",
              "<style scoped>\n",
              "    .dataframe tbody tr th:only-of-type {\n",
              "        vertical-align: middle;\n",
              "    }\n",
              "\n",
              "    .dataframe tbody tr th {\n",
              "        vertical-align: top;\n",
              "    }\n",
              "\n",
              "    .dataframe thead th {\n",
              "        text-align: right;\n",
              "    }\n",
              "</style>\n",
              "<table border=\"1\" class=\"dataframe\">\n",
              "  <thead>\n",
              "    <tr style=\"text-align: right;\">\n",
              "      <th></th>\n",
              "      <th>id</th>\n",
              "      <th>date</th>\n",
              "      <th>price</th>\n",
              "      <th>bedrooms</th>\n",
              "      <th>bathrooms</th>\n",
              "      <th>sqft_living</th>\n",
              "      <th>sqft_lot</th>\n",
              "      <th>floors</th>\n",
              "      <th>waterfront</th>\n",
              "      <th>view</th>\n",
              "      <th>...</th>\n",
              "      <th>zipcode</th>\n",
              "      <th>lat</th>\n",
              "      <th>long</th>\n",
              "      <th>sqft_living15</th>\n",
              "      <th>sqft_lot15</th>\n",
              "      <th>Ech</th>\n",
              "      <th>part_maison_sur_terrain</th>\n",
              "      <th>Part_logement_dessus_sol_sur_terrai</th>\n",
              "      <th>part_sous_sol_sur_logement</th>\n",
              "      <th>yr_renovated_rec</th>\n",
              "    </tr>\n",
              "  </thead>\n",
              "  <tbody>\n",
              "    <tr>\n",
              "      <th>1</th>\n",
              "      <td>7129300520</td>\n",
              "      <td>20141013T000000</td>\n",
              "      <td>221900.0</td>\n",
              "      <td>3</td>\n",
              "      <td>1.00</td>\n",
              "      <td>1180</td>\n",
              "      <td>5650</td>\n",
              "      <td>1.0</td>\n",
              "      <td>0</td>\n",
              "      <td>0</td>\n",
              "      <td>...</td>\n",
              "      <td>98178</td>\n",
              "      <td>47.5112</td>\n",
              "      <td>-122.257</td>\n",
              "      <td>1340</td>\n",
              "      <td>5650</td>\n",
              "      <td>1</td>\n",
              "      <td>0.208850</td>\n",
              "      <td>1.000000</td>\n",
              "      <td>0.000000</td>\n",
              "      <td>0</td>\n",
              "    </tr>\n",
              "    <tr>\n",
              "      <th>2</th>\n",
              "      <td>6414100192</td>\n",
              "      <td>20141209T000000</td>\n",
              "      <td>538000.0</td>\n",
              "      <td>3</td>\n",
              "      <td>2.25</td>\n",
              "      <td>2570</td>\n",
              "      <td>7242</td>\n",
              "      <td>2.0</td>\n",
              "      <td>0</td>\n",
              "      <td>0</td>\n",
              "      <td>...</td>\n",
              "      <td>98125</td>\n",
              "      <td>47.7210</td>\n",
              "      <td>-122.319</td>\n",
              "      <td>1690</td>\n",
              "      <td>7639</td>\n",
              "      <td>1</td>\n",
              "      <td>0.354874</td>\n",
              "      <td>0.844358</td>\n",
              "      <td>0.155642</td>\n",
              "      <td>4</td>\n",
              "    </tr>\n",
              "    <tr>\n",
              "      <th>3</th>\n",
              "      <td>5631500400</td>\n",
              "      <td>20150225T000000</td>\n",
              "      <td>180000.0</td>\n",
              "      <td>2</td>\n",
              "      <td>1.00</td>\n",
              "      <td>770</td>\n",
              "      <td>10000</td>\n",
              "      <td>1.0</td>\n",
              "      <td>0</td>\n",
              "      <td>0</td>\n",
              "      <td>...</td>\n",
              "      <td>98028</td>\n",
              "      <td>47.7379</td>\n",
              "      <td>-122.233</td>\n",
              "      <td>2720</td>\n",
              "      <td>8062</td>\n",
              "      <td>1</td>\n",
              "      <td>0.077000</td>\n",
              "      <td>1.000000</td>\n",
              "      <td>0.000000</td>\n",
              "      <td>0</td>\n",
              "    </tr>\n",
              "  </tbody>\n",
              "</table>\n",
              "<p>3 rows × 26 columns</p>\n",
              "</div>\n",
              "      <button class=\"colab-df-convert\" onclick=\"convertToInteractive('df-50888b48-e31d-4465-9e35-01ee482c7f5e')\"\n",
              "              title=\"Convert this dataframe to an interactive table.\"\n",
              "              style=\"display:none;\">\n",
              "        \n",
              "  <svg xmlns=\"http://www.w3.org/2000/svg\" height=\"24px\"viewBox=\"0 0 24 24\"\n",
              "       width=\"24px\">\n",
              "    <path d=\"M0 0h24v24H0V0z\" fill=\"none\"/>\n",
              "    <path d=\"M18.56 5.44l.94 2.06.94-2.06 2.06-.94-2.06-.94-.94-2.06-.94 2.06-2.06.94zm-11 1L8.5 8.5l.94-2.06 2.06-.94-2.06-.94L8.5 2.5l-.94 2.06-2.06.94zm10 10l.94 2.06.94-2.06 2.06-.94-2.06-.94-.94-2.06-.94 2.06-2.06.94z\"/><path d=\"M17.41 7.96l-1.37-1.37c-.4-.4-.92-.59-1.43-.59-.52 0-1.04.2-1.43.59L10.3 9.45l-7.72 7.72c-.78.78-.78 2.05 0 2.83L4 21.41c.39.39.9.59 1.41.59.51 0 1.02-.2 1.41-.59l7.78-7.78 2.81-2.81c.8-.78.8-2.07 0-2.86zM5.41 20L4 18.59l7.72-7.72 1.47 1.35L5.41 20z\"/>\n",
              "  </svg>\n",
              "      </button>\n",
              "      \n",
              "  <style>\n",
              "    .colab-df-container {\n",
              "      display:flex;\n",
              "      flex-wrap:wrap;\n",
              "      gap: 12px;\n",
              "    }\n",
              "\n",
              "    .colab-df-convert {\n",
              "      background-color: #E8F0FE;\n",
              "      border: none;\n",
              "      border-radius: 50%;\n",
              "      cursor: pointer;\n",
              "      display: none;\n",
              "      fill: #1967D2;\n",
              "      height: 32px;\n",
              "      padding: 0 0 0 0;\n",
              "      width: 32px;\n",
              "    }\n",
              "\n",
              "    .colab-df-convert:hover {\n",
              "      background-color: #E2EBFA;\n",
              "      box-shadow: 0px 1px 2px rgba(60, 64, 67, 0.3), 0px 1px 3px 1px rgba(60, 64, 67, 0.15);\n",
              "      fill: #174EA6;\n",
              "    }\n",
              "\n",
              "    [theme=dark] .colab-df-convert {\n",
              "      background-color: #3B4455;\n",
              "      fill: #D2E3FC;\n",
              "    }\n",
              "\n",
              "    [theme=dark] .colab-df-convert:hover {\n",
              "      background-color: #434B5C;\n",
              "      box-shadow: 0px 1px 3px 1px rgba(0, 0, 0, 0.15);\n",
              "      filter: drop-shadow(0px 1px 2px rgba(0, 0, 0, 0.3));\n",
              "      fill: #FFFFFF;\n",
              "    }\n",
              "  </style>\n",
              "\n",
              "      <script>\n",
              "        const buttonEl =\n",
              "          document.querySelector('#df-50888b48-e31d-4465-9e35-01ee482c7f5e button.colab-df-convert');\n",
              "        buttonEl.style.display =\n",
              "          google.colab.kernel.accessAllowed ? 'block' : 'none';\n",
              "\n",
              "        async function convertToInteractive(key) {\n",
              "          const element = document.querySelector('#df-50888b48-e31d-4465-9e35-01ee482c7f5e');\n",
              "          const dataTable =\n",
              "            await google.colab.kernel.invokeFunction('convertToInteractive',\n",
              "                                                     [key], {});\n",
              "          if (!dataTable) return;\n",
              "\n",
              "          const docLinkHtml = 'Like what you see? Visit the ' +\n",
              "            '<a target=\"_blank\" href=https://colab.research.google.com/notebooks/data_table.ipynb>data table notebook</a>'\n",
              "            + ' to learn more about interactive tables.';\n",
              "          element.innerHTML = '';\n",
              "          dataTable['output_type'] = 'display_data';\n",
              "          await google.colab.output.renderOutput(dataTable, element);\n",
              "          const docLink = document.createElement('div');\n",
              "          docLink.innerHTML = docLinkHtml;\n",
              "          element.appendChild(docLink);\n",
              "        }\n",
              "      </script>\n",
              "    </div>\n",
              "  </div>\n",
              "  "
            ],
            "text/plain": [
              "           id             date     price  bedrooms  bathrooms  sqft_living  \\\n",
              "1  7129300520  20141013T000000  221900.0         3       1.00         1180   \n",
              "2  6414100192  20141209T000000  538000.0         3       2.25         2570   \n",
              "3  5631500400  20150225T000000  180000.0         2       1.00          770   \n",
              "\n",
              "   sqft_lot  floors  waterfront  view  ...  zipcode      lat     long  \\\n",
              "1      5650     1.0           0     0  ...    98178  47.5112 -122.257   \n",
              "2      7242     2.0           0     0  ...    98125  47.7210 -122.319   \n",
              "3     10000     1.0           0     0  ...    98028  47.7379 -122.233   \n",
              "\n",
              "   sqft_living15  sqft_lot15  Ech  part_maison_sur_terrain  \\\n",
              "1           1340        5650    1                 0.208850   \n",
              "2           1690        7639    1                 0.354874   \n",
              "3           2720        8062    1                 0.077000   \n",
              "\n",
              "   Part_logement_dessus_sol_sur_terrai  part_sous_sol_sur_logement  \\\n",
              "1                             1.000000                    0.000000   \n",
              "2                             0.844358                    0.155642   \n",
              "3                             1.000000                    0.000000   \n",
              "\n",
              "   yr_renovated_rec  \n",
              "1                 0  \n",
              "2                 4  \n",
              "3                 0  \n",
              "\n",
              "[3 rows x 26 columns]"
            ]
          },
          "execution_count": 3,
          "metadata": {},
          "output_type": "execute_result"
        }
      ],
      "source": [
        "# Deuxième étape\n",
        "data = pd.read_csv(io.BytesIO(uploaded[\"base.csv\"]), index_col = 0)\n",
        "data.head(3)"
      ]
    },
    {
      "cell_type": "markdown",
      "metadata": {
        "id": "4xqwt7n_stL4"
      },
      "source": [
        "## Importation de la base Sur kaggle\n",
        "\n",
        "La base de donnée utilisée pour la présente utilisation est également présente sur kaggle. Pour l'importer, utilisez : "
      ]
    },
    {
      "cell_type": "code",
      "execution_count": null,
      "metadata": {
        "execution": {
          "iopub.execute_input": "2023-03-02T13:02:20.539750Z",
          "iopub.status.busy": "2023-03-02T13:02:20.539359Z",
          "iopub.status.idle": "2023-03-02T13:02:20.701767Z",
          "shell.execute_reply": "2023-03-02T13:02:20.700674Z",
          "shell.execute_reply.started": "2023-03-02T13:02:20.539717Z"
        },
        "id": "NOCe_whPstL5",
        "trusted": true
      },
      "outputs": [],
      "source": [
        "data = pd.read_csv(\"/kaggle/input/data-ml/base.csv\", index_col = 0)"
      ]
    },
    {
      "cell_type": "markdown",
      "metadata": {
        "id": "pvarMh6VstL5"
      },
      "source": [
        "## Importation en local "
      ]
    },
    {
      "cell_type": "code",
      "execution_count": 2,
      "metadata": {
        "execution": {
          "iopub.execute_input": "2023-03-01T20:00:18.820398Z",
          "iopub.status.busy": "2023-03-01T20:00:18.820018Z",
          "iopub.status.idle": "2023-03-01T20:00:18.920567Z",
          "shell.execute_reply": "2023-03-01T20:00:18.918252Z",
          "shell.execute_reply.started": "2023-03-01T20:00:18.820356Z"
        },
        "id": "bREKd_lNstL5",
        "trusted": true
      },
      "outputs": [],
      "source": [
        "data = pd.read_csv(\"base.csv\", index_col= 0)"
      ]
    },
    {
      "cell_type": "markdown",
      "metadata": {
        "id": "S3B1T43xmL6g"
      },
      "source": [
        "# Analyse"
      ]
    },
    {
      "cell_type": "code",
      "execution_count": 3,
      "metadata": {
        "colab": {
          "base_uri": "https://localhost:8080/"
        },
        "execution": {
          "iopub.execute_input": "2023-03-02T13:02:24.901944Z",
          "iopub.status.busy": "2023-03-02T13:02:24.901213Z",
          "iopub.status.idle": "2023-03-02T13:02:24.910466Z",
          "shell.execute_reply": "2023-03-02T13:02:24.909347Z",
          "shell.execute_reply.started": "2023-03-02T13:02:24.901888Z"
        },
        "id": "b2KRcuhMCCJ2",
        "outputId": "64453b17-d817-4677-9bb8-dd3aabbf6b20",
        "trusted": true
      },
      "outputs": [
        {
          "data": {
            "text/plain": [
              "Index(['id', 'date', 'price', 'bedrooms', 'bathrooms', 'sqft_living',\n",
              "       'sqft_lot', 'floors', 'waterfront', 'view', 'condition', 'grade',\n",
              "       'sqft_above', 'sqft_basement', 'yr_built', 'yr_renovated', 'zipcode',\n",
              "       'lat', 'long', 'sqft_living15', 'sqft_lot15', 'Ech',\n",
              "       'part_maison_sur_terrain', 'Part_logement_dessus_sol_sur_terrai',\n",
              "       'part_sous_sol_sur_logement', 'yr_renovated_rec'],\n",
              "      dtype='object')"
            ]
          },
          "execution_count": 3,
          "metadata": {},
          "output_type": "execute_result"
        }
      ],
      "source": [
        "data.columns"
      ]
    },
    {
      "cell_type": "markdown",
      "metadata": {
        "id": "UsJEI30DPaDr"
      },
      "source": [
        "Diviser en data_set et la data sans les \"price\". La data_set contient les données à diviser en échantillon test et d'apprentissage. La base de données *price* contient les données dont on ne connait pas le prix (à prévoir)"
      ]
    },
    {
      "cell_type": "code",
      "execution_count": 4,
      "metadata": {
        "execution": {
          "iopub.execute_input": "2023-03-02T13:02:28.360946Z",
          "iopub.status.busy": "2023-03-02T13:02:28.359747Z",
          "iopub.status.idle": "2023-03-02T13:02:28.373900Z",
          "shell.execute_reply": "2023-03-02T13:02:28.372689Z",
          "shell.execute_reply.started": "2023-03-02T13:02:28.360894Z"
        },
        "id": "lhNzm_C0PaDt",
        "trusted": true
      },
      "outputs": [],
      "source": [
        "data_set = data.loc[data[\"Ech\"]== 1]\n",
        "price = data.loc[data[\"Ech\"]== 0]"
      ]
    },
    {
      "cell_type": "markdown",
      "metadata": {
        "id": "hjrC6PntuEuN"
      },
      "source": [
        "On construit les deux modèles à partir desquels je veux essayer"
      ]
    },
    {
      "cell_type": "code",
      "execution_count": 5,
      "metadata": {
        "execution": {
          "iopub.execute_input": "2023-03-02T13:02:31.209612Z",
          "iopub.status.busy": "2023-03-02T13:02:31.209017Z",
          "iopub.status.idle": "2023-03-02T13:02:31.222323Z",
          "shell.execute_reply": "2023-03-02T13:02:31.221104Z",
          "shell.execute_reply.started": "2023-03-02T13:02:31.209574Z"
        },
        "id": "MaxJlhMBPaDu",
        "trusted": true
      },
      "outputs": [],
      "source": [
        "data_test_1 = data_set.drop(columns= [\"id\", \"date\", \"Ech\", \"sqft_above\", \"sqft_basement\", \"yr_renovated_rec\"])\n",
        "price = price.drop(columns=[\"sqft_above\", \"sqft_basement\", \"yr_renovated_rec\", \"date\", \"Ech\"])"
      ]
    },
    {
      "cell_type": "markdown",
      "metadata": {
        "id": "8oald1JkuMDJ"
      },
      "source": [
        "Constitution des échantillons"
      ]
    },
    {
      "cell_type": "code",
      "execution_count": 6,
      "metadata": {
        "id": "o4GKt5ovuAd2"
      },
      "outputs": [],
      "source": [
        "X1 = data_test_1.drop(\"price\", axis= 1)\n",
        "Y1 = data_test_1[\"price\"]\n",
        "X_train, X_test, y_train, y_test = train_test_split(X1, Y1, test_size=0.25, random_state=42)"
      ]
    },
    {
      "cell_type": "markdown",
      "metadata": {
        "id": "SqEyHVxTuTQ2"
      },
      "source": [
        "# Random Forest"
      ]
    },
    {
      "cell_type": "markdown",
      "metadata": {},
      "source": [
        "Un modèle de Random Forest, ou \"forêt aléatoire\" en français, est un type d'algorithme d'apprentissage automatique utilisé pour la classification, la régression et d'autres tâches de modélisation prédictive. Il appartient à la famille des modèles d'ensemble, ce qui signifie qu'il combine les prédictions de plusieurs arbres de décision pour améliorer la précision globale du modèle.\n",
        "Voici les principales caractéristiques d'un modèle de Random Forest :\n",
        "\n",
        "Voici les principales caractéristiques d'un modèle de Random Forest :\n",
        "\n",
        "1 - Arbres de décision: Un modèle de Random Forest est composé de multiples arbres de décision. Chaque arbre de décision est construit à partir d'un échantillon aléatoire des données d'entraînement et un sous-ensemble aléatoire des caractéristiques (variables indépendantes). Cela rend chaque arbre légèrement différent, ce qui réduit le risque de surapprentissage.\n",
        "\n",
        "2- Bagging (Bootstrap Aggregating): Le terme \"forêt\" fait référence à l'idée de construire de multiples arbres de décision de manière indépendante. Pour cela, on utilise une technique appelée \"bagging\", qui consiste à créer plusieurs ensembles de données d'entraînement en échantillonnant les données avec remplacement. Chaque arbre est ensuite formé sur l'un de ces ensembles de données.\n",
        "\n",
        "3- Agrégation des prédictions: Une fois que tous les arbres de décision ont été formés, le modèle de Random Forest agrège leurs prédictions pour obtenir la prédiction finale. En classification, cela peut être fait par vote majoritaire (le label le plus fréquent parmi tous les arbres est retenu), tandis qu'en régression, cela peut être fait en prenant la moyenne des prédictions.\n",
        "\n",
        "4- Importance des caractéristiques: Un avantage notable des Random Forests est leur capacité à estimer l'importance des caractéristiques. Chaque arbre de décision conserve une trace de la façon dont il utilise les caractéristiques pour prendre des décisions, ce qui permet de calculer l'importance relative de chaque caractéristique dans la prédiction globale du modèle.\n",
        "\n",
        "5- Robustesse et performances élevées: Les Random Forests sont robustes aux valeurs aberrantes et aux données manquantes, et elles sont souvent moins sensibles au surapprentissage par rapport à un arbre de décision unique. Elles sont également connues pour offrir de bonnes performances sur une variété de tâches de classification et de régression.\n",
        "\n",
        "6- Paramètres de réglage: Les Random Forests ont quelques paramètres importants à régler, tels que le nombre d'arbres dans la forêt, la profondeur maximale des arbres, le nombre minimum d'échantillons par feuille, etc. Ces paramètres peuvent être ajustés via une validation croisée pour optimiser les performances du modèle.\n",
        "\n",
        "En résumé, un modèle de Random Forest est un puissant modèle d'ensemble basé sur des arbres de décision qui combine la prédiction de multiples arbres pour obtenir des résultats plus robustes et précis. Il est largement utilisé dans divers domaines de l'apprentissage automatique en raison de sa performance et de sa polyvalence"
      ]
    },
    {
      "cell_type": "code",
      "execution_count": 7,
      "metadata": {
        "execution": {
          "iopub.execute_input": "2023-03-02T13:02:34.316754Z",
          "iopub.status.busy": "2023-03-02T13:02:34.315778Z",
          "iopub.status.idle": "2023-03-02T13:02:34.659085Z",
          "shell.execute_reply": "2023-03-02T13:02:34.658027Z",
          "shell.execute_reply.started": "2023-03-02T13:02:34.316715Z"
        },
        "id": "89qulRbdPaDu",
        "trusted": true
      },
      "outputs": [],
      "source": [
        "from sklearn.ensemble import RandomForestRegressor"
      ]
    },
    {
      "cell_type": "code",
      "execution_count": 8,
      "metadata": {
        "colab": {
          "base_uri": "https://localhost:8080/",
          "height": 356
        },
        "execution": {
          "iopub.execute_input": "2023-03-01T20:00:52.760883Z",
          "iopub.status.busy": "2023-03-01T20:00:52.760146Z",
          "iopub.status.idle": "2023-03-01T20:16:21.766808Z",
          "shell.execute_reply": "2023-03-01T20:16:21.765605Z",
          "shell.execute_reply.started": "2023-03-01T20:00:52.760847Z"
        },
        "id": "OMSHanAAPaDw",
        "outputId": "0b21e45d-82e8-4c93-c485-7bbbfa88de6a",
        "trusted": true
      },
      "outputs": [
        {
          "data": {
            "text/html": [
              "<style>#sk-container-id-1 {color: black;background-color: white;}#sk-container-id-1 pre{padding: 0;}#sk-container-id-1 div.sk-toggleable {background-color: white;}#sk-container-id-1 label.sk-toggleable__label {cursor: pointer;display: block;width: 100%;margin-bottom: 0;padding: 0.3em;box-sizing: border-box;text-align: center;}#sk-container-id-1 label.sk-toggleable__label-arrow:before {content: \"▸\";float: left;margin-right: 0.25em;color: #696969;}#sk-container-id-1 label.sk-toggleable__label-arrow:hover:before {color: black;}#sk-container-id-1 div.sk-estimator:hover label.sk-toggleable__label-arrow:before {color: black;}#sk-container-id-1 div.sk-toggleable__content {max-height: 0;max-width: 0;overflow: hidden;text-align: left;background-color: #f0f8ff;}#sk-container-id-1 div.sk-toggleable__content pre {margin: 0.2em;color: black;border-radius: 0.25em;background-color: #f0f8ff;}#sk-container-id-1 input.sk-toggleable__control:checked~div.sk-toggleable__content {max-height: 200px;max-width: 100%;overflow: auto;}#sk-container-id-1 input.sk-toggleable__control:checked~label.sk-toggleable__label-arrow:before {content: \"▾\";}#sk-container-id-1 div.sk-estimator input.sk-toggleable__control:checked~label.sk-toggleable__label {background-color: #d4ebff;}#sk-container-id-1 div.sk-label input.sk-toggleable__control:checked~label.sk-toggleable__label {background-color: #d4ebff;}#sk-container-id-1 input.sk-hidden--visually {border: 0;clip: rect(1px 1px 1px 1px);clip: rect(1px, 1px, 1px, 1px);height: 1px;margin: -1px;overflow: hidden;padding: 0;position: absolute;width: 1px;}#sk-container-id-1 div.sk-estimator {font-family: monospace;background-color: #f0f8ff;border: 1px dotted black;border-radius: 0.25em;box-sizing: border-box;margin-bottom: 0.5em;}#sk-container-id-1 div.sk-estimator:hover {background-color: #d4ebff;}#sk-container-id-1 div.sk-parallel-item::after {content: \"\";width: 100%;border-bottom: 1px solid gray;flex-grow: 1;}#sk-container-id-1 div.sk-label:hover label.sk-toggleable__label {background-color: #d4ebff;}#sk-container-id-1 div.sk-serial::before {content: \"\";position: absolute;border-left: 1px solid gray;box-sizing: border-box;top: 0;bottom: 0;left: 50%;z-index: 0;}#sk-container-id-1 div.sk-serial {display: flex;flex-direction: column;align-items: center;background-color: white;padding-right: 0.2em;padding-left: 0.2em;position: relative;}#sk-container-id-1 div.sk-item {position: relative;z-index: 1;}#sk-container-id-1 div.sk-parallel {display: flex;align-items: stretch;justify-content: center;background-color: white;position: relative;}#sk-container-id-1 div.sk-item::before, #sk-container-id-1 div.sk-parallel-item::before {content: \"\";position: absolute;border-left: 1px solid gray;box-sizing: border-box;top: 0;bottom: 0;left: 50%;z-index: -1;}#sk-container-id-1 div.sk-parallel-item {display: flex;flex-direction: column;z-index: 1;position: relative;background-color: white;}#sk-container-id-1 div.sk-parallel-item:first-child::after {align-self: flex-end;width: 50%;}#sk-container-id-1 div.sk-parallel-item:last-child::after {align-self: flex-start;width: 50%;}#sk-container-id-1 div.sk-parallel-item:only-child::after {width: 0;}#sk-container-id-1 div.sk-dashed-wrapped {border: 1px dashed gray;margin: 0 0.4em 0.5em 0.4em;box-sizing: border-box;padding-bottom: 0.4em;background-color: white;}#sk-container-id-1 div.sk-label label {font-family: monospace;font-weight: bold;display: inline-block;line-height: 1.2em;}#sk-container-id-1 div.sk-label-container {text-align: center;}#sk-container-id-1 div.sk-container {/* jupyter's `normalize.less` sets `[hidden] { display: none; }` but bootstrap.min.css set `[hidden] { display: none !important; }` so we also need the `!important` here to be able to override the default hidden behavior on the sphinx rendered scikit-learn.org. See: https://github.com/scikit-learn/scikit-learn/issues/21755 */display: inline-block !important;position: relative;}#sk-container-id-1 div.sk-text-repr-fallback {display: none;}</style><div id=\"sk-container-id-1\" class=\"sk-top-container\"><div class=\"sk-text-repr-fallback\"><pre>GridSearchCV(cv=5, estimator=RandomForestRegressor(random_state=42),\n",
              "             param_grid={&#x27;max_depth&#x27;: [10, 20, 30],\n",
              "                         &#x27;n_estimators&#x27;: [100, 200, 500]})</pre><b>In a Jupyter environment, please rerun this cell to show the HTML representation or trust the notebook. <br />On GitHub, the HTML representation is unable to render, please try loading this page with nbviewer.org.</b></div><div class=\"sk-container\" hidden><div class=\"sk-item sk-dashed-wrapped\"><div class=\"sk-label-container\"><div class=\"sk-label sk-toggleable\"><input class=\"sk-toggleable__control sk-hidden--visually\" id=\"sk-estimator-id-1\" type=\"checkbox\" ><label for=\"sk-estimator-id-1\" class=\"sk-toggleable__label sk-toggleable__label-arrow\">GridSearchCV</label><div class=\"sk-toggleable__content\"><pre>GridSearchCV(cv=5, estimator=RandomForestRegressor(random_state=42),\n",
              "             param_grid={&#x27;max_depth&#x27;: [10, 20, 30],\n",
              "                         &#x27;n_estimators&#x27;: [100, 200, 500]})</pre></div></div></div><div class=\"sk-parallel\"><div class=\"sk-parallel-item\"><div class=\"sk-item\"><div class=\"sk-label-container\"><div class=\"sk-label sk-toggleable\"><input class=\"sk-toggleable__control sk-hidden--visually\" id=\"sk-estimator-id-2\" type=\"checkbox\" ><label for=\"sk-estimator-id-2\" class=\"sk-toggleable__label sk-toggleable__label-arrow\">estimator: RandomForestRegressor</label><div class=\"sk-toggleable__content\"><pre>RandomForestRegressor(random_state=42)</pre></div></div></div><div class=\"sk-serial\"><div class=\"sk-item\"><div class=\"sk-estimator sk-toggleable\"><input class=\"sk-toggleable__control sk-hidden--visually\" id=\"sk-estimator-id-3\" type=\"checkbox\" ><label for=\"sk-estimator-id-3\" class=\"sk-toggleable__label sk-toggleable__label-arrow\">RandomForestRegressor</label><div class=\"sk-toggleable__content\"><pre>RandomForestRegressor(random_state=42)</pre></div></div></div></div></div></div></div></div></div></div>"
            ],
            "text/plain": [
              "GridSearchCV(cv=5, estimator=RandomForestRegressor(random_state=42),\n",
              "             param_grid={'max_depth': [10, 20, 30],\n",
              "                         'n_estimators': [100, 200, 500]})"
            ]
          },
          "execution_count": 8,
          "metadata": {},
          "output_type": "execute_result"
        }
      ],
      "source": [
        "param_grid = {'n_estimators': [100, 200, 500], 'max_depth': [10, 20, 30]}\n",
        "rfc = RandomForestRegressor(random_state=42)\n",
        "grid_search_rf = GridSearchCV(rfc, param_grid=param_grid, cv=5)\n",
        "grid_search_rf.fit(X_train, y_train)"
      ]
    },
    {
      "cell_type": "code",
      "execution_count": 9,
      "metadata": {
        "execution": {
          "iopub.execute_input": "2023-03-01T20:16:34.321028Z",
          "iopub.status.busy": "2023-03-01T20:16:34.320226Z",
          "iopub.status.idle": "2023-03-01T20:16:34.327709Z",
          "shell.execute_reply": "2023-03-01T20:16:34.326604Z",
          "shell.execute_reply.started": "2023-03-01T20:16:34.320989Z"
        },
        "id": "zD-UuYo7PaDy",
        "trusted": true
      },
      "outputs": [
        {
          "data": {
            "text/plain": [
              "{'max_depth': 30, 'n_estimators': 500}"
            ]
          },
          "execution_count": 9,
          "metadata": {},
          "output_type": "execute_result"
        }
      ],
      "source": [
        "grid_search_rf.best_params_"
      ]
    },
    {
      "cell_type": "code",
      "execution_count": 9,
      "metadata": {
        "execution": {
          "iopub.execute_input": "2023-03-01T20:16:37.875587Z",
          "iopub.status.busy": "2023-03-01T20:16:37.874912Z",
          "iopub.status.idle": "2023-03-01T20:17:33.161713Z",
          "shell.execute_reply": "2023-03-01T20:17:33.160666Z",
          "shell.execute_reply.started": "2023-03-01T20:16:37.875551Z"
        },
        "id": "zLIon-HiPaDy",
        "trusted": true
      },
      "outputs": [],
      "source": [
        "rf_1 = RandomForestRegressor(n_estimators= 500, max_depth= 30)\n",
        "rf_1.fit(X_train, y_train)\n",
        "y_pred = rf_1.predict(X_test)"
      ]
    },
    {
      "cell_type": "code",
      "execution_count": 10,
      "metadata": {
        "colab": {
          "base_uri": "https://localhost:8080/"
        },
        "execution": {
          "iopub.execute_input": "2023-03-01T20:17:42.549943Z",
          "iopub.status.busy": "2023-03-01T20:17:42.549575Z",
          "iopub.status.idle": "2023-03-01T20:17:42.561240Z",
          "shell.execute_reply": "2023-03-01T20:17:42.558402Z",
          "shell.execute_reply.started": "2023-03-01T20:17:42.549912Z"
        },
        "id": "340F44A7arFD",
        "outputId": "7bb49599-397d-4618-afac-000e6ccdf126",
        "trusted": true
      },
      "outputs": [
        {
          "name": "stdout",
          "output_type": "stream",
          "text": [
            "R2 Score :  0.8705591816644898\n",
            "RMSE :  135369.49053842155\n",
            "MSE :  18324898968.631805\n",
            "MAE : 71951.299435234\n"
          ]
        }
      ],
      "source": [
        "print(\"R2 Score : \", r2_score(y_test, y_pred))\n",
        "print(\"RMSE : \", np.sqrt(mean_squared_error(y_test, y_pred)))\n",
        "print(\"MSE : \", mean_squared_error(y_test, y_pred))\n",
        "print(\"MAE :\", mean_absolute_error(y_test, y_pred))"
      ]
    },
    {
      "cell_type": "markdown",
      "metadata": {
        "id": "Pf9hkOy7nJdl"
      },
      "source": [
        "# Adaboost"
      ]
    },
    {
      "cell_type": "markdown",
      "metadata": {},
      "source": [
        "Un modèle AdaBoost, ou \"Adaptive Boosting\" en anglais, est un algorithme d'apprentissage automatique utilisé pour améliorer la précision des modèles de classification faibles en les combinant de manière adaptative. L'objectif principal de l'AdaBoost est de donner plus de poids aux échantillons mal classés ou difficiles à classer, ce qui permet de construire un modèle fort à partir de plusieurs modèles faibles."
      ]
    },
    {
      "cell_type": "code",
      "execution_count": null,
      "metadata": {
        "execution": {
          "iopub.execute_input": "2023-03-01T20:18:01.573396Z",
          "iopub.status.busy": "2023-03-01T20:18:01.572135Z",
          "iopub.status.idle": "2023-03-01T20:18:01.578266Z",
          "shell.execute_reply": "2023-03-01T20:18:01.577155Z",
          "shell.execute_reply.started": "2023-03-01T20:18:01.573352Z"
        },
        "id": "O_Tw432DnNSo",
        "trusted": true
      },
      "outputs": [],
      "source": [
        "from sklearn.ensemble import AdaBoostRegressor\n",
        "from sklearn.tree import DecisionTreeRegressor"
      ]
    },
    {
      "cell_type": "code",
      "execution_count": null,
      "metadata": {
        "execution": {
          "iopub.execute_input": "2023-03-01T20:18:06.121444Z",
          "iopub.status.busy": "2023-03-01T20:18:06.120591Z",
          "iopub.status.idle": "2023-03-01T20:18:06.127034Z",
          "shell.execute_reply": "2023-03-01T20:18:06.125902Z",
          "shell.execute_reply.started": "2023-03-01T20:18:06.121407Z"
        },
        "id": "QksBV_HzJu6B",
        "trusted": true
      },
      "outputs": [],
      "source": [
        "base_estimator = DecisionTreeRegressor(max_depth=1)\n",
        "adaboost_model = AdaBoostRegressor(base_estimator=base_estimator, random_state=42)"
      ]
    },
    {
      "cell_type": "code",
      "execution_count": null,
      "metadata": {
        "colab": {
          "base_uri": "https://localhost:8080/"
        },
        "execution": {
          "iopub.execute_input": "2023-03-01T20:18:09.502127Z",
          "iopub.status.busy": "2023-03-01T20:18:09.501765Z",
          "iopub.status.idle": "2023-03-01T20:21:40.319948Z",
          "shell.execute_reply": "2023-03-01T20:21:40.318796Z",
          "shell.execute_reply.started": "2023-03-01T20:18:09.502097Z"
        },
        "id": "BGDRA12AJ9bd",
        "outputId": "00e80e15-df69-45e3-9d0c-c619416c857a",
        "trusted": true
      },
      "outputs": [
        {
          "data": {
            "text/plain": [
              "GridSearchCV(cv=5,\n",
              "             estimator=AdaBoostRegressor(base_estimator=DecisionTreeRegressor(max_depth=1),\n",
              "                                         random_state=42),\n",
              "             param_grid={'learning_rate': [0.01, 0.05, 0.1, 0.5, 1],\n",
              "                         'n_estimators': [50, 100, 200, 300, 400]},\n",
              "             scoring='neg_mean_squared_error')"
            ]
          },
          "execution_count": 20,
          "metadata": {},
          "output_type": "execute_result"
        }
      ],
      "source": [
        "params = {\n",
        "    'n_estimators': [50, 100, 200, 300, 400],\n",
        "    'learning_rate': [0.01, 0.05, 0.1, 0.5, 1]\n",
        "}\n",
        "\n",
        "grid_search_ada = GridSearchCV(estimator=adaboost_model, param_grid=params, cv=5, scoring='neg_mean_squared_error')\n",
        "grid_search_ada.fit(X_train, y_train)\n"
      ]
    },
    {
      "cell_type": "code",
      "execution_count": null,
      "metadata": {
        "colab": {
          "base_uri": "https://localhost:8080/"
        },
        "execution": {
          "iopub.execute_input": "2023-03-01T20:22:08.874885Z",
          "iopub.status.busy": "2023-03-01T20:22:08.874173Z",
          "iopub.status.idle": "2023-03-01T20:22:08.880408Z",
          "shell.execute_reply": "2023-03-01T20:22:08.879266Z",
          "shell.execute_reply.started": "2023-03-01T20:22:08.874849Z"
        },
        "id": "33pCMo7hKRre",
        "outputId": "c936e68c-e804-421a-ab7f-3a54af905452",
        "trusted": true
      },
      "outputs": [
        {
          "name": "stdout",
          "output_type": "stream",
          "text": [
            "Best parameters found:  {'learning_rate': 0.01, 'n_estimators': 50}\n"
          ]
        }
      ],
      "source": [
        "print(\"Best parameters found: \", grid_search_ada.best_params_)"
      ]
    },
    {
      "cell_type": "code",
      "execution_count": null,
      "metadata": {
        "colab": {
          "base_uri": "https://localhost:8080/"
        },
        "execution": {
          "iopub.execute_input": "2023-03-01T20:22:39.559782Z",
          "iopub.status.busy": "2023-03-01T20:22:39.559072Z",
          "iopub.status.idle": "2023-03-01T20:22:40.343151Z",
          "shell.execute_reply": "2023-03-01T20:22:40.342106Z",
          "shell.execute_reply.started": "2023-03-01T20:22:39.559745Z"
        },
        "id": "gVp6CGrKKazD",
        "outputId": "6c548f4f-994e-451d-cb52-5a688d23057a",
        "trusted": true
      },
      "outputs": [
        {
          "name": "stderr",
          "output_type": "stream",
          "text": [
            "/usr/local/lib/python3.9/dist-packages/sklearn/ensemble/_base.py:166: FutureWarning: `base_estimator` was renamed to `estimator` in version 1.2 and will be removed in 1.4.\n",
            "  warnings.warn(\n"
          ]
        },
        {
          "data": {
            "text/html": [
              "<style>#sk-container-id-1 {color: black;background-color: white;}#sk-container-id-1 pre{padding: 0;}#sk-container-id-1 div.sk-toggleable {background-color: white;}#sk-container-id-1 label.sk-toggleable__label {cursor: pointer;display: block;width: 100%;margin-bottom: 0;padding: 0.3em;box-sizing: border-box;text-align: center;}#sk-container-id-1 label.sk-toggleable__label-arrow:before {content: \"▸\";float: left;margin-right: 0.25em;color: #696969;}#sk-container-id-1 label.sk-toggleable__label-arrow:hover:before {color: black;}#sk-container-id-1 div.sk-estimator:hover label.sk-toggleable__label-arrow:before {color: black;}#sk-container-id-1 div.sk-toggleable__content {max-height: 0;max-width: 0;overflow: hidden;text-align: left;background-color: #f0f8ff;}#sk-container-id-1 div.sk-toggleable__content pre {margin: 0.2em;color: black;border-radius: 0.25em;background-color: #f0f8ff;}#sk-container-id-1 input.sk-toggleable__control:checked~div.sk-toggleable__content {max-height: 200px;max-width: 100%;overflow: auto;}#sk-container-id-1 input.sk-toggleable__control:checked~label.sk-toggleable__label-arrow:before {content: \"▾\";}#sk-container-id-1 div.sk-estimator input.sk-toggleable__control:checked~label.sk-toggleable__label {background-color: #d4ebff;}#sk-container-id-1 div.sk-label input.sk-toggleable__control:checked~label.sk-toggleable__label {background-color: #d4ebff;}#sk-container-id-1 input.sk-hidden--visually {border: 0;clip: rect(1px 1px 1px 1px);clip: rect(1px, 1px, 1px, 1px);height: 1px;margin: -1px;overflow: hidden;padding: 0;position: absolute;width: 1px;}#sk-container-id-1 div.sk-estimator {font-family: monospace;background-color: #f0f8ff;border: 1px dotted black;border-radius: 0.25em;box-sizing: border-box;margin-bottom: 0.5em;}#sk-container-id-1 div.sk-estimator:hover {background-color: #d4ebff;}#sk-container-id-1 div.sk-parallel-item::after {content: \"\";width: 100%;border-bottom: 1px solid gray;flex-grow: 1;}#sk-container-id-1 div.sk-label:hover label.sk-toggleable__label {background-color: #d4ebff;}#sk-container-id-1 div.sk-serial::before {content: \"\";position: absolute;border-left: 1px solid gray;box-sizing: border-box;top: 0;bottom: 0;left: 50%;z-index: 0;}#sk-container-id-1 div.sk-serial {display: flex;flex-direction: column;align-items: center;background-color: white;padding-right: 0.2em;padding-left: 0.2em;position: relative;}#sk-container-id-1 div.sk-item {position: relative;z-index: 1;}#sk-container-id-1 div.sk-parallel {display: flex;align-items: stretch;justify-content: center;background-color: white;position: relative;}#sk-container-id-1 div.sk-item::before, #sk-container-id-1 div.sk-parallel-item::before {content: \"\";position: absolute;border-left: 1px solid gray;box-sizing: border-box;top: 0;bottom: 0;left: 50%;z-index: -1;}#sk-container-id-1 div.sk-parallel-item {display: flex;flex-direction: column;z-index: 1;position: relative;background-color: white;}#sk-container-id-1 div.sk-parallel-item:first-child::after {align-self: flex-end;width: 50%;}#sk-container-id-1 div.sk-parallel-item:last-child::after {align-self: flex-start;width: 50%;}#sk-container-id-1 div.sk-parallel-item:only-child::after {width: 0;}#sk-container-id-1 div.sk-dashed-wrapped {border: 1px dashed gray;margin: 0 0.4em 0.5em 0.4em;box-sizing: border-box;padding-bottom: 0.4em;background-color: white;}#sk-container-id-1 div.sk-label label {font-family: monospace;font-weight: bold;display: inline-block;line-height: 1.2em;}#sk-container-id-1 div.sk-label-container {text-align: center;}#sk-container-id-1 div.sk-container {/* jupyter's `normalize.less` sets `[hidden] { display: none; }` but bootstrap.min.css set `[hidden] { display: none !important; }` so we also need the `!important` here to be able to override the default hidden behavior on the sphinx rendered scikit-learn.org. See: https://github.com/scikit-learn/scikit-learn/issues/21755 */display: inline-block !important;position: relative;}#sk-container-id-1 div.sk-text-repr-fallback {display: none;}</style><div id=\"sk-container-id-1\" class=\"sk-top-container\"><div class=\"sk-text-repr-fallback\"><pre>AdaBoostRegressor(base_estimator=DecisionTreeRegressor(max_depth=1),\n",
              "                  learning_rate=0.01, random_state=42)</pre><b>In a Jupyter environment, please rerun this cell to show the HTML representation or trust the notebook. <br />On GitHub, the HTML representation is unable to render, please try loading this page with nbviewer.org.</b></div><div class=\"sk-container\" hidden><div class=\"sk-item sk-dashed-wrapped\"><div class=\"sk-label-container\"><div class=\"sk-label sk-toggleable\"><input class=\"sk-toggleable__control sk-hidden--visually\" id=\"sk-estimator-id-1\" type=\"checkbox\" ><label for=\"sk-estimator-id-1\" class=\"sk-toggleable__label sk-toggleable__label-arrow\">AdaBoostRegressor</label><div class=\"sk-toggleable__content\"><pre>AdaBoostRegressor(base_estimator=DecisionTreeRegressor(max_depth=1),\n",
              "                  learning_rate=0.01, random_state=42)</pre></div></div></div><div class=\"sk-parallel\"><div class=\"sk-parallel-item\"><div class=\"sk-item\"><div class=\"sk-label-container\"><div class=\"sk-label sk-toggleable\"><input class=\"sk-toggleable__control sk-hidden--visually\" id=\"sk-estimator-id-2\" type=\"checkbox\" ><label for=\"sk-estimator-id-2\" class=\"sk-toggleable__label sk-toggleable__label-arrow\">base_estimator: DecisionTreeRegressor</label><div class=\"sk-toggleable__content\"><pre>DecisionTreeRegressor(max_depth=1)</pre></div></div></div><div class=\"sk-serial\"><div class=\"sk-item\"><div class=\"sk-estimator sk-toggleable\"><input class=\"sk-toggleable__control sk-hidden--visually\" id=\"sk-estimator-id-3\" type=\"checkbox\" ><label for=\"sk-estimator-id-3\" class=\"sk-toggleable__label sk-toggleable__label-arrow\">DecisionTreeRegressor</label><div class=\"sk-toggleable__content\"><pre>DecisionTreeRegressor(max_depth=1)</pre></div></div></div></div></div></div></div></div></div></div>"
            ],
            "text/plain": [
              "AdaBoostRegressor(base_estimator=DecisionTreeRegressor(max_depth=1),\n",
              "                  learning_rate=0.01, random_state=42)"
            ]
          },
          "execution_count": 12,
          "metadata": {},
          "output_type": "execute_result"
        }
      ],
      "source": [
        "adaboost_model = AdaBoostRegressor(\n",
        "    base_estimator=DecisionTreeRegressor(max_depth=1),\n",
        "    n_estimators=50,\n",
        "    learning_rate=0.01,\n",
        "    random_state=42)\n",
        "\n",
        "adaboost_model.fit(X_train, y_train)\n"
      ]
    },
    {
      "cell_type": "code",
      "execution_count": null,
      "metadata": {
        "execution": {
          "iopub.execute_input": "2023-03-01T20:22:52.604536Z",
          "iopub.status.busy": "2023-03-01T20:22:52.604148Z",
          "iopub.status.idle": "2023-03-01T20:22:52.630375Z",
          "shell.execute_reply": "2023-03-01T20:22:52.629403Z",
          "shell.execute_reply.started": "2023-03-01T20:22:52.604504Z"
        },
        "id": "tIwfoK_lN-2N",
        "trusted": true
      },
      "outputs": [],
      "source": [
        "y_pred_ad = adaboost_model.predict(X_test)"
      ]
    },
    {
      "cell_type": "code",
      "execution_count": null,
      "metadata": {
        "colab": {
          "base_uri": "https://localhost:8080/"
        },
        "execution": {
          "iopub.execute_input": "2023-03-01T20:23:20.783534Z",
          "iopub.status.busy": "2023-03-01T20:23:20.782630Z",
          "iopub.status.idle": "2023-03-01T20:23:20.794762Z",
          "shell.execute_reply": "2023-03-01T20:23:20.793667Z",
          "shell.execute_reply.started": "2023-03-01T20:23:20.783481Z"
        },
        "id": "Speq5iowoFsQ",
        "outputId": "2d4ed57d-4d12-4689-edaa-6e910fea09b9",
        "trusted": true
      },
      "outputs": [
        {
          "name": "stdout",
          "output_type": "stream",
          "text": [
            "R2 score :  0.3795363759794702\n",
            "RMSE :  296376.2045470328\n",
            "MSE :  87838854621.7046\n",
            "MAE : 192276.90646711245\n"
          ]
        }
      ],
      "source": [
        "print(\"R2 score : \", r2_score(y_test, y_pred_ad))\n",
        "print(\"RMSE : \", np.sqrt(mean_squared_error(y_test, y_pred_ad)))\n",
        "print(\"MSE : \", mean_squared_error(y_test, y_pred_ad))\n",
        "print(\"MAE :\", mean_absolute_error(y_test, y_pred_ad))"
      ]
    },
    {
      "cell_type": "markdown",
      "metadata": {
        "id": "EY6NcUpApDtE"
      },
      "source": [
        "# XGBOOST"
      ]
    },
    {
      "cell_type": "markdown",
      "metadata": {},
      "source": [
        "XGBoost, ou \"eXtreme Gradient Boosting,\" est un algorithme d'apprentissage automatique très populaire et puissant qui appartient à la famille des modèles d'ensemble. Il est particulièrement efficace pour les tâches de classification et de régression. XGBoost est apprécié pour sa capacité à produire des modèles de haute performance tout en étant robuste et rapide."
      ]
    },
    {
      "cell_type": "code",
      "execution_count": 11,
      "metadata": {
        "execution": {
          "iopub.execute_input": "2023-03-01T20:23:43.215025Z",
          "iopub.status.busy": "2023-03-01T20:23:43.214662Z",
          "iopub.status.idle": "2023-03-01T20:23:43.301699Z",
          "shell.execute_reply": "2023-03-01T20:23:43.300745Z",
          "shell.execute_reply.started": "2023-03-01T20:23:43.214993Z"
        },
        "id": "beLFJSdmqh0w",
        "trusted": true
      },
      "outputs": [],
      "source": [
        "import xgboost as xgb"
      ]
    },
    {
      "cell_type": "code",
      "execution_count": 12,
      "metadata": {
        "id": "0-rX8uvq1GAb"
      },
      "outputs": [],
      "source": [
        "# Création d'un modèle XGBoost\n",
        "model = xgb.XGBRegressor()"
      ]
    },
    {
      "cell_type": "code",
      "execution_count": null,
      "metadata": {
        "execution": {
          "iopub.execute_input": "2023-03-01T20:23:46.591883Z",
          "iopub.status.busy": "2023-03-01T20:23:46.591179Z",
          "iopub.status.idle": "2023-03-01T20:23:46.597509Z",
          "shell.execute_reply": "2023-03-01T20:23:46.596235Z",
          "shell.execute_reply.started": "2023-03-01T20:23:46.591847Z"
        },
        "id": "-jW4VYCTqXta",
        "trusted": true
      },
      "outputs": [],
      "source": [
        "# Définition de la grille de recherche pour les hyperparamètres\n",
        "param_grid = {\n",
        "    'max_depth': [3, 4, 5],\n",
        "    'learning_rate': [0.1, 0.01, 0.001],\n",
        "    'n_estimators': [100, 500, 1000]\n",
        "}"
      ]
    },
    {
      "cell_type": "code",
      "execution_count": null,
      "metadata": {
        "execution": {
          "iopub.execute_input": "2023-03-01T20:23:51.024219Z",
          "iopub.status.busy": "2023-03-01T20:23:51.023839Z",
          "iopub.status.idle": "2023-03-01T20:37:35.590676Z",
          "shell.execute_reply": "2023-03-01T20:37:35.589528Z",
          "shell.execute_reply.started": "2023-03-01T20:23:51.024169Z"
        },
        "id": "74SOJntBstL8",
        "outputId": "eea4f7a1-f0d7-47a3-c827-6be0df6a17e5",
        "trusted": true
      },
      "outputs": [
        {
          "data": {
            "text/plain": [
              "GridSearchCV(cv=5,\n",
              "             estimator=XGBRegressor(base_score=None, booster=None,\n",
              "                                    callbacks=None, colsample_bylevel=None,\n",
              "                                    colsample_bynode=None,\n",
              "                                    colsample_bytree=None,\n",
              "                                    early_stopping_rounds=None,\n",
              "                                    enable_categorical=False, eval_metric=None,\n",
              "                                    gamma=None, gpu_id=None, grow_policy=None,\n",
              "                                    importance_type=None,\n",
              "                                    interaction_constraints=None,\n",
              "                                    learning_rate=None, max_bin=None,\n",
              "                                    max_cat...tep=None,\n",
              "                                    max_depth=None, max_leaves=None,\n",
              "                                    min_child_weight=None, missing=nan,\n",
              "                                    monotone_constraints=None, n_estimators=100,\n",
              "                                    n_jobs=None, num_parallel_tree=None,\n",
              "                                    predictor=None, random_state=None,\n",
              "                                    reg_alpha=None, reg_lambda=None, ...),\n",
              "             param_grid={'learning_rate': [0.1, 0.01, 0.001],\n",
              "                         'max_depth': [3, 4, 5],\n",
              "                         'n_estimators': [100, 500, 1000]},\n",
              "             scoring='neg_mean_squared_error')"
            ]
          },
          "execution_count": 28,
          "metadata": {},
          "output_type": "execute_result"
        }
      ],
      "source": [
        "grid_search = GridSearchCV(model, param_grid, cv=5, scoring='neg_mean_squared_error')\n",
        "grid_search.fit(X_train, y_train)"
      ]
    },
    {
      "cell_type": "code",
      "execution_count": null,
      "metadata": {
        "execution": {
          "iopub.execute_input": "2023-03-01T20:37:59.278166Z",
          "iopub.status.busy": "2023-03-01T20:37:59.277801Z",
          "iopub.status.idle": "2023-03-01T20:37:59.284578Z",
          "shell.execute_reply": "2023-03-01T20:37:59.283455Z",
          "shell.execute_reply.started": "2023-03-01T20:37:59.278131Z"
        },
        "id": "keoKmPUjstL9",
        "outputId": "60d3b357-4089-42f9-b583-358016f5ec03",
        "trusted": true
      },
      "outputs": [
        {
          "name": "stdout",
          "output_type": "stream",
          "text": [
            "Best parameters: {'learning_rate': 0.1, 'max_depth': 4, 'n_estimators': 1000}\n"
          ]
        }
      ],
      "source": [
        "# Affichage des meilleurs hyperparamètres trouvés\n",
        "print('Best parameters:', grid_search.best_params_)"
      ]
    },
    {
      "cell_type": "code",
      "execution_count": 13,
      "metadata": {
        "colab": {
          "base_uri": "https://localhost:8080/",
          "height": 248
        },
        "execution": {
          "iopub.execute_input": "2023-03-01T20:42:59.520812Z",
          "iopub.status.busy": "2023-03-01T20:42:59.520070Z",
          "iopub.status.idle": "2023-03-01T20:43:10.677679Z",
          "shell.execute_reply": "2023-03-01T20:43:10.676768Z",
          "shell.execute_reply.started": "2023-03-01T20:42:59.520771Z"
        },
        "id": "qZv_83lXPquW",
        "outputId": "54617521-5f31-4318-80af-616b1f69d4e9",
        "trusted": true
      },
      "outputs": [
        {
          "data": {
            "text/html": [
              "<style>#sk-container-id-1 {color: black;background-color: white;}#sk-container-id-1 pre{padding: 0;}#sk-container-id-1 div.sk-toggleable {background-color: white;}#sk-container-id-1 label.sk-toggleable__label {cursor: pointer;display: block;width: 100%;margin-bottom: 0;padding: 0.3em;box-sizing: border-box;text-align: center;}#sk-container-id-1 label.sk-toggleable__label-arrow:before {content: \"▸\";float: left;margin-right: 0.25em;color: #696969;}#sk-container-id-1 label.sk-toggleable__label-arrow:hover:before {color: black;}#sk-container-id-1 div.sk-estimator:hover label.sk-toggleable__label-arrow:before {color: black;}#sk-container-id-1 div.sk-toggleable__content {max-height: 0;max-width: 0;overflow: hidden;text-align: left;background-color: #f0f8ff;}#sk-container-id-1 div.sk-toggleable__content pre {margin: 0.2em;color: black;border-radius: 0.25em;background-color: #f0f8ff;}#sk-container-id-1 input.sk-toggleable__control:checked~div.sk-toggleable__content {max-height: 200px;max-width: 100%;overflow: auto;}#sk-container-id-1 input.sk-toggleable__control:checked~label.sk-toggleable__label-arrow:before {content: \"▾\";}#sk-container-id-1 div.sk-estimator input.sk-toggleable__control:checked~label.sk-toggleable__label {background-color: #d4ebff;}#sk-container-id-1 div.sk-label input.sk-toggleable__control:checked~label.sk-toggleable__label {background-color: #d4ebff;}#sk-container-id-1 input.sk-hidden--visually {border: 0;clip: rect(1px 1px 1px 1px);clip: rect(1px, 1px, 1px, 1px);height: 1px;margin: -1px;overflow: hidden;padding: 0;position: absolute;width: 1px;}#sk-container-id-1 div.sk-estimator {font-family: monospace;background-color: #f0f8ff;border: 1px dotted black;border-radius: 0.25em;box-sizing: border-box;margin-bottom: 0.5em;}#sk-container-id-1 div.sk-estimator:hover {background-color: #d4ebff;}#sk-container-id-1 div.sk-parallel-item::after {content: \"\";width: 100%;border-bottom: 1px solid gray;flex-grow: 1;}#sk-container-id-1 div.sk-label:hover label.sk-toggleable__label {background-color: #d4ebff;}#sk-container-id-1 div.sk-serial::before {content: \"\";position: absolute;border-left: 1px solid gray;box-sizing: border-box;top: 0;bottom: 0;left: 50%;z-index: 0;}#sk-container-id-1 div.sk-serial {display: flex;flex-direction: column;align-items: center;background-color: white;padding-right: 0.2em;padding-left: 0.2em;position: relative;}#sk-container-id-1 div.sk-item {position: relative;z-index: 1;}#sk-container-id-1 div.sk-parallel {display: flex;align-items: stretch;justify-content: center;background-color: white;position: relative;}#sk-container-id-1 div.sk-item::before, #sk-container-id-1 div.sk-parallel-item::before {content: \"\";position: absolute;border-left: 1px solid gray;box-sizing: border-box;top: 0;bottom: 0;left: 50%;z-index: -1;}#sk-container-id-1 div.sk-parallel-item {display: flex;flex-direction: column;z-index: 1;position: relative;background-color: white;}#sk-container-id-1 div.sk-parallel-item:first-child::after {align-self: flex-end;width: 50%;}#sk-container-id-1 div.sk-parallel-item:last-child::after {align-self: flex-start;width: 50%;}#sk-container-id-1 div.sk-parallel-item:only-child::after {width: 0;}#sk-container-id-1 div.sk-dashed-wrapped {border: 1px dashed gray;margin: 0 0.4em 0.5em 0.4em;box-sizing: border-box;padding-bottom: 0.4em;background-color: white;}#sk-container-id-1 div.sk-label label {font-family: monospace;font-weight: bold;display: inline-block;line-height: 1.2em;}#sk-container-id-1 div.sk-label-container {text-align: center;}#sk-container-id-1 div.sk-container {/* jupyter's `normalize.less` sets `[hidden] { display: none; }` but bootstrap.min.css set `[hidden] { display: none !important; }` so we also need the `!important` here to be able to override the default hidden behavior on the sphinx rendered scikit-learn.org. See: https://github.com/scikit-learn/scikit-learn/issues/21755 */display: inline-block !important;position: relative;}#sk-container-id-1 div.sk-text-repr-fallback {display: none;}</style><div id=\"sk-container-id-1\" class=\"sk-top-container\"><div class=\"sk-text-repr-fallback\"><pre>XGBRegressor(base_score=None, booster=None, callbacks=None,\n",
              "             colsample_bylevel=None, colsample_bynode=None,\n",
              "             colsample_bytree=0.8, early_stopping_rounds=None,\n",
              "             enable_categorical=False, eval_metric=None, feature_types=None,\n",
              "             gamma=None, gpu_id=None, grow_policy=None, importance_type=None,\n",
              "             interaction_constraints=None, learning_rate=0.1, max_bin=None,\n",
              "             max_cat_threshold=None, max_cat_to_onehot=None,\n",
              "             max_delta_step=None, max_depth=4, max_leaves=None,\n",
              "             min_child_weight=1, missing=nan, monotone_constraints=None,\n",
              "             n_estimators=1000, n_jobs=None, num_parallel_tree=None,\n",
              "             predictor=None, random_state=None, ...)</pre><b>In a Jupyter environment, please rerun this cell to show the HTML representation or trust the notebook. <br />On GitHub, the HTML representation is unable to render, please try loading this page with nbviewer.org.</b></div><div class=\"sk-container\" hidden><div class=\"sk-item\"><div class=\"sk-estimator sk-toggleable\"><input class=\"sk-toggleable__control sk-hidden--visually\" id=\"sk-estimator-id-1\" type=\"checkbox\" checked><label for=\"sk-estimator-id-1\" class=\"sk-toggleable__label sk-toggleable__label-arrow\">XGBRegressor</label><div class=\"sk-toggleable__content\"><pre>XGBRegressor(base_score=None, booster=None, callbacks=None,\n",
              "             colsample_bylevel=None, colsample_bynode=None,\n",
              "             colsample_bytree=0.8, early_stopping_rounds=None,\n",
              "             enable_categorical=False, eval_metric=None, feature_types=None,\n",
              "             gamma=None, gpu_id=None, grow_policy=None, importance_type=None,\n",
              "             interaction_constraints=None, learning_rate=0.1, max_bin=None,\n",
              "             max_cat_threshold=None, max_cat_to_onehot=None,\n",
              "             max_delta_step=None, max_depth=4, max_leaves=None,\n",
              "             min_child_weight=1, missing=nan, monotone_constraints=None,\n",
              "             n_estimators=1000, n_jobs=None, num_parallel_tree=None,\n",
              "             predictor=None, random_state=None, ...)</pre></div></div></div></div></div>"
            ],
            "text/plain": [
              "XGBRegressor(base_score=None, booster=None, callbacks=None,\n",
              "             colsample_bylevel=None, colsample_bynode=None,\n",
              "             colsample_bytree=0.8, early_stopping_rounds=None,\n",
              "             enable_categorical=False, eval_metric=None, feature_types=None,\n",
              "             gamma=None, gpu_id=None, grow_policy=None, importance_type=None,\n",
              "             interaction_constraints=None, learning_rate=0.1, max_bin=None,\n",
              "             max_cat_threshold=None, max_cat_to_onehot=None,\n",
              "             max_delta_step=None, max_depth=4, max_leaves=None,\n",
              "             min_child_weight=1, missing=nan, monotone_constraints=None,\n",
              "             n_estimators=1000, n_jobs=None, num_parallel_tree=None,\n",
              "             predictor=None, random_state=None, ...)"
            ]
          },
          "execution_count": 13,
          "metadata": {},
          "output_type": "execute_result"
        }
      ],
      "source": [
        "xgb_model = xgb.XGBRegressor(\n",
        "    objective='reg:squarederror',\n",
        "    learning_rate=0.1,\n",
        "    max_depth=4,\n",
        "    min_child_weight=1,\n",
        "    subsample=0.8,\n",
        "    colsample_bytree=0.8,\n",
        "    n_estimators=1000,\n",
        "    seed=42)\n",
        "\n",
        "xgb_model.fit(X_train, y_train)"
      ]
    },
    {
      "cell_type": "code",
      "execution_count": 14,
      "metadata": {
        "execution": {
          "iopub.execute_input": "2023-03-01T20:43:39.897798Z",
          "iopub.status.busy": "2023-03-01T20:43:39.897100Z",
          "iopub.status.idle": "2023-03-01T20:43:39.956461Z",
          "shell.execute_reply": "2023-03-01T20:43:39.955453Z",
          "shell.execute_reply.started": "2023-03-01T20:43:39.897762Z"
        },
        "id": "n2RtCC44P1J0",
        "trusted": true
      },
      "outputs": [],
      "source": [
        "y_pred_xgb = xgb_model.predict(X_test)"
      ]
    },
    {
      "cell_type": "code",
      "execution_count": 15,
      "metadata": {
        "colab": {
          "base_uri": "https://localhost:8080/"
        },
        "execution": {
          "iopub.execute_input": "2023-03-01T20:45:13.529840Z",
          "iopub.status.busy": "2023-03-01T20:45:13.529473Z",
          "iopub.status.idle": "2023-03-01T20:45:13.539272Z",
          "shell.execute_reply": "2023-03-01T20:45:13.538249Z",
          "shell.execute_reply.started": "2023-03-01T20:45:13.529809Z"
        },
        "id": "Wa_pfJ1wq4Ch",
        "outputId": "abdeae79-463b-4e24-901f-fc4c46460e77",
        "trusted": true
      },
      "outputs": [
        {
          "name": "stdout",
          "output_type": "stream",
          "text": [
            "R2 score :  0.895461576897249\n",
            "RMSE :  121653.08925455222\n",
            "MSE :  14799474125.176048\n",
            "MAE : 66752.2755748057\n"
          ]
        }
      ],
      "source": [
        "print(\"R2 score : \", r2_score(y_test, y_pred_xgb))\n",
        "print(\"RMSE : \", np.sqrt(mean_squared_error(y_test, y_pred_xgb)))\n",
        "print(\"MSE : \", mean_squared_error(y_test, y_pred_xgb))\n",
        "print(\"MAE :\", mean_absolute_error(y_test, y_pred_xgb))"
      ]
    },
    {
      "cell_type": "markdown",
      "metadata": {
        "id": "DPuw8fO-stL9"
      },
      "source": [
        "# Bagging"
      ]
    },
    {
      "cell_type": "markdown",
      "metadata": {},
      "source": [
        "Un modèle de bagging, ou \"Bootstrap Aggregating\", est une technique d'ensemble learning en apprentissage automatique. L'objectif du bagging est d'améliorer la stabilité et la précision d'un modèle en construisant plusieurs modèles similaires à partir d'échantillons de données différents et en combinant leurs prédictions. Le modèle de bagging le plus connu est le \"Random Forest,\" bien que d'autres algorithmes de bagging puissent également être utilisés."
      ]
    },
    {
      "cell_type": "code",
      "execution_count": 16,
      "metadata": {
        "execution": {
          "iopub.execute_input": "2023-03-02T09:57:59.338755Z",
          "iopub.status.busy": "2023-03-02T09:57:59.337923Z",
          "iopub.status.idle": "2023-03-02T09:57:59.344272Z",
          "shell.execute_reply": "2023-03-02T09:57:59.342820Z",
          "shell.execute_reply.started": "2023-03-02T09:57:59.338710Z"
        },
        "id": "RFTtA2ajstL9",
        "trusted": true
      },
      "outputs": [],
      "source": [
        "from sklearn.ensemble import BaggingRegressor\n",
        "from sklearn.tree import DecisionTreeRegressor"
      ]
    },
    {
      "cell_type": "code",
      "execution_count": null,
      "metadata": {
        "execution": {
          "iopub.execute_input": "2023-03-02T09:58:02.743447Z",
          "iopub.status.busy": "2023-03-02T09:58:02.743020Z",
          "iopub.status.idle": "2023-03-02T09:58:02.749255Z",
          "shell.execute_reply": "2023-03-02T09:58:02.747915Z",
          "shell.execute_reply.started": "2023-03-02T09:58:02.743406Z"
        },
        "id": "4NFNJJKOstL9",
        "trusted": true
      },
      "outputs": [],
      "source": [
        "parameters_bag = {\n",
        "    \"n_estimators\": [10, 50, 100],\n",
        "    \"max_samples\": [0.5, 1.0],\n",
        "    \"max_features\": [0.5, 1.0],\n",
        "    \"bootstrap\": [True, False],\n",
        "    \"bootstrap_features\": [True, False],\n",
        "}"
      ]
    },
    {
      "cell_type": "code",
      "execution_count": null,
      "metadata": {
        "execution": {
          "iopub.execute_input": "2023-03-02T09:58:07.969991Z",
          "iopub.status.busy": "2023-03-02T09:58:07.969312Z",
          "iopub.status.idle": "2023-03-02T10:12:54.974244Z",
          "shell.execute_reply": "2023-03-02T10:12:54.972896Z",
          "shell.execute_reply.started": "2023-03-02T09:58:07.969952Z"
        },
        "id": "EomOoXvistL-",
        "outputId": "41150add-25c9-4924-a476-ebadcdc0557d",
        "trusted": true
      },
      "outputs": [
        {
          "data": {
            "text/plain": [
              "GridSearchCV(cv=5, estimator=BaggingRegressor(),\n",
              "             param_grid={'bootstrap': [True, False],\n",
              "                         'bootstrap_features': [True, False],\n",
              "                         'max_features': [0.5, 1.0], 'max_samples': [0.5, 1.0],\n",
              "                         'n_estimators': [10, 50, 100]},\n",
              "             scoring='neg_root_mean_squared_error')"
            ]
          },
          "execution_count": 16,
          "metadata": {},
          "output_type": "execute_result"
        }
      ],
      "source": [
        "model = BaggingRegressor()\n",
        "grid_search = GridSearchCV(model, parameters_bag, cv=5, scoring=\"neg_root_mean_squared_error\")\n",
        "grid_search.fit(X_train, y_train)"
      ]
    },
    {
      "cell_type": "code",
      "execution_count": null,
      "metadata": {
        "execution": {
          "iopub.execute_input": "2023-03-02T10:14:43.507339Z",
          "iopub.status.busy": "2023-03-02T10:14:43.506015Z",
          "iopub.status.idle": "2023-03-02T10:14:43.516810Z",
          "shell.execute_reply": "2023-03-02T10:14:43.515700Z",
          "shell.execute_reply.started": "2023-03-02T10:14:43.507288Z"
        },
        "id": "EXVQmn9qstL-",
        "outputId": "930e2625-f82b-440d-8a44-f15115a62a8b",
        "trusted": true
      },
      "outputs": [
        {
          "name": "stdout",
          "output_type": "stream",
          "text": [
            "Meilleurs hyperparamètres: {'bootstrap': True, 'bootstrap_features': False, 'max_features': 1.0, 'max_samples': 1.0, 'n_estimators': 50}\n"
          ]
        }
      ],
      "source": [
        "print(\"Meilleurs hyperparamètres:\", grid_search.best_params_) "
      ]
    },
    {
      "cell_type": "code",
      "execution_count": 17,
      "metadata": {
        "id": "_XRqAc6Gy842"
      },
      "outputs": [],
      "source": [
        "bagging = BaggingRegressor(base_estimator=DecisionTreeRegressor(max_features=1.0), n_estimators=50, \n",
        "                            max_samples=1.0, max_features=1.0, bootstrap=True, bootstrap_features=False,\n",
        "                            random_state=42)\n"
      ]
    },
    {
      "cell_type": "code",
      "execution_count": 18,
      "metadata": {
        "colab": {
          "base_uri": "https://localhost:8080/"
        },
        "execution": {
          "iopub.execute_input": "2023-03-02T10:17:08.451581Z",
          "iopub.status.busy": "2023-03-02T10:17:08.450893Z",
          "iopub.status.idle": "2023-03-02T10:17:14.936182Z",
          "shell.execute_reply": "2023-03-02T10:17:14.935175Z",
          "shell.execute_reply.started": "2023-03-02T10:17:08.451541Z"
        },
        "id": "0bIpLPVsstL-",
        "outputId": "f7742c55-34ee-4e20-90bc-d12deefec700",
        "trusted": true
      },
      "outputs": [
        {
          "name": "stderr",
          "output_type": "stream",
          "text": [
            "/usr/local/lib/python3.9/dist-packages/sklearn/ensemble/_base.py:166: FutureWarning: `base_estimator` was renamed to `estimator` in version 1.2 and will be removed in 1.4.\n",
            "  warnings.warn(\n"
          ]
        }
      ],
      "source": [
        "# Entraîner le modèle Bagging\n",
        "bagging.fit(X_train, y_train)\n",
        "\n",
        "# Prédire les valeurs pour l'ensemble de test\n",
        "y_pred_bag = bagging.predict(X_test)"
      ]
    },
    {
      "cell_type": "code",
      "execution_count": 19,
      "metadata": {
        "colab": {
          "base_uri": "https://localhost:8080/"
        },
        "execution": {
          "iopub.execute_input": "2023-03-02T10:17:25.728655Z",
          "iopub.status.busy": "2023-03-02T10:17:25.727487Z",
          "iopub.status.idle": "2023-03-02T10:17:25.739494Z",
          "shell.execute_reply": "2023-03-02T10:17:25.738261Z",
          "shell.execute_reply.started": "2023-03-02T10:17:25.728602Z"
        },
        "id": "4gJ9frXkstL-",
        "outputId": "ead3f7a8-e871-48d6-df95-3076426783e6",
        "trusted": true
      },
      "outputs": [
        {
          "name": "stdout",
          "output_type": "stream",
          "text": [
            "R2 score :  0.8678351207542938\n",
            "RMSE :  136786.4886553237\n",
            "MSE :  18710543478.652992\n",
            "MAE : 72715.26703224279\n"
          ]
        }
      ],
      "source": [
        "print(\"R2 score : \", r2_score(y_test, y_pred_bag))\n",
        "print(\"RMSE : \", np.sqrt(mean_squared_error(y_test, y_pred_bag)))\n",
        "print(\"MSE : \", mean_squared_error(y_test, y_pred_bag))\n",
        "print(\"MAE :\", mean_absolute_error(y_test, y_pred_bag))"
      ]
    },
    {
      "cell_type": "markdown",
      "metadata": {
        "id": "1vYRPY6s11eE"
      },
      "source": [
        "# sklearn.neural_network.MLPRegressor"
      ]
    },
    {
      "cell_type": "markdown",
      "metadata": {},
      "source": [
        "Un modèle MLPRegressor est un modèle de régression basé sur un réseau de neurones artificiels appelé un perceptron multicouche (Multilayer Perceptron, MLP). Il s'agit d'un type de modèle d'apprentissage automatique utilisé pour résoudre des tâches de régression, où l'objectif est de prédire une valeur numérique continue plutôt que de classer des données en catégories discrètes."
      ]
    },
    {
      "cell_type": "code",
      "execution_count": null,
      "metadata": {
        "id": "vpclA9Fs2D-Q"
      },
      "outputs": [],
      "source": [
        "from sklearn.neural_network import MLPRegressor"
      ]
    },
    {
      "cell_type": "code",
      "execution_count": null,
      "metadata": {
        "id": "vew-LHTL3Vwk"
      },
      "outputs": [],
      "source": [
        "# Initialiser le modèle MLPRegressor\n",
        "mlp = MLPRegressor(max_iter=100, solver = \"adam\")"
      ]
    },
    {
      "cell_type": "code",
      "execution_count": null,
      "metadata": {
        "id": "G1t-sjvn31FF"
      },
      "outputs": [],
      "source": [
        "parameters = {'hidden_layer_sizes': [(10,), (50,), (100,), (50, 50), (100, 50)], \n",
        "              'activation': ['identity', 'logistic', 'tanh', 'relu'], \n",
        "              'alpha': [0.0001, 0.001, 0.01], \n",
        "              'learning_rate': ['constant', 'invscaling', 'adaptive']}"
      ]
    },
    {
      "cell_type": "code",
      "execution_count": null,
      "metadata": {
        "colab": {
          "base_uri": "https://localhost:8080/"
        },
        "id": "mTVaT86u35Vr",
        "outputId": "a36f1c27-a9d9-4e65-f4b3-7326c6772d1c"
      },
      "outputs": [
        {
          "name": "stderr",
          "output_type": "stream",
          "text": [
            "/usr/local/lib/python3.8/dist-packages/sklearn/neural_network/_multilayer_perceptron.py:692: ConvergenceWarning: Stochastic Optimizer: Maximum iterations (100) reached and the optimization hasn't converged yet.\n",
            "  warnings.warn(\n"
          ]
        },
        {
          "data": {
            "text/plain": [
              "GridSearchCV(estimator=MLPRegressor(max_iter=100), n_jobs=-1,\n",
              "             param_grid={'activation': ['identity', 'logistic', 'tanh', 'relu'],\n",
              "                         'alpha': [0.0001, 0.001, 0.01],\n",
              "                         'hidden_layer_sizes': [(10,), (50,), (100,), (50, 50),\n",
              "                                                (100, 50)],\n",
              "                         'learning_rate': ['constant', 'invscaling',\n",
              "                                           'adaptive']})"
            ]
          },
          "execution_count": 58,
          "metadata": {},
          "output_type": "execute_result"
        }
      ],
      "source": [
        "# Effectuer une recherche d'hyperparamètres en utilisant la méthode GridSearchCV\n",
        "clf = GridSearchCV(mlp, parameters, n_jobs=-1)\n",
        "clf.fit(X_train, y_train)"
      ]
    },
    {
      "cell_type": "code",
      "execution_count": null,
      "metadata": {
        "colab": {
          "base_uri": "https://localhost:8080/"
        },
        "id": "8TFTsrZF37BO",
        "outputId": "e913508d-93eb-4a2e-ce73-def1a95b2034"
      },
      "outputs": [
        {
          "name": "stdout",
          "output_type": "stream",
          "text": [
            "Meilleurs hyperparamètres :  {'activation': 'relu', 'alpha': 0.0001, 'hidden_layer_sizes': (100, 50), 'learning_rate': 'constant'}\n"
          ]
        }
      ],
      "source": [
        "print(\"Meilleurs hyperparamètres : \", clf.best_params_)"
      ]
    },
    {
      "cell_type": "code",
      "execution_count": null,
      "metadata": {
        "id": "7iN_vxKdG295"
      },
      "outputs": [],
      "source": [
        "mlp_model = MLPRegressor(\n",
        "    activation = \"relu\",\n",
        "    alpha = 0.0001,\n",
        "    solver = \"adam\",\n",
        "    hidden_layer_sizes= (100, 50),\n",
        "    learning_rate=\"constant\"\n",
        ")"
      ]
    },
    {
      "cell_type": "code",
      "execution_count": null,
      "metadata": {
        "colab": {
          "base_uri": "https://localhost:8080/"
        },
        "id": "Xd8Ig8X4IUsZ",
        "outputId": "1342ff45-ec93-4c7c-cc0c-29ebffdea8e7"
      },
      "outputs": [
        {
          "data": {
            "text/html": [
              "<style>#sk-container-id-3 {color: black;background-color: white;}#sk-container-id-3 pre{padding: 0;}#sk-container-id-3 div.sk-toggleable {background-color: white;}#sk-container-id-3 label.sk-toggleable__label {cursor: pointer;display: block;width: 100%;margin-bottom: 0;padding: 0.3em;box-sizing: border-box;text-align: center;}#sk-container-id-3 label.sk-toggleable__label-arrow:before {content: \"▸\";float: left;margin-right: 0.25em;color: #696969;}#sk-container-id-3 label.sk-toggleable__label-arrow:hover:before {color: black;}#sk-container-id-3 div.sk-estimator:hover label.sk-toggleable__label-arrow:before {color: black;}#sk-container-id-3 div.sk-toggleable__content {max-height: 0;max-width: 0;overflow: hidden;text-align: left;background-color: #f0f8ff;}#sk-container-id-3 div.sk-toggleable__content pre {margin: 0.2em;color: black;border-radius: 0.25em;background-color: #f0f8ff;}#sk-container-id-3 input.sk-toggleable__control:checked~div.sk-toggleable__content {max-height: 200px;max-width: 100%;overflow: auto;}#sk-container-id-3 input.sk-toggleable__control:checked~label.sk-toggleable__label-arrow:before {content: \"▾\";}#sk-container-id-3 div.sk-estimator input.sk-toggleable__control:checked~label.sk-toggleable__label {background-color: #d4ebff;}#sk-container-id-3 div.sk-label input.sk-toggleable__control:checked~label.sk-toggleable__label {background-color: #d4ebff;}#sk-container-id-3 input.sk-hidden--visually {border: 0;clip: rect(1px 1px 1px 1px);clip: rect(1px, 1px, 1px, 1px);height: 1px;margin: -1px;overflow: hidden;padding: 0;position: absolute;width: 1px;}#sk-container-id-3 div.sk-estimator {font-family: monospace;background-color: #f0f8ff;border: 1px dotted black;border-radius: 0.25em;box-sizing: border-box;margin-bottom: 0.5em;}#sk-container-id-3 div.sk-estimator:hover {background-color: #d4ebff;}#sk-container-id-3 div.sk-parallel-item::after {content: \"\";width: 100%;border-bottom: 1px solid gray;flex-grow: 1;}#sk-container-id-3 div.sk-label:hover label.sk-toggleable__label {background-color: #d4ebff;}#sk-container-id-3 div.sk-serial::before {content: \"\";position: absolute;border-left: 1px solid gray;box-sizing: border-box;top: 0;bottom: 0;left: 50%;z-index: 0;}#sk-container-id-3 div.sk-serial {display: flex;flex-direction: column;align-items: center;background-color: white;padding-right: 0.2em;padding-left: 0.2em;position: relative;}#sk-container-id-3 div.sk-item {position: relative;z-index: 1;}#sk-container-id-3 div.sk-parallel {display: flex;align-items: stretch;justify-content: center;background-color: white;position: relative;}#sk-container-id-3 div.sk-item::before, #sk-container-id-3 div.sk-parallel-item::before {content: \"\";position: absolute;border-left: 1px solid gray;box-sizing: border-box;top: 0;bottom: 0;left: 50%;z-index: -1;}#sk-container-id-3 div.sk-parallel-item {display: flex;flex-direction: column;z-index: 1;position: relative;background-color: white;}#sk-container-id-3 div.sk-parallel-item:first-child::after {align-self: flex-end;width: 50%;}#sk-container-id-3 div.sk-parallel-item:last-child::after {align-self: flex-start;width: 50%;}#sk-container-id-3 div.sk-parallel-item:only-child::after {width: 0;}#sk-container-id-3 div.sk-dashed-wrapped {border: 1px dashed gray;margin: 0 0.4em 0.5em 0.4em;box-sizing: border-box;padding-bottom: 0.4em;background-color: white;}#sk-container-id-3 div.sk-label label {font-family: monospace;font-weight: bold;display: inline-block;line-height: 1.2em;}#sk-container-id-3 div.sk-label-container {text-align: center;}#sk-container-id-3 div.sk-container {/* jupyter's `normalize.less` sets `[hidden] { display: none; }` but bootstrap.min.css set `[hidden] { display: none !important; }` so we also need the `!important` here to be able to override the default hidden behavior on the sphinx rendered scikit-learn.org. See: https://github.com/scikit-learn/scikit-learn/issues/21755 */display: inline-block !important;position: relative;}#sk-container-id-3 div.sk-text-repr-fallback {display: none;}</style><div id=\"sk-container-id-3\" class=\"sk-top-container\"><div class=\"sk-text-repr-fallback\"><pre>MLPRegressor(hidden_layer_sizes=(100, 50))</pre><b>In a Jupyter environment, please rerun this cell to show the HTML representation or trust the notebook. <br />On GitHub, the HTML representation is unable to render, please try loading this page with nbviewer.org.</b></div><div class=\"sk-container\" hidden><div class=\"sk-item\"><div class=\"sk-estimator sk-toggleable\"><input class=\"sk-toggleable__control sk-hidden--visually\" id=\"sk-estimator-id-5\" type=\"checkbox\" checked><label for=\"sk-estimator-id-5\" class=\"sk-toggleable__label sk-toggleable__label-arrow\">MLPRegressor</label><div class=\"sk-toggleable__content\"><pre>MLPRegressor(hidden_layer_sizes=(100, 50))</pre></div></div></div></div></div>"
            ],
            "text/plain": [
              "MLPRegressor(hidden_layer_sizes=(100, 50))"
            ]
          },
          "execution_count": 27,
          "metadata": {},
          "output_type": "execute_result"
        }
      ],
      "source": [
        "mlp_model.fit(X_train, y_train)"
      ]
    },
    {
      "cell_type": "code",
      "execution_count": null,
      "metadata": {
        "id": "vv7gqtaEIg9C"
      },
      "outputs": [],
      "source": [
        "y_pred_mlp = mlp_model.predict(X_test)\n"
      ]
    },
    {
      "cell_type": "code",
      "execution_count": null,
      "metadata": {
        "colab": {
          "base_uri": "https://localhost:8080/"
        },
        "id": "UQ1mT1phIvGO",
        "outputId": "e9238438-2126-41b5-f2fe-9d9722366597"
      },
      "outputs": [
        {
          "name": "stdout",
          "output_type": "stream",
          "text": [
            "R2 score :  0.5654009643277536\n",
            "RMSE :  248044.46971982645\n",
            "MSE :  61526058958.5899\n",
            "MAE : 168319.69837780044\n"
          ]
        }
      ],
      "source": [
        "print(\"R2 score : \", r2_score(y_test, y_pred_mlp))\n",
        "print(\"RMSE : \", np.sqrt(mean_squared_error(y_test, y_pred_mlp)))\n",
        "print(\"MSE : \", mean_squared_error(y_test, y_pred_mlp))\n",
        "print(\"MAE :\", mean_absolute_error(y_test, y_pred_mlp))"
      ]
    },
    {
      "cell_type": "markdown",
      "metadata": {
        "id": "fhhRntFOstL-"
      },
      "source": [
        "# Neuronal Network "
      ]
    },
    {
      "cell_type": "code",
      "execution_count": null,
      "metadata": {
        "id": "Ar9YLNdGstL-"
      },
      "outputs": [],
      "source": [
        "from keras.models import Sequential\n",
        "from keras.layers import Dense\n",
        "from keras.optimizers import Adam"
      ]
    },
    {
      "cell_type": "code",
      "execution_count": null,
      "metadata": {
        "id": "GXKZK5IGstL-"
      },
      "outputs": [],
      "source": [
        "model = Sequential()\n",
        "model.add(Dense(64, activation='relu', input_shape=(X_train.shape[1],)))\n",
        "model.add(Dropout(0.2))\n",
        "model.add(Dense(1))"
      ]
    },
    {
      "cell_type": "code",
      "execution_count": null,
      "metadata": {
        "colab": {
          "base_uri": "https://localhost:8080/"
        },
        "id": "kHMC19KzstL-",
        "outputId": "a69adb53-1efe-44ec-c99a-d49b3f4c18d0"
      },
      "outputs": [
        {
          "name": "stderr",
          "output_type": "stream",
          "text": [
            "/usr/local/lib/python3.9/dist-packages/keras/optimizers/optimizer_v2/adam.py:117: UserWarning: The `lr` argument is deprecated, use `learning_rate` instead.\n",
            "  super().__init__(name, **kwargs)\n"
          ]
        }
      ],
      "source": [
        "model.compile(loss='mean_squared_error', optimizer=Adam(lr=0.01))"
      ]
    },
    {
      "cell_type": "code",
      "execution_count": null,
      "metadata": {
        "colab": {
          "base_uri": "https://localhost:8080/"
        },
        "id": "sFmkK7ZxstL_",
        "outputId": "4d3c699c-f283-493e-dff1-6354dbd99510"
      },
      "outputs": [
        {
          "name": "stdout",
          "output_type": "stream",
          "text": [
            "Epoch 1/100\n",
            "362/362 [==============================] - 5s 10ms/step - loss: 130349711360.0000 - val_loss: 105619521536.0000\n",
            "Epoch 2/100\n",
            "362/362 [==============================] - 2s 6ms/step - loss: 82859630592.0000 - val_loss: 66503950336.0000\n",
            "Epoch 3/100\n",
            "362/362 [==============================] - 1s 3ms/step - loss: 66516852736.0000 - val_loss: 60952924160.0000\n",
            "Epoch 4/100\n",
            "362/362 [==============================] - 1s 2ms/step - loss: 63251554304.0000 - val_loss: 60739403776.0000\n",
            "Epoch 5/100\n",
            "362/362 [==============================] - 1s 2ms/step - loss: 62028410880.0000 - val_loss: 61536038912.0000\n",
            "Epoch 6/100\n",
            "362/362 [==============================] - 1s 3ms/step - loss: 62543196160.0000 - val_loss: 60685365248.0000\n",
            "Epoch 7/100\n",
            "362/362 [==============================] - 1s 3ms/step - loss: 61665177600.0000 - val_loss: 57776193536.0000\n",
            "Epoch 8/100\n",
            "362/362 [==============================] - 1s 3ms/step - loss: 60698832896.0000 - val_loss: 58074357760.0000\n",
            "Epoch 9/100\n",
            "362/362 [==============================] - 1s 2ms/step - loss: 59817869312.0000 - val_loss: 58627235840.0000\n",
            "Epoch 10/100\n",
            "362/362 [==============================] - 1s 3ms/step - loss: 60728315904.0000 - val_loss: 57120231424.0000\n",
            "Epoch 11/100\n",
            "362/362 [==============================] - 1s 3ms/step - loss: 59932893184.0000 - val_loss: 58544623616.0000\n",
            "Epoch 12/100\n",
            "362/362 [==============================] - 1s 4ms/step - loss: 59927293952.0000 - val_loss: 59103395840.0000\n",
            "Epoch 13/100\n",
            "362/362 [==============================] - 1s 3ms/step - loss: 59739549696.0000 - val_loss: 57338920960.0000\n",
            "Epoch 14/100\n",
            "362/362 [==============================] - 1s 3ms/step - loss: 60859248640.0000 - val_loss: 61248421888.0000\n",
            "Epoch 15/100\n",
            "362/362 [==============================] - 1s 2ms/step - loss: 59761950720.0000 - val_loss: 58627788800.0000\n",
            "Epoch 16/100\n",
            "362/362 [==============================] - 1s 3ms/step - loss: 59514060800.0000 - val_loss: 58308804608.0000\n",
            "Epoch 17/100\n",
            "362/362 [==============================] - 1s 3ms/step - loss: 58571276288.0000 - val_loss: 58470989824.0000\n",
            "Epoch 18/100\n",
            "362/362 [==============================] - 1s 3ms/step - loss: 60157550592.0000 - val_loss: 58782810112.0000\n",
            "Epoch 19/100\n",
            "362/362 [==============================] - 1s 3ms/step - loss: 59108769792.0000 - val_loss: 62143307776.0000\n",
            "Epoch 20/100\n",
            "362/362 [==============================] - 1s 3ms/step - loss: 59754692608.0000 - val_loss: 61145956352.0000\n",
            "Epoch 21/100\n",
            "362/362 [==============================] - 1s 3ms/step - loss: 59617869824.0000 - val_loss: 60594237440.0000\n",
            "Epoch 22/100\n",
            "362/362 [==============================] - 1s 3ms/step - loss: 60630638592.0000 - val_loss: 57011466240.0000\n",
            "Epoch 23/100\n",
            "362/362 [==============================] - 1s 3ms/step - loss: 59031281664.0000 - val_loss: 57858846720.0000\n",
            "Epoch 24/100\n",
            "362/362 [==============================] - 2s 4ms/step - loss: 59001147392.0000 - val_loss: 60564770816.0000\n",
            "Epoch 25/100\n",
            "362/362 [==============================] - 2s 6ms/step - loss: 58854883328.0000 - val_loss: 58903801856.0000\n",
            "Epoch 26/100\n",
            "362/362 [==============================] - 2s 6ms/step - loss: 58455449600.0000 - val_loss: 65201844224.0000\n",
            "Epoch 27/100\n",
            "362/362 [==============================] - 2s 6ms/step - loss: 58712895488.0000 - val_loss: 58249502720.0000\n",
            "Epoch 28/100\n",
            "362/362 [==============================] - 1s 3ms/step - loss: 58386411520.0000 - val_loss: 55696330752.0000\n",
            "Epoch 29/100\n",
            "362/362 [==============================] - 1s 3ms/step - loss: 56432533504.0000 - val_loss: 55646879744.0000\n",
            "Epoch 30/100\n",
            "362/362 [==============================] - 1s 3ms/step - loss: 58249920512.0000 - val_loss: 64049324032.0000\n",
            "Epoch 31/100\n",
            "362/362 [==============================] - 1s 3ms/step - loss: 58310811648.0000 - val_loss: 56733794304.0000\n",
            "Epoch 32/100\n",
            "362/362 [==============================] - 2s 5ms/step - loss: 57196171264.0000 - val_loss: 56631455744.0000\n",
            "Epoch 33/100\n",
            "362/362 [==============================] - 1s 4ms/step - loss: 57035321344.0000 - val_loss: 61548707840.0000\n",
            "Epoch 34/100\n",
            "362/362 [==============================] - 1s 3ms/step - loss: 56540925952.0000 - val_loss: 55811788800.0000\n",
            "Epoch 35/100\n",
            "362/362 [==============================] - 1s 3ms/step - loss: 57599336448.0000 - val_loss: 57823641600.0000\n",
            "Epoch 36/100\n",
            "362/362 [==============================] - 1s 3ms/step - loss: 57381658624.0000 - val_loss: 56121757696.0000\n",
            "Epoch 37/100\n",
            "362/362 [==============================] - 1s 3ms/step - loss: 56751947776.0000 - val_loss: 55912886272.0000\n",
            "Epoch 38/100\n",
            "362/362 [==============================] - 1s 3ms/step - loss: 58060750848.0000 - val_loss: 60387930112.0000\n",
            "Epoch 39/100\n",
            "362/362 [==============================] - 1s 3ms/step - loss: 57800413184.0000 - val_loss: 56291713024.0000\n",
            "Epoch 40/100\n",
            "362/362 [==============================] - 1s 3ms/step - loss: 57699823616.0000 - val_loss: 56133238784.0000\n",
            "Epoch 41/100\n",
            "362/362 [==============================] - 1s 3ms/step - loss: 57830674432.0000 - val_loss: 55490703360.0000\n",
            "Epoch 42/100\n",
            "362/362 [==============================] - 1s 3ms/step - loss: 57878855680.0000 - val_loss: 59497426944.0000\n",
            "Epoch 43/100\n",
            "362/362 [==============================] - 2s 4ms/step - loss: 57495040000.0000 - val_loss: 55946428416.0000\n",
            "Epoch 44/100\n",
            "362/362 [==============================] - 2s 4ms/step - loss: 57371918336.0000 - val_loss: 55208771584.0000\n",
            "Epoch 45/100\n",
            "362/362 [==============================] - 1s 3ms/step - loss: 57727127552.0000 - val_loss: 58785492992.0000\n",
            "Epoch 46/100\n",
            "362/362 [==============================] - 1s 3ms/step - loss: 57355669504.0000 - val_loss: 56102633472.0000\n",
            "Epoch 47/100\n",
            "362/362 [==============================] - 1s 3ms/step - loss: 56874651648.0000 - val_loss: 55721660416.0000\n",
            "Epoch 48/100\n",
            "362/362 [==============================] - 1s 3ms/step - loss: 57852006400.0000 - val_loss: 57025171456.0000\n",
            "Epoch 49/100\n",
            "362/362 [==============================] - 1s 3ms/step - loss: 56819834880.0000 - val_loss: 55915663360.0000\n",
            "Epoch 50/100\n",
            "362/362 [==============================] - 1s 3ms/step - loss: 55749197824.0000 - val_loss: 58365517824.0000\n",
            "Epoch 51/100\n",
            "362/362 [==============================] - 1s 3ms/step - loss: 57870360576.0000 - val_loss: 55485554688.0000\n",
            "Epoch 52/100\n",
            "362/362 [==============================] - 1s 3ms/step - loss: 56799760384.0000 - val_loss: 55605215232.0000\n",
            "Epoch 53/100\n",
            "362/362 [==============================] - 1s 3ms/step - loss: 58351046656.0000 - val_loss: 58050686976.0000\n",
            "Epoch 54/100\n",
            "362/362 [==============================] - 1s 3ms/step - loss: 58240045056.0000 - val_loss: 56304787456.0000\n",
            "Epoch 55/100\n",
            "362/362 [==============================] - 1s 4ms/step - loss: 56973635584.0000 - val_loss: 55857664000.0000\n",
            "Epoch 56/100\n",
            "362/362 [==============================] - 2s 5ms/step - loss: 57536851968.0000 - val_loss: 54703652864.0000\n",
            "Epoch 57/100\n",
            "362/362 [==============================] - 1s 3ms/step - loss: 56966258688.0000 - val_loss: 55565430784.0000\n",
            "Epoch 58/100\n",
            "362/362 [==============================] - 1s 3ms/step - loss: 56727384064.0000 - val_loss: 56662274048.0000\n",
            "Epoch 59/100\n",
            "362/362 [==============================] - 1s 3ms/step - loss: 57057841152.0000 - val_loss: 56131297280.0000\n",
            "Epoch 60/100\n",
            "362/362 [==============================] - 1s 3ms/step - loss: 57106432000.0000 - val_loss: 57162002432.0000\n",
            "Epoch 61/100\n",
            "362/362 [==============================] - 1s 3ms/step - loss: 56996057088.0000 - val_loss: 55509757952.0000\n",
            "Epoch 62/100\n",
            "362/362 [==============================] - 1s 3ms/step - loss: 56949288960.0000 - val_loss: 56910897152.0000\n",
            "Epoch 63/100\n",
            "362/362 [==============================] - 1s 3ms/step - loss: 57478504448.0000 - val_loss: 56916652032.0000\n",
            "Epoch 64/100\n",
            "362/362 [==============================] - 1s 4ms/step - loss: 57280950272.0000 - val_loss: 57675218944.0000\n",
            "Epoch 65/100\n",
            "362/362 [==============================] - 1s 3ms/step - loss: 56205631488.0000 - val_loss: 55291617280.0000\n",
            "Epoch 66/100\n",
            "362/362 [==============================] - 2s 5ms/step - loss: 57029038080.0000 - val_loss: 56058564608.0000\n",
            "Epoch 67/100\n",
            "362/362 [==============================] - 1s 4ms/step - loss: 57152798720.0000 - val_loss: 56628772864.0000\n",
            "Epoch 68/100\n",
            "362/362 [==============================] - 1s 3ms/step - loss: 56707006464.0000 - val_loss: 55682416640.0000\n",
            "Epoch 69/100\n",
            "362/362 [==============================] - 1s 3ms/step - loss: 57880010752.0000 - val_loss: 56076984320.0000\n",
            "Epoch 70/100\n",
            "362/362 [==============================] - 1s 3ms/step - loss: 56574627840.0000 - val_loss: 55310065664.0000\n",
            "Epoch 71/100\n",
            "362/362 [==============================] - 1s 2ms/step - loss: 57581318144.0000 - val_loss: 57118375936.0000\n",
            "Epoch 72/100\n",
            "362/362 [==============================] - 1s 3ms/step - loss: 56771571712.0000 - val_loss: 56669999104.0000\n",
            "Epoch 73/100\n",
            "362/362 [==============================] - 1s 3ms/step - loss: 56921722880.0000 - val_loss: 55360172032.0000\n",
            "Epoch 74/100\n",
            "362/362 [==============================] - 1s 3ms/step - loss: 57648848896.0000 - val_loss: 57195765760.0000\n",
            "Epoch 75/100\n",
            "362/362 [==============================] - 1s 3ms/step - loss: 56947154944.0000 - val_loss: 60914499584.0000\n",
            "Epoch 76/100\n",
            "362/362 [==============================] - 1s 3ms/step - loss: 56933867520.0000 - val_loss: 55683928064.0000\n",
            "Epoch 77/100\n",
            "362/362 [==============================] - 2s 4ms/step - loss: 57165938688.0000 - val_loss: 55621263360.0000\n",
            "Epoch 78/100\n",
            "362/362 [==============================] - 2s 5ms/step - loss: 56995581952.0000 - val_loss: 56577425408.0000\n",
            "Epoch 79/100\n",
            "362/362 [==============================] - 1s 3ms/step - loss: 56160059392.0000 - val_loss: 58967621632.0000\n",
            "Epoch 80/100\n",
            "362/362 [==============================] - 1s 3ms/step - loss: 56674836480.0000 - val_loss: 55958745088.0000\n",
            "Epoch 81/100\n",
            "362/362 [==============================] - 1s 3ms/step - loss: 56419098624.0000 - val_loss: 55170904064.0000\n",
            "Epoch 82/100\n",
            "362/362 [==============================] - 1s 3ms/step - loss: 56387543040.0000 - val_loss: 56538132480.0000\n",
            "Epoch 83/100\n",
            "362/362 [==============================] - 1s 3ms/step - loss: 57166389248.0000 - val_loss: 55411765248.0000\n",
            "Epoch 84/100\n",
            "362/362 [==============================] - 1s 3ms/step - loss: 56693239808.0000 - val_loss: 57887612928.0000\n",
            "Epoch 85/100\n",
            "362/362 [==============================] - 2s 4ms/step - loss: 56454176768.0000 - val_loss: 54893154304.0000\n",
            "Epoch 86/100\n",
            "362/362 [==============================] - 1s 3ms/step - loss: 55829000192.0000 - val_loss: 54488121344.0000\n",
            "Epoch 87/100\n",
            "362/362 [==============================] - 1s 3ms/step - loss: 56232845312.0000 - val_loss: 56132669440.0000\n",
            "Epoch 88/100\n",
            "362/362 [==============================] - 2s 5ms/step - loss: 56657674240.0000 - val_loss: 59243200512.0000\n",
            "Epoch 89/100\n",
            "362/362 [==============================] - 1s 4ms/step - loss: 57006252032.0000 - val_loss: 55493210112.0000\n",
            "Epoch 90/100\n",
            "362/362 [==============================] - 1s 3ms/step - loss: 57289580544.0000 - val_loss: 56840744960.0000\n",
            "Epoch 91/100\n",
            "362/362 [==============================] - 1s 4ms/step - loss: 56579969024.0000 - val_loss: 55479316480.0000\n",
            "Epoch 92/100\n",
            "362/362 [==============================] - 1s 3ms/step - loss: 56307843072.0000 - val_loss: 54750064640.0000\n",
            "Epoch 93/100\n",
            "362/362 [==============================] - 1s 3ms/step - loss: 57106923520.0000 - val_loss: 55930478592.0000\n",
            "Epoch 94/100\n",
            "362/362 [==============================] - 1s 3ms/step - loss: 56176627712.0000 - val_loss: 57079234560.0000\n",
            "Epoch 95/100\n",
            "362/362 [==============================] - 1s 3ms/step - loss: 56924119040.0000 - val_loss: 55493402624.0000\n",
            "Epoch 96/100\n",
            "362/362 [==============================] - 1s 3ms/step - loss: 56580837376.0000 - val_loss: 61588004864.0000\n",
            "Epoch 97/100\n",
            "362/362 [==============================] - 1s 3ms/step - loss: 55827578880.0000 - val_loss: 55033217024.0000\n",
            "Epoch 98/100\n",
            "362/362 [==============================] - 2s 5ms/step - loss: 56983724032.0000 - val_loss: 55230414848.0000\n",
            "Epoch 99/100\n",
            "362/362 [==============================] - 2s 5ms/step - loss: 55896170496.0000 - val_loss: 54352429056.0000\n",
            "Epoch 100/100\n",
            "362/362 [==============================] - 1s 3ms/step - loss: 57560989696.0000 - val_loss: 57595682816.0000\n"
          ]
        }
      ],
      "source": [
        "history = model.fit(X_train, y_train, epochs=100, batch_size=32, validation_split=0.2)"
      ]
    },
    {
      "cell_type": "code",
      "execution_count": null,
      "metadata": {
        "colab": {
          "base_uri": "https://localhost:8080/"
        },
        "id": "UBTFQE3DstL_",
        "outputId": "29d2d348-762f-4d11-894a-94e3817c9a72"
      },
      "outputs": [
        {
          "name": "stdout",
          "output_type": "stream",
          "text": [
            "151/151 [==============================] - 0s 2ms/step\n"
          ]
        }
      ],
      "source": [
        "y_pred_neurone = model.predict(X_test)"
      ]
    },
    {
      "cell_type": "code",
      "execution_count": null,
      "metadata": {
        "colab": {
          "base_uri": "https://localhost:8080/"
        },
        "id": "DOE2UnysstL_",
        "outputId": "737f386f-9350-4f59-d4eb-2d0d9e07a2ab"
      },
      "outputs": [
        {
          "name": "stdout",
          "output_type": "stream",
          "text": [
            "R2 score :  0.5603324218892574\n",
            "RMSE :  249486.69510825898\n",
            "MSE :  62243611036.041374\n",
            "MAE : 157189.59336949483\n"
          ]
        }
      ],
      "source": [
        "print(\"R2 score : \", r2_score(y_test, y_pred_neurone))\n",
        "print(\"RMSE : \", np.sqrt(mean_squared_error(y_test, y_pred_neurone)))\n",
        "print(\"MSE : \", mean_squared_error(y_test, y_pred_neurone))\n",
        "print(\"MAE :\", mean_absolute_error(y_test, y_pred_neurone))"
      ]
    },
    {
      "cell_type": "markdown",
      "metadata": {
        "id": "3AdAoanZdKUP"
      },
      "source": [
        "# KNN(k-nearest neighbors)"
      ]
    },
    {
      "cell_type": "markdown",
      "metadata": {},
      "source": [
        "Un modèle KNN (k-nearest neighbors) est un algorithme d'apprentissage automatique utilisé pour résoudre des problèmes de classification et de régression. Il appartient à la catégorie des méthodes d'apprentissage supervisé, ce qui signifie qu'il utilise un ensemble de données d'entraînement avec des étiquettes (dans le cas de la classification) ou des valeurs cibles (dans le cas de la régression) pour effectuer des prédictions sur de nouvelles données.\n",
        "Le principe fondamental du modèle KNN est basé sur la similarité des données : il suppose que des points de données similaires ont tendance à avoir la même étiquette (en classification) ou une valeur cible similaire (en régression). L'idée centrale est de trouver les k voisins les plus proches (d'où le nom \"k-nearest neighbors\") d'un point de données donné dans l'ensemble de données d'entraînement, puis d'utiliser les étiquettes ou les valeurs cibles de ces voisins pour faire une prédiction."
      ]
    },
    {
      "cell_type": "code",
      "execution_count": null,
      "metadata": {
        "id": "rdhRBgF1dNL_"
      },
      "outputs": [],
      "source": [
        "from sklearn.neighbors import KNeighborsRegressor"
      ]
    },
    {
      "cell_type": "code",
      "execution_count": null,
      "metadata": {
        "id": "37pAleeZdTzs"
      },
      "outputs": [],
      "source": [
        "hyperparameters = {'n_neighbors': range(1, 10), 'weights': ['uniform', 'distance']}"
      ]
    },
    {
      "cell_type": "code",
      "execution_count": null,
      "metadata": {
        "id": "dpJMekF3dW4D"
      },
      "outputs": [],
      "source": [
        "# initialiser le modèle KNN\n",
        "knn = KNeighborsRegressor()\n",
        "\n",
        "# initialiser la recherche de grille avec validation croisée\n",
        "grid_search = GridSearchCV(knn, hyperparameters, cv=5)"
      ]
    },
    {
      "cell_type": "code",
      "execution_count": null,
      "metadata": {
        "colab": {
          "base_uri": "https://localhost:8080/",
          "height": 117
        },
        "id": "evWyOwYAdbK2",
        "outputId": "d15e04d5-5b61-4bd8-d9dc-f3d4fc6319df"
      },
      "outputs": [
        {
          "data": {
            "text/html": [
              "<style>#sk-container-id-2 {color: black;background-color: white;}#sk-container-id-2 pre{padding: 0;}#sk-container-id-2 div.sk-toggleable {background-color: white;}#sk-container-id-2 label.sk-toggleable__label {cursor: pointer;display: block;width: 100%;margin-bottom: 0;padding: 0.3em;box-sizing: border-box;text-align: center;}#sk-container-id-2 label.sk-toggleable__label-arrow:before {content: \"▸\";float: left;margin-right: 0.25em;color: #696969;}#sk-container-id-2 label.sk-toggleable__label-arrow:hover:before {color: black;}#sk-container-id-2 div.sk-estimator:hover label.sk-toggleable__label-arrow:before {color: black;}#sk-container-id-2 div.sk-toggleable__content {max-height: 0;max-width: 0;overflow: hidden;text-align: left;background-color: #f0f8ff;}#sk-container-id-2 div.sk-toggleable__content pre {margin: 0.2em;color: black;border-radius: 0.25em;background-color: #f0f8ff;}#sk-container-id-2 input.sk-toggleable__control:checked~div.sk-toggleable__content {max-height: 200px;max-width: 100%;overflow: auto;}#sk-container-id-2 input.sk-toggleable__control:checked~label.sk-toggleable__label-arrow:before {content: \"▾\";}#sk-container-id-2 div.sk-estimator input.sk-toggleable__control:checked~label.sk-toggleable__label {background-color: #d4ebff;}#sk-container-id-2 div.sk-label input.sk-toggleable__control:checked~label.sk-toggleable__label {background-color: #d4ebff;}#sk-container-id-2 input.sk-hidden--visually {border: 0;clip: rect(1px 1px 1px 1px);clip: rect(1px, 1px, 1px, 1px);height: 1px;margin: -1px;overflow: hidden;padding: 0;position: absolute;width: 1px;}#sk-container-id-2 div.sk-estimator {font-family: monospace;background-color: #f0f8ff;border: 1px dotted black;border-radius: 0.25em;box-sizing: border-box;margin-bottom: 0.5em;}#sk-container-id-2 div.sk-estimator:hover {background-color: #d4ebff;}#sk-container-id-2 div.sk-parallel-item::after {content: \"\";width: 100%;border-bottom: 1px solid gray;flex-grow: 1;}#sk-container-id-2 div.sk-label:hover label.sk-toggleable__label {background-color: #d4ebff;}#sk-container-id-2 div.sk-serial::before {content: \"\";position: absolute;border-left: 1px solid gray;box-sizing: border-box;top: 0;bottom: 0;left: 50%;z-index: 0;}#sk-container-id-2 div.sk-serial {display: flex;flex-direction: column;align-items: center;background-color: white;padding-right: 0.2em;padding-left: 0.2em;position: relative;}#sk-container-id-2 div.sk-item {position: relative;z-index: 1;}#sk-container-id-2 div.sk-parallel {display: flex;align-items: stretch;justify-content: center;background-color: white;position: relative;}#sk-container-id-2 div.sk-item::before, #sk-container-id-2 div.sk-parallel-item::before {content: \"\";position: absolute;border-left: 1px solid gray;box-sizing: border-box;top: 0;bottom: 0;left: 50%;z-index: -1;}#sk-container-id-2 div.sk-parallel-item {display: flex;flex-direction: column;z-index: 1;position: relative;background-color: white;}#sk-container-id-2 div.sk-parallel-item:first-child::after {align-self: flex-end;width: 50%;}#sk-container-id-2 div.sk-parallel-item:last-child::after {align-self: flex-start;width: 50%;}#sk-container-id-2 div.sk-parallel-item:only-child::after {width: 0;}#sk-container-id-2 div.sk-dashed-wrapped {border: 1px dashed gray;margin: 0 0.4em 0.5em 0.4em;box-sizing: border-box;padding-bottom: 0.4em;background-color: white;}#sk-container-id-2 div.sk-label label {font-family: monospace;font-weight: bold;display: inline-block;line-height: 1.2em;}#sk-container-id-2 div.sk-label-container {text-align: center;}#sk-container-id-2 div.sk-container {/* jupyter's `normalize.less` sets `[hidden] { display: none; }` but bootstrap.min.css set `[hidden] { display: none !important; }` so we also need the `!important` here to be able to override the default hidden behavior on the sphinx rendered scikit-learn.org. See: https://github.com/scikit-learn/scikit-learn/issues/21755 */display: inline-block !important;position: relative;}#sk-container-id-2 div.sk-text-repr-fallback {display: none;}</style><div id=\"sk-container-id-2\" class=\"sk-top-container\"><div class=\"sk-text-repr-fallback\"><pre>GridSearchCV(cv=5, estimator=KNeighborsRegressor(),\n",
              "             param_grid={&#x27;n_neighbors&#x27;: range(1, 10),\n",
              "                         &#x27;weights&#x27;: [&#x27;uniform&#x27;, &#x27;distance&#x27;]})</pre><b>In a Jupyter environment, please rerun this cell to show the HTML representation or trust the notebook. <br />On GitHub, the HTML representation is unable to render, please try loading this page with nbviewer.org.</b></div><div class=\"sk-container\" hidden><div class=\"sk-item sk-dashed-wrapped\"><div class=\"sk-label-container\"><div class=\"sk-label sk-toggleable\"><input class=\"sk-toggleable__control sk-hidden--visually\" id=\"sk-estimator-id-2\" type=\"checkbox\" ><label for=\"sk-estimator-id-2\" class=\"sk-toggleable__label sk-toggleable__label-arrow\">GridSearchCV</label><div class=\"sk-toggleable__content\"><pre>GridSearchCV(cv=5, estimator=KNeighborsRegressor(),\n",
              "             param_grid={&#x27;n_neighbors&#x27;: range(1, 10),\n",
              "                         &#x27;weights&#x27;: [&#x27;uniform&#x27;, &#x27;distance&#x27;]})</pre></div></div></div><div class=\"sk-parallel\"><div class=\"sk-parallel-item\"><div class=\"sk-item\"><div class=\"sk-label-container\"><div class=\"sk-label sk-toggleable\"><input class=\"sk-toggleable__control sk-hidden--visually\" id=\"sk-estimator-id-3\" type=\"checkbox\" ><label for=\"sk-estimator-id-3\" class=\"sk-toggleable__label sk-toggleable__label-arrow\">estimator: KNeighborsRegressor</label><div class=\"sk-toggleable__content\"><pre>KNeighborsRegressor()</pre></div></div></div><div class=\"sk-serial\"><div class=\"sk-item\"><div class=\"sk-estimator sk-toggleable\"><input class=\"sk-toggleable__control sk-hidden--visually\" id=\"sk-estimator-id-4\" type=\"checkbox\" ><label for=\"sk-estimator-id-4\" class=\"sk-toggleable__label sk-toggleable__label-arrow\">KNeighborsRegressor</label><div class=\"sk-toggleable__content\"><pre>KNeighborsRegressor()</pre></div></div></div></div></div></div></div></div></div></div>"
            ],
            "text/plain": [
              "GridSearchCV(cv=5, estimator=KNeighborsRegressor(),\n",
              "             param_grid={'n_neighbors': range(1, 10),\n",
              "                         'weights': ['uniform', 'distance']})"
            ]
          },
          "execution_count": 27,
          "metadata": {},
          "output_type": "execute_result"
        }
      ],
      "source": [
        "# entraîner la recherche de grille sur les données d'apprentissage\n",
        "grid_search.fit(X_train, y_train)"
      ]
    },
    {
      "cell_type": "code",
      "execution_count": null,
      "metadata": {
        "colab": {
          "base_uri": "https://localhost:8080/"
        },
        "id": "lqmT8_UBdfbz",
        "outputId": "2f4107f8-668b-448c-fbb8-60a8078e3d6d"
      },
      "outputs": [
        {
          "name": "stdout",
          "output_type": "stream",
          "text": [
            "Hyperparameters optimaux: {'n_neighbors': 9, 'weights': 'distance'}\n"
          ]
        }
      ],
      "source": [
        "print(\"Hyperparameters optimaux:\", grid_search.best_params_)"
      ]
    },
    {
      "cell_type": "code",
      "execution_count": null,
      "metadata": {
        "colab": {
          "base_uri": "https://localhost:8080/"
        },
        "id": "9yUGQbTFd65I",
        "outputId": "b73c214b-088a-4f5c-a639-0616de6dd686"
      },
      "outputs": [
        {
          "data": {
            "text/html": [
              "<style>#sk-container-id-4 {color: black;background-color: white;}#sk-container-id-4 pre{padding: 0;}#sk-container-id-4 div.sk-toggleable {background-color: white;}#sk-container-id-4 label.sk-toggleable__label {cursor: pointer;display: block;width: 100%;margin-bottom: 0;padding: 0.3em;box-sizing: border-box;text-align: center;}#sk-container-id-4 label.sk-toggleable__label-arrow:before {content: \"▸\";float: left;margin-right: 0.25em;color: #696969;}#sk-container-id-4 label.sk-toggleable__label-arrow:hover:before {color: black;}#sk-container-id-4 div.sk-estimator:hover label.sk-toggleable__label-arrow:before {color: black;}#sk-container-id-4 div.sk-toggleable__content {max-height: 0;max-width: 0;overflow: hidden;text-align: left;background-color: #f0f8ff;}#sk-container-id-4 div.sk-toggleable__content pre {margin: 0.2em;color: black;border-radius: 0.25em;background-color: #f0f8ff;}#sk-container-id-4 input.sk-toggleable__control:checked~div.sk-toggleable__content {max-height: 200px;max-width: 100%;overflow: auto;}#sk-container-id-4 input.sk-toggleable__control:checked~label.sk-toggleable__label-arrow:before {content: \"▾\";}#sk-container-id-4 div.sk-estimator input.sk-toggleable__control:checked~label.sk-toggleable__label {background-color: #d4ebff;}#sk-container-id-4 div.sk-label input.sk-toggleable__control:checked~label.sk-toggleable__label {background-color: #d4ebff;}#sk-container-id-4 input.sk-hidden--visually {border: 0;clip: rect(1px 1px 1px 1px);clip: rect(1px, 1px, 1px, 1px);height: 1px;margin: -1px;overflow: hidden;padding: 0;position: absolute;width: 1px;}#sk-container-id-4 div.sk-estimator {font-family: monospace;background-color: #f0f8ff;border: 1px dotted black;border-radius: 0.25em;box-sizing: border-box;margin-bottom: 0.5em;}#sk-container-id-4 div.sk-estimator:hover {background-color: #d4ebff;}#sk-container-id-4 div.sk-parallel-item::after {content: \"\";width: 100%;border-bottom: 1px solid gray;flex-grow: 1;}#sk-container-id-4 div.sk-label:hover label.sk-toggleable__label {background-color: #d4ebff;}#sk-container-id-4 div.sk-serial::before {content: \"\";position: absolute;border-left: 1px solid gray;box-sizing: border-box;top: 0;bottom: 0;left: 50%;z-index: 0;}#sk-container-id-4 div.sk-serial {display: flex;flex-direction: column;align-items: center;background-color: white;padding-right: 0.2em;padding-left: 0.2em;position: relative;}#sk-container-id-4 div.sk-item {position: relative;z-index: 1;}#sk-container-id-4 div.sk-parallel {display: flex;align-items: stretch;justify-content: center;background-color: white;position: relative;}#sk-container-id-4 div.sk-item::before, #sk-container-id-4 div.sk-parallel-item::before {content: \"\";position: absolute;border-left: 1px solid gray;box-sizing: border-box;top: 0;bottom: 0;left: 50%;z-index: -1;}#sk-container-id-4 div.sk-parallel-item {display: flex;flex-direction: column;z-index: 1;position: relative;background-color: white;}#sk-container-id-4 div.sk-parallel-item:first-child::after {align-self: flex-end;width: 50%;}#sk-container-id-4 div.sk-parallel-item:last-child::after {align-self: flex-start;width: 50%;}#sk-container-id-4 div.sk-parallel-item:only-child::after {width: 0;}#sk-container-id-4 div.sk-dashed-wrapped {border: 1px dashed gray;margin: 0 0.4em 0.5em 0.4em;box-sizing: border-box;padding-bottom: 0.4em;background-color: white;}#sk-container-id-4 div.sk-label label {font-family: monospace;font-weight: bold;display: inline-block;line-height: 1.2em;}#sk-container-id-4 div.sk-label-container {text-align: center;}#sk-container-id-4 div.sk-container {/* jupyter's `normalize.less` sets `[hidden] { display: none; }` but bootstrap.min.css set `[hidden] { display: none !important; }` so we also need the `!important` here to be able to override the default hidden behavior on the sphinx rendered scikit-learn.org. See: https://github.com/scikit-learn/scikit-learn/issues/21755 */display: inline-block !important;position: relative;}#sk-container-id-4 div.sk-text-repr-fallback {display: none;}</style><div id=\"sk-container-id-4\" class=\"sk-top-container\"><div class=\"sk-text-repr-fallback\"><pre>KNeighborsRegressor(n_neighbors=9, weights=&#x27;distance&#x27;)</pre><b>In a Jupyter environment, please rerun this cell to show the HTML representation or trust the notebook. <br />On GitHub, the HTML representation is unable to render, please try loading this page with nbviewer.org.</b></div><div class=\"sk-container\" hidden><div class=\"sk-item\"><div class=\"sk-estimator sk-toggleable\"><input class=\"sk-toggleable__control sk-hidden--visually\" id=\"sk-estimator-id-6\" type=\"checkbox\" checked><label for=\"sk-estimator-id-6\" class=\"sk-toggleable__label sk-toggleable__label-arrow\">KNeighborsRegressor</label><div class=\"sk-toggleable__content\"><pre>KNeighborsRegressor(n_neighbors=9, weights=&#x27;distance&#x27;)</pre></div></div></div></div></div>"
            ],
            "text/plain": [
              "KNeighborsRegressor(n_neighbors=9, weights='distance')"
            ]
          },
          "execution_count": 37,
          "metadata": {},
          "output_type": "execute_result"
        }
      ],
      "source": [
        "knn = KNeighborsRegressor(n_neighbors=9, weights='distance')\n",
        "knn.fit(X_train, y_train)"
      ]
    },
    {
      "cell_type": "code",
      "execution_count": null,
      "metadata": {
        "id": "idYpmNQMd_s-"
      },
      "outputs": [],
      "source": [
        "y_pred_knn = knn.predict(X_test)"
      ]
    },
    {
      "cell_type": "code",
      "execution_count": null,
      "metadata": {
        "colab": {
          "base_uri": "https://localhost:8080/"
        },
        "id": "Ulqb6mtAeGvt",
        "outputId": "66951ac7-8c6f-48b0-d861-0d193097a5e5"
      },
      "outputs": [
        {
          "name": "stdout",
          "output_type": "stream",
          "text": [
            "R2 score :  0.48496628281329857\n",
            "RMSE :  270024.39409107255\n",
            "MSE :  72913173404.25085\n",
            "MAE : 160286.6678020077\n"
          ]
        }
      ],
      "source": [
        "print(\"R2 score : \", r2_score(y_test, y_pred_knn))\n",
        "print(\"RMSE : \", np.sqrt(mean_squared_error(y_test, y_pred_knn)))\n",
        "print(\"MSE : \", mean_squared_error(y_test, y_pred_knn))\n",
        "print(\"MAE :\", mean_absolute_error(y_test, y_pred_knn))"
      ]
    },
    {
      "cell_type": "markdown",
      "metadata": {
        "id": "Vr4aBJi-4acL"
      },
      "source": [
        "# GradientBoosting "
      ]
    },
    {
      "cell_type": "markdown",
      "metadata": {},
      "source": [
        "Un modèle de gradient boosting, également appelé \"Gradient Boosting Machine\" ou GBM, est une technique d'apprentissage automatique qui appartient à la famille des méthodes d'ensemble. Les méthodes de gradient boosting sont utilisées pour résoudre des problèmes de classification et de régression, et elles sont connues pour leur performance élevée dans une variété de domaines.\n",
        "\n",
        "Le gradient boosting fonctionne en construisant itérativement un modèle prédictif fort en combinant plusieurs modèles faibles, généralement des arbres de décision peu profonds. Le processus de construction du modèle se fait de manière séquentielle, en corrigeant les erreurs des modèles précédents. "
      ]
    },
    {
      "cell_type": "code",
      "execution_count": 20,
      "metadata": {
        "id": "PCEoa-B14eS6"
      },
      "outputs": [],
      "source": [
        "from sklearn.ensemble import GradientBoostingRegressor"
      ]
    },
    {
      "cell_type": "code",
      "execution_count": null,
      "metadata": {
        "id": "PzrX3Sfv5ilr"
      },
      "outputs": [],
      "source": [
        "params = {\n",
        "    'n_estimators': [100, 500, 1000],\n",
        "    'max_depth': [3, 5, 7],\n",
        "    'learning_rate': [0.01, 0.1, 1],\n",
        "    'subsample': [0.5, 0.8, 1],\n",
        "    'min_samples_leaf': [1, 3, 5],\n",
        "    'max_features': ['auto', 'sqrt', 'log2']\n",
        "}\n",
        "\n",
        "hyperparameters = {'learning_rate': [0.1, 0.01, 0.001], 'n_estimators': [100, 500, 1000], 'max_depth': [3, 5, 7]}\n",
        "\n",
        "# Créer un modèle Gradient Boosting\n",
        "model = GradientBoostingRegressor()"
      ]
    },
    {
      "cell_type": "code",
      "execution_count": null,
      "metadata": {
        "id": "CKzAUUS955A5"
      },
      "outputs": [],
      "source": [
        "grid_search = GridSearchCV(model, hyperparameters, cv=5, n_jobs=-1)"
      ]
    },
    {
      "cell_type": "code",
      "execution_count": null,
      "metadata": {
        "colab": {
          "base_uri": "https://localhost:8080/",
          "height": 117
        },
        "id": "bDp2J1d558zl",
        "outputId": "c8599404-c3dc-4736-a125-1d1938a1d7f8"
      },
      "outputs": [
        {
          "data": {
            "text/html": [
              "<style>#sk-container-id-1 {color: black;background-color: white;}#sk-container-id-1 pre{padding: 0;}#sk-container-id-1 div.sk-toggleable {background-color: white;}#sk-container-id-1 label.sk-toggleable__label {cursor: pointer;display: block;width: 100%;margin-bottom: 0;padding: 0.3em;box-sizing: border-box;text-align: center;}#sk-container-id-1 label.sk-toggleable__label-arrow:before {content: \"▸\";float: left;margin-right: 0.25em;color: #696969;}#sk-container-id-1 label.sk-toggleable__label-arrow:hover:before {color: black;}#sk-container-id-1 div.sk-estimator:hover label.sk-toggleable__label-arrow:before {color: black;}#sk-container-id-1 div.sk-toggleable__content {max-height: 0;max-width: 0;overflow: hidden;text-align: left;background-color: #f0f8ff;}#sk-container-id-1 div.sk-toggleable__content pre {margin: 0.2em;color: black;border-radius: 0.25em;background-color: #f0f8ff;}#sk-container-id-1 input.sk-toggleable__control:checked~div.sk-toggleable__content {max-height: 200px;max-width: 100%;overflow: auto;}#sk-container-id-1 input.sk-toggleable__control:checked~label.sk-toggleable__label-arrow:before {content: \"▾\";}#sk-container-id-1 div.sk-estimator input.sk-toggleable__control:checked~label.sk-toggleable__label {background-color: #d4ebff;}#sk-container-id-1 div.sk-label input.sk-toggleable__control:checked~label.sk-toggleable__label {background-color: #d4ebff;}#sk-container-id-1 input.sk-hidden--visually {border: 0;clip: rect(1px 1px 1px 1px);clip: rect(1px, 1px, 1px, 1px);height: 1px;margin: -1px;overflow: hidden;padding: 0;position: absolute;width: 1px;}#sk-container-id-1 div.sk-estimator {font-family: monospace;background-color: #f0f8ff;border: 1px dotted black;border-radius: 0.25em;box-sizing: border-box;margin-bottom: 0.5em;}#sk-container-id-1 div.sk-estimator:hover {background-color: #d4ebff;}#sk-container-id-1 div.sk-parallel-item::after {content: \"\";width: 100%;border-bottom: 1px solid gray;flex-grow: 1;}#sk-container-id-1 div.sk-label:hover label.sk-toggleable__label {background-color: #d4ebff;}#sk-container-id-1 div.sk-serial::before {content: \"\";position: absolute;border-left: 1px solid gray;box-sizing: border-box;top: 0;bottom: 0;left: 50%;z-index: 0;}#sk-container-id-1 div.sk-serial {display: flex;flex-direction: column;align-items: center;background-color: white;padding-right: 0.2em;padding-left: 0.2em;position: relative;}#sk-container-id-1 div.sk-item {position: relative;z-index: 1;}#sk-container-id-1 div.sk-parallel {display: flex;align-items: stretch;justify-content: center;background-color: white;position: relative;}#sk-container-id-1 div.sk-item::before, #sk-container-id-1 div.sk-parallel-item::before {content: \"\";position: absolute;border-left: 1px solid gray;box-sizing: border-box;top: 0;bottom: 0;left: 50%;z-index: -1;}#sk-container-id-1 div.sk-parallel-item {display: flex;flex-direction: column;z-index: 1;position: relative;background-color: white;}#sk-container-id-1 div.sk-parallel-item:first-child::after {align-self: flex-end;width: 50%;}#sk-container-id-1 div.sk-parallel-item:last-child::after {align-self: flex-start;width: 50%;}#sk-container-id-1 div.sk-parallel-item:only-child::after {width: 0;}#sk-container-id-1 div.sk-dashed-wrapped {border: 1px dashed gray;margin: 0 0.4em 0.5em 0.4em;box-sizing: border-box;padding-bottom: 0.4em;background-color: white;}#sk-container-id-1 div.sk-label label {font-family: monospace;font-weight: bold;display: inline-block;line-height: 1.2em;}#sk-container-id-1 div.sk-label-container {text-align: center;}#sk-container-id-1 div.sk-container {/* jupyter's `normalize.less` sets `[hidden] { display: none; }` but bootstrap.min.css set `[hidden] { display: none !important; }` so we also need the `!important` here to be able to override the default hidden behavior on the sphinx rendered scikit-learn.org. See: https://github.com/scikit-learn/scikit-learn/issues/21755 */display: inline-block !important;position: relative;}#sk-container-id-1 div.sk-text-repr-fallback {display: none;}</style><div id=\"sk-container-id-1\" class=\"sk-top-container\"><div class=\"sk-text-repr-fallback\"><pre>GridSearchCV(cv=5, estimator=GradientBoostingRegressor(), n_jobs=-1,\n",
              "             param_grid={&#x27;learning_rate&#x27;: [0.1, 0.01, 0.001],\n",
              "                         &#x27;max_depth&#x27;: [3, 5, 7],\n",
              "                         &#x27;n_estimators&#x27;: [100, 500, 1000]})</pre><b>In a Jupyter environment, please rerun this cell to show the HTML representation or trust the notebook. <br />On GitHub, the HTML representation is unable to render, please try loading this page with nbviewer.org.</b></div><div class=\"sk-container\" hidden><div class=\"sk-item sk-dashed-wrapped\"><div class=\"sk-label-container\"><div class=\"sk-label sk-toggleable\"><input class=\"sk-toggleable__control sk-hidden--visually\" id=\"sk-estimator-id-1\" type=\"checkbox\" ><label for=\"sk-estimator-id-1\" class=\"sk-toggleable__label sk-toggleable__label-arrow\">GridSearchCV</label><div class=\"sk-toggleable__content\"><pre>GridSearchCV(cv=5, estimator=GradientBoostingRegressor(), n_jobs=-1,\n",
              "             param_grid={&#x27;learning_rate&#x27;: [0.1, 0.01, 0.001],\n",
              "                         &#x27;max_depth&#x27;: [3, 5, 7],\n",
              "                         &#x27;n_estimators&#x27;: [100, 500, 1000]})</pre></div></div></div><div class=\"sk-parallel\"><div class=\"sk-parallel-item\"><div class=\"sk-item\"><div class=\"sk-label-container\"><div class=\"sk-label sk-toggleable\"><input class=\"sk-toggleable__control sk-hidden--visually\" id=\"sk-estimator-id-2\" type=\"checkbox\" ><label for=\"sk-estimator-id-2\" class=\"sk-toggleable__label sk-toggleable__label-arrow\">estimator: GradientBoostingRegressor</label><div class=\"sk-toggleable__content\"><pre>GradientBoostingRegressor()</pre></div></div></div><div class=\"sk-serial\"><div class=\"sk-item\"><div class=\"sk-estimator sk-toggleable\"><input class=\"sk-toggleable__control sk-hidden--visually\" id=\"sk-estimator-id-3\" type=\"checkbox\" ><label for=\"sk-estimator-id-3\" class=\"sk-toggleable__label sk-toggleable__label-arrow\">GradientBoostingRegressor</label><div class=\"sk-toggleable__content\"><pre>GradientBoostingRegressor()</pre></div></div></div></div></div></div></div></div></div></div>"
            ],
            "text/plain": [
              "GridSearchCV(cv=5, estimator=GradientBoostingRegressor(), n_jobs=-1,\n",
              "             param_grid={'learning_rate': [0.1, 0.01, 0.001],\n",
              "                         'max_depth': [3, 5, 7],\n",
              "                         'n_estimators': [100, 500, 1000]})"
            ]
          },
          "execution_count": 22,
          "metadata": {},
          "output_type": "execute_result"
        }
      ],
      "source": [
        "grid_search.fit(X_train, y_train)"
      ]
    },
    {
      "cell_type": "code",
      "execution_count": null,
      "metadata": {
        "colab": {
          "base_uri": "https://localhost:8080/"
        },
        "id": "KAzUeX07kcQ_",
        "outputId": "1d9cafa3-6603-492d-b226-380e3f795042"
      },
      "outputs": [
        {
          "name": "stdout",
          "output_type": "stream",
          "text": [
            "Hyperparameters optimaux: {'learning_rate': 0.1, 'max_depth': 5, 'n_estimators': 1000}\n"
          ]
        }
      ],
      "source": [
        "print(\"Hyperparameters optimaux:\", grid_search.best_params_)"
      ]
    },
    {
      "cell_type": "code",
      "execution_count": 21,
      "metadata": {
        "id": "YtqsVltfYzWH"
      },
      "outputs": [],
      "source": [
        "model_grad = GradientBoostingRegressor(learning_rate=0.1, max_depth=5, n_estimators= 1000)"
      ]
    },
    {
      "cell_type": "code",
      "execution_count": 22,
      "metadata": {
        "colab": {
          "base_uri": "https://localhost:8080/",
          "height": 74
        },
        "id": "LE1vXnjjZL4H",
        "outputId": "3ddd3deb-7200-4cdd-e426-5041d9edcca1"
      },
      "outputs": [
        {
          "data": {
            "text/html": [
              "<style>#sk-container-id-2 {color: black;background-color: white;}#sk-container-id-2 pre{padding: 0;}#sk-container-id-2 div.sk-toggleable {background-color: white;}#sk-container-id-2 label.sk-toggleable__label {cursor: pointer;display: block;width: 100%;margin-bottom: 0;padding: 0.3em;box-sizing: border-box;text-align: center;}#sk-container-id-2 label.sk-toggleable__label-arrow:before {content: \"▸\";float: left;margin-right: 0.25em;color: #696969;}#sk-container-id-2 label.sk-toggleable__label-arrow:hover:before {color: black;}#sk-container-id-2 div.sk-estimator:hover label.sk-toggleable__label-arrow:before {color: black;}#sk-container-id-2 div.sk-toggleable__content {max-height: 0;max-width: 0;overflow: hidden;text-align: left;background-color: #f0f8ff;}#sk-container-id-2 div.sk-toggleable__content pre {margin: 0.2em;color: black;border-radius: 0.25em;background-color: #f0f8ff;}#sk-container-id-2 input.sk-toggleable__control:checked~div.sk-toggleable__content {max-height: 200px;max-width: 100%;overflow: auto;}#sk-container-id-2 input.sk-toggleable__control:checked~label.sk-toggleable__label-arrow:before {content: \"▾\";}#sk-container-id-2 div.sk-estimator input.sk-toggleable__control:checked~label.sk-toggleable__label {background-color: #d4ebff;}#sk-container-id-2 div.sk-label input.sk-toggleable__control:checked~label.sk-toggleable__label {background-color: #d4ebff;}#sk-container-id-2 input.sk-hidden--visually {border: 0;clip: rect(1px 1px 1px 1px);clip: rect(1px, 1px, 1px, 1px);height: 1px;margin: -1px;overflow: hidden;padding: 0;position: absolute;width: 1px;}#sk-container-id-2 div.sk-estimator {font-family: monospace;background-color: #f0f8ff;border: 1px dotted black;border-radius: 0.25em;box-sizing: border-box;margin-bottom: 0.5em;}#sk-container-id-2 div.sk-estimator:hover {background-color: #d4ebff;}#sk-container-id-2 div.sk-parallel-item::after {content: \"\";width: 100%;border-bottom: 1px solid gray;flex-grow: 1;}#sk-container-id-2 div.sk-label:hover label.sk-toggleable__label {background-color: #d4ebff;}#sk-container-id-2 div.sk-serial::before {content: \"\";position: absolute;border-left: 1px solid gray;box-sizing: border-box;top: 0;bottom: 0;left: 50%;z-index: 0;}#sk-container-id-2 div.sk-serial {display: flex;flex-direction: column;align-items: center;background-color: white;padding-right: 0.2em;padding-left: 0.2em;position: relative;}#sk-container-id-2 div.sk-item {position: relative;z-index: 1;}#sk-container-id-2 div.sk-parallel {display: flex;align-items: stretch;justify-content: center;background-color: white;position: relative;}#sk-container-id-2 div.sk-item::before, #sk-container-id-2 div.sk-parallel-item::before {content: \"\";position: absolute;border-left: 1px solid gray;box-sizing: border-box;top: 0;bottom: 0;left: 50%;z-index: -1;}#sk-container-id-2 div.sk-parallel-item {display: flex;flex-direction: column;z-index: 1;position: relative;background-color: white;}#sk-container-id-2 div.sk-parallel-item:first-child::after {align-self: flex-end;width: 50%;}#sk-container-id-2 div.sk-parallel-item:last-child::after {align-self: flex-start;width: 50%;}#sk-container-id-2 div.sk-parallel-item:only-child::after {width: 0;}#sk-container-id-2 div.sk-dashed-wrapped {border: 1px dashed gray;margin: 0 0.4em 0.5em 0.4em;box-sizing: border-box;padding-bottom: 0.4em;background-color: white;}#sk-container-id-2 div.sk-label label {font-family: monospace;font-weight: bold;display: inline-block;line-height: 1.2em;}#sk-container-id-2 div.sk-label-container {text-align: center;}#sk-container-id-2 div.sk-container {/* jupyter's `normalize.less` sets `[hidden] { display: none; }` but bootstrap.min.css set `[hidden] { display: none !important; }` so we also need the `!important` here to be able to override the default hidden behavior on the sphinx rendered scikit-learn.org. See: https://github.com/scikit-learn/scikit-learn/issues/21755 */display: inline-block !important;position: relative;}#sk-container-id-2 div.sk-text-repr-fallback {display: none;}</style><div id=\"sk-container-id-2\" class=\"sk-top-container\"><div class=\"sk-text-repr-fallback\"><pre>GradientBoostingRegressor(max_depth=5, n_estimators=1000)</pre><b>In a Jupyter environment, please rerun this cell to show the HTML representation or trust the notebook. <br />On GitHub, the HTML representation is unable to render, please try loading this page with nbviewer.org.</b></div><div class=\"sk-container\" hidden><div class=\"sk-item\"><div class=\"sk-estimator sk-toggleable\"><input class=\"sk-toggleable__control sk-hidden--visually\" id=\"sk-estimator-id-2\" type=\"checkbox\" checked><label for=\"sk-estimator-id-2\" class=\"sk-toggleable__label sk-toggleable__label-arrow\">GradientBoostingRegressor</label><div class=\"sk-toggleable__content\"><pre>GradientBoostingRegressor(max_depth=5, n_estimators=1000)</pre></div></div></div></div></div>"
            ],
            "text/plain": [
              "GradientBoostingRegressor(max_depth=5, n_estimators=1000)"
            ]
          },
          "execution_count": 22,
          "metadata": {},
          "output_type": "execute_result"
        }
      ],
      "source": [
        "model_grad.fit(X_train, y_train)"
      ]
    },
    {
      "cell_type": "code",
      "execution_count": 23,
      "metadata": {
        "id": "V8XQG14K7RCB"
      },
      "outputs": [],
      "source": [
        "y_pred_grad_boos = model_grad.predict(X_test)"
      ]
    },
    {
      "cell_type": "code",
      "execution_count": 24,
      "metadata": {
        "colab": {
          "base_uri": "https://localhost:8080/"
        },
        "id": "UCMHXF7R7Ijy",
        "outputId": "71eb557c-3566-4a46-dee8-fa0b9379030a"
      },
      "outputs": [
        {
          "name": "stdout",
          "output_type": "stream",
          "text": [
            "R2 score :  0.8887994098596639\n",
            "RMSE :  125469.6583767593\n",
            "MSE :  15742635173.180683\n",
            "MAE : 68512.8185909716\n"
          ]
        }
      ],
      "source": [
        "print(\"R2 score : \", r2_score(y_test, y_pred_grad_boos))\n",
        "print(\"RMSE : \", np.sqrt(mean_squared_error(y_test, y_pred_grad_boos)))\n",
        "print(\"MSE : \", mean_squared_error(y_test, y_pred_grad_boos))\n",
        "print(\"MAE :\", mean_absolute_error(y_test, y_pred_grad_boos))"
      ]
    },
    {
      "cell_type": "markdown",
      "metadata": {
        "id": "4aLF5XW0a5qs"
      },
      "source": [
        "# Hist Gradient boosting "
      ]
    },
    {
      "cell_type": "markdown",
      "metadata": {},
      "source": [
        "Le modèle d'histogramme de gradient boosting est une variante du gradient boosting, spécifiquement conçue pour améliorer les performances et l'efficacité de cette technique, principalement dans le contexte de l'apprentissage automatique sur de grands ensembles de données. Cette variante utilise une représentation en histogramme des données pour accélérer le processus d'apprentissage et réduire la complexité des calculs."
      ]
    },
    {
      "cell_type": "code",
      "execution_count": 25,
      "metadata": {
        "colab": {
          "base_uri": "https://localhost:8080/"
        },
        "id": "YT3T9DiDbO3J",
        "outputId": "1769877f-e131-4157-b163-b164f714ab65"
      },
      "outputs": [
        {
          "name": "stderr",
          "output_type": "stream",
          "text": [
            "/usr/local/lib/python3.9/dist-packages/sklearn/experimental/enable_hist_gradient_boosting.py:16: UserWarning: Since version 1.0, it is not needed to import enable_hist_gradient_boosting anymore. HistGradientBoostingClassifier and HistGradientBoostingRegressor are now stable and can be normally imported from sklearn.ensemble.\n",
            "  warnings.warn(\n"
          ]
        }
      ],
      "source": [
        "from sklearn.experimental import enable_hist_gradient_boosting\n",
        "from sklearn.ensemble import HistGradientBoostingRegressor"
      ]
    },
    {
      "cell_type": "code",
      "execution_count": null,
      "metadata": {
        "id": "FX9yAvozbjt8"
      },
      "outputs": [],
      "source": [
        "# Define hyperparameters to optimize\n",
        "param_grid = {\n",
        "    'learning_rate': [0.1, 0.05, 0.01],\n",
        "    'max_depth': [3, 5, 7],\n",
        "    'min_samples_leaf': [1, 2, 4]\n",
        "}\n"
      ]
    },
    {
      "cell_type": "code",
      "execution_count": null,
      "metadata": {
        "id": "njBHbsrPbqi4"
      },
      "outputs": [],
      "source": [
        "# Create instance of HistGradientBoostingRegressor estimator\n",
        "estimator = HistGradientBoostingRegressor()\n",
        "\n",
        "# Create instance of GridSearchCV for hyperparameter tuning\n",
        "grid_search = GridSearchCV(estimator, param_grid=param_grid, cv=5, n_jobs=-1)\n"
      ]
    },
    {
      "cell_type": "code",
      "execution_count": null,
      "metadata": {
        "colab": {
          "base_uri": "https://localhost:8080/",
          "height": 117
        },
        "id": "DcY6eCpmbuEG",
        "outputId": "c050ed8f-4ba1-40a4-c082-9e6d9fb6508d"
      },
      "outputs": [
        {
          "data": {
            "text/html": [
              "<style>#sk-container-id-3 {color: black;background-color: white;}#sk-container-id-3 pre{padding: 0;}#sk-container-id-3 div.sk-toggleable {background-color: white;}#sk-container-id-3 label.sk-toggleable__label {cursor: pointer;display: block;width: 100%;margin-bottom: 0;padding: 0.3em;box-sizing: border-box;text-align: center;}#sk-container-id-3 label.sk-toggleable__label-arrow:before {content: \"▸\";float: left;margin-right: 0.25em;color: #696969;}#sk-container-id-3 label.sk-toggleable__label-arrow:hover:before {color: black;}#sk-container-id-3 div.sk-estimator:hover label.sk-toggleable__label-arrow:before {color: black;}#sk-container-id-3 div.sk-toggleable__content {max-height: 0;max-width: 0;overflow: hidden;text-align: left;background-color: #f0f8ff;}#sk-container-id-3 div.sk-toggleable__content pre {margin: 0.2em;color: black;border-radius: 0.25em;background-color: #f0f8ff;}#sk-container-id-3 input.sk-toggleable__control:checked~div.sk-toggleable__content {max-height: 200px;max-width: 100%;overflow: auto;}#sk-container-id-3 input.sk-toggleable__control:checked~label.sk-toggleable__label-arrow:before {content: \"▾\";}#sk-container-id-3 div.sk-estimator input.sk-toggleable__control:checked~label.sk-toggleable__label {background-color: #d4ebff;}#sk-container-id-3 div.sk-label input.sk-toggleable__control:checked~label.sk-toggleable__label {background-color: #d4ebff;}#sk-container-id-3 input.sk-hidden--visually {border: 0;clip: rect(1px 1px 1px 1px);clip: rect(1px, 1px, 1px, 1px);height: 1px;margin: -1px;overflow: hidden;padding: 0;position: absolute;width: 1px;}#sk-container-id-3 div.sk-estimator {font-family: monospace;background-color: #f0f8ff;border: 1px dotted black;border-radius: 0.25em;box-sizing: border-box;margin-bottom: 0.5em;}#sk-container-id-3 div.sk-estimator:hover {background-color: #d4ebff;}#sk-container-id-3 div.sk-parallel-item::after {content: \"\";width: 100%;border-bottom: 1px solid gray;flex-grow: 1;}#sk-container-id-3 div.sk-label:hover label.sk-toggleable__label {background-color: #d4ebff;}#sk-container-id-3 div.sk-serial::before {content: \"\";position: absolute;border-left: 1px solid gray;box-sizing: border-box;top: 0;bottom: 0;left: 50%;z-index: 0;}#sk-container-id-3 div.sk-serial {display: flex;flex-direction: column;align-items: center;background-color: white;padding-right: 0.2em;padding-left: 0.2em;position: relative;}#sk-container-id-3 div.sk-item {position: relative;z-index: 1;}#sk-container-id-3 div.sk-parallel {display: flex;align-items: stretch;justify-content: center;background-color: white;position: relative;}#sk-container-id-3 div.sk-item::before, #sk-container-id-3 div.sk-parallel-item::before {content: \"\";position: absolute;border-left: 1px solid gray;box-sizing: border-box;top: 0;bottom: 0;left: 50%;z-index: -1;}#sk-container-id-3 div.sk-parallel-item {display: flex;flex-direction: column;z-index: 1;position: relative;background-color: white;}#sk-container-id-3 div.sk-parallel-item:first-child::after {align-self: flex-end;width: 50%;}#sk-container-id-3 div.sk-parallel-item:last-child::after {align-self: flex-start;width: 50%;}#sk-container-id-3 div.sk-parallel-item:only-child::after {width: 0;}#sk-container-id-3 div.sk-dashed-wrapped {border: 1px dashed gray;margin: 0 0.4em 0.5em 0.4em;box-sizing: border-box;padding-bottom: 0.4em;background-color: white;}#sk-container-id-3 div.sk-label label {font-family: monospace;font-weight: bold;display: inline-block;line-height: 1.2em;}#sk-container-id-3 div.sk-label-container {text-align: center;}#sk-container-id-3 div.sk-container {/* jupyter's `normalize.less` sets `[hidden] { display: none; }` but bootstrap.min.css set `[hidden] { display: none !important; }` so we also need the `!important` here to be able to override the default hidden behavior on the sphinx rendered scikit-learn.org. See: https://github.com/scikit-learn/scikit-learn/issues/21755 */display: inline-block !important;position: relative;}#sk-container-id-3 div.sk-text-repr-fallback {display: none;}</style><div id=\"sk-container-id-3\" class=\"sk-top-container\"><div class=\"sk-text-repr-fallback\"><pre>GridSearchCV(cv=5, estimator=HistGradientBoostingRegressor(), n_jobs=-1,\n",
              "             param_grid={&#x27;learning_rate&#x27;: [0.1, 0.05, 0.01],\n",
              "                         &#x27;max_depth&#x27;: [3, 5, 7],\n",
              "                         &#x27;min_samples_leaf&#x27;: [1, 2, 4]})</pre><b>In a Jupyter environment, please rerun this cell to show the HTML representation or trust the notebook. <br />On GitHub, the HTML representation is unable to render, please try loading this page with nbviewer.org.</b></div><div class=\"sk-container\" hidden><div class=\"sk-item sk-dashed-wrapped\"><div class=\"sk-label-container\"><div class=\"sk-label sk-toggleable\"><input class=\"sk-toggleable__control sk-hidden--visually\" id=\"sk-estimator-id-5\" type=\"checkbox\" ><label for=\"sk-estimator-id-5\" class=\"sk-toggleable__label sk-toggleable__label-arrow\">GridSearchCV</label><div class=\"sk-toggleable__content\"><pre>GridSearchCV(cv=5, estimator=HistGradientBoostingRegressor(), n_jobs=-1,\n",
              "             param_grid={&#x27;learning_rate&#x27;: [0.1, 0.05, 0.01],\n",
              "                         &#x27;max_depth&#x27;: [3, 5, 7],\n",
              "                         &#x27;min_samples_leaf&#x27;: [1, 2, 4]})</pre></div></div></div><div class=\"sk-parallel\"><div class=\"sk-parallel-item\"><div class=\"sk-item\"><div class=\"sk-label-container\"><div class=\"sk-label sk-toggleable\"><input class=\"sk-toggleable__control sk-hidden--visually\" id=\"sk-estimator-id-6\" type=\"checkbox\" ><label for=\"sk-estimator-id-6\" class=\"sk-toggleable__label sk-toggleable__label-arrow\">estimator: HistGradientBoostingRegressor</label><div class=\"sk-toggleable__content\"><pre>HistGradientBoostingRegressor()</pre></div></div></div><div class=\"sk-serial\"><div class=\"sk-item\"><div class=\"sk-estimator sk-toggleable\"><input class=\"sk-toggleable__control sk-hidden--visually\" id=\"sk-estimator-id-7\" type=\"checkbox\" ><label for=\"sk-estimator-id-7\" class=\"sk-toggleable__label sk-toggleable__label-arrow\">HistGradientBoostingRegressor</label><div class=\"sk-toggleable__content\"><pre>HistGradientBoostingRegressor()</pre></div></div></div></div></div></div></div></div></div></div>"
            ],
            "text/plain": [
              "GridSearchCV(cv=5, estimator=HistGradientBoostingRegressor(), n_jobs=-1,\n",
              "             param_grid={'learning_rate': [0.1, 0.05, 0.01],\n",
              "                         'max_depth': [3, 5, 7],\n",
              "                         'min_samples_leaf': [1, 2, 4]})"
            ]
          },
          "execution_count": 39,
          "metadata": {},
          "output_type": "execute_result"
        }
      ],
      "source": [
        "# Fit the model using GridSearchCV\n",
        "grid_search.fit(X_train, y_train)\n"
      ]
    },
    {
      "cell_type": "code",
      "execution_count": null,
      "metadata": {
        "colab": {
          "base_uri": "https://localhost:8080/"
        },
        "id": "IRJqG-xYdo6I",
        "outputId": "c2b91a7e-d096-4d8d-f326-68b7171cffbb"
      },
      "outputs": [
        {
          "name": "stdout",
          "output_type": "stream",
          "text": [
            "Hyperparameters optimaux: {'learning_rate': 0.1, 'max_depth': 7, 'min_samples_leaf': 1}\n"
          ]
        }
      ],
      "source": [
        "print(\"Hyperparameters optimaux:\", grid_search.best_params_)"
      ]
    },
    {
      "cell_type": "code",
      "execution_count": 26,
      "metadata": {
        "id": "iZrGnIPfdsSP"
      },
      "outputs": [],
      "source": [
        "model_hist_grad = HistGradientBoostingRegressor(learning_rate=0.1, max_depth=7, min_samples_leaf=1)"
      ]
    },
    {
      "cell_type": "code",
      "execution_count": 27,
      "metadata": {
        "colab": {
          "base_uri": "https://localhost:8080/",
          "height": 74
        },
        "id": "cZ5mjZxed8xO",
        "outputId": "8e4f2cc1-d255-4d7b-c989-9e8c85dc7aa2"
      },
      "outputs": [
        {
          "data": {
            "text/html": [
              "<style>#sk-container-id-3 {color: black;background-color: white;}#sk-container-id-3 pre{padding: 0;}#sk-container-id-3 div.sk-toggleable {background-color: white;}#sk-container-id-3 label.sk-toggleable__label {cursor: pointer;display: block;width: 100%;margin-bottom: 0;padding: 0.3em;box-sizing: border-box;text-align: center;}#sk-container-id-3 label.sk-toggleable__label-arrow:before {content: \"▸\";float: left;margin-right: 0.25em;color: #696969;}#sk-container-id-3 label.sk-toggleable__label-arrow:hover:before {color: black;}#sk-container-id-3 div.sk-estimator:hover label.sk-toggleable__label-arrow:before {color: black;}#sk-container-id-3 div.sk-toggleable__content {max-height: 0;max-width: 0;overflow: hidden;text-align: left;background-color: #f0f8ff;}#sk-container-id-3 div.sk-toggleable__content pre {margin: 0.2em;color: black;border-radius: 0.25em;background-color: #f0f8ff;}#sk-container-id-3 input.sk-toggleable__control:checked~div.sk-toggleable__content {max-height: 200px;max-width: 100%;overflow: auto;}#sk-container-id-3 input.sk-toggleable__control:checked~label.sk-toggleable__label-arrow:before {content: \"▾\";}#sk-container-id-3 div.sk-estimator input.sk-toggleable__control:checked~label.sk-toggleable__label {background-color: #d4ebff;}#sk-container-id-3 div.sk-label input.sk-toggleable__control:checked~label.sk-toggleable__label {background-color: #d4ebff;}#sk-container-id-3 input.sk-hidden--visually {border: 0;clip: rect(1px 1px 1px 1px);clip: rect(1px, 1px, 1px, 1px);height: 1px;margin: -1px;overflow: hidden;padding: 0;position: absolute;width: 1px;}#sk-container-id-3 div.sk-estimator {font-family: monospace;background-color: #f0f8ff;border: 1px dotted black;border-radius: 0.25em;box-sizing: border-box;margin-bottom: 0.5em;}#sk-container-id-3 div.sk-estimator:hover {background-color: #d4ebff;}#sk-container-id-3 div.sk-parallel-item::after {content: \"\";width: 100%;border-bottom: 1px solid gray;flex-grow: 1;}#sk-container-id-3 div.sk-label:hover label.sk-toggleable__label {background-color: #d4ebff;}#sk-container-id-3 div.sk-serial::before {content: \"\";position: absolute;border-left: 1px solid gray;box-sizing: border-box;top: 0;bottom: 0;left: 50%;z-index: 0;}#sk-container-id-3 div.sk-serial {display: flex;flex-direction: column;align-items: center;background-color: white;padding-right: 0.2em;padding-left: 0.2em;position: relative;}#sk-container-id-3 div.sk-item {position: relative;z-index: 1;}#sk-container-id-3 div.sk-parallel {display: flex;align-items: stretch;justify-content: center;background-color: white;position: relative;}#sk-container-id-3 div.sk-item::before, #sk-container-id-3 div.sk-parallel-item::before {content: \"\";position: absolute;border-left: 1px solid gray;box-sizing: border-box;top: 0;bottom: 0;left: 50%;z-index: -1;}#sk-container-id-3 div.sk-parallel-item {display: flex;flex-direction: column;z-index: 1;position: relative;background-color: white;}#sk-container-id-3 div.sk-parallel-item:first-child::after {align-self: flex-end;width: 50%;}#sk-container-id-3 div.sk-parallel-item:last-child::after {align-self: flex-start;width: 50%;}#sk-container-id-3 div.sk-parallel-item:only-child::after {width: 0;}#sk-container-id-3 div.sk-dashed-wrapped {border: 1px dashed gray;margin: 0 0.4em 0.5em 0.4em;box-sizing: border-box;padding-bottom: 0.4em;background-color: white;}#sk-container-id-3 div.sk-label label {font-family: monospace;font-weight: bold;display: inline-block;line-height: 1.2em;}#sk-container-id-3 div.sk-label-container {text-align: center;}#sk-container-id-3 div.sk-container {/* jupyter's `normalize.less` sets `[hidden] { display: none; }` but bootstrap.min.css set `[hidden] { display: none !important; }` so we also need the `!important` here to be able to override the default hidden behavior on the sphinx rendered scikit-learn.org. See: https://github.com/scikit-learn/scikit-learn/issues/21755 */display: inline-block !important;position: relative;}#sk-container-id-3 div.sk-text-repr-fallback {display: none;}</style><div id=\"sk-container-id-3\" class=\"sk-top-container\"><div class=\"sk-text-repr-fallback\"><pre>HistGradientBoostingRegressor(max_depth=7, min_samples_leaf=1)</pre><b>In a Jupyter environment, please rerun this cell to show the HTML representation or trust the notebook. <br />On GitHub, the HTML representation is unable to render, please try loading this page with nbviewer.org.</b></div><div class=\"sk-container\" hidden><div class=\"sk-item\"><div class=\"sk-estimator sk-toggleable\"><input class=\"sk-toggleable__control sk-hidden--visually\" id=\"sk-estimator-id-3\" type=\"checkbox\" checked><label for=\"sk-estimator-id-3\" class=\"sk-toggleable__label sk-toggleable__label-arrow\">HistGradientBoostingRegressor</label><div class=\"sk-toggleable__content\"><pre>HistGradientBoostingRegressor(max_depth=7, min_samples_leaf=1)</pre></div></div></div></div></div>"
            ],
            "text/plain": [
              "HistGradientBoostingRegressor(max_depth=7, min_samples_leaf=1)"
            ]
          },
          "execution_count": 27,
          "metadata": {},
          "output_type": "execute_result"
        }
      ],
      "source": [
        "model_hist_grad.fit(X_train, y_train)\n"
      ]
    },
    {
      "cell_type": "code",
      "execution_count": 28,
      "metadata": {
        "id": "uQe-P6G2eHRI"
      },
      "outputs": [],
      "source": [
        "y_pred_hist_grad = model_hist_grad.predict(X_test)"
      ]
    },
    {
      "cell_type": "code",
      "execution_count": 29,
      "metadata": {
        "colab": {
          "base_uri": "https://localhost:8080/"
        },
        "id": "34cd9xaYeFfI",
        "outputId": "6632dac4-e1ad-4591-de5e-e1264d68cd03"
      },
      "outputs": [
        {
          "name": "stdout",
          "output_type": "stream",
          "text": [
            "R2 score :  0.8803928818450442\n",
            "RMSE :  130125.88096486217\n",
            "MSE :  16932744896.881477\n",
            "MAE : 69868.25791006602\n"
          ]
        }
      ],
      "source": [
        "print(\"R2 score : \", r2_score(y_test, y_pred_hist_grad))\n",
        "print(\"RMSE : \", np.sqrt(mean_squared_error(y_test, y_pred_hist_grad)))\n",
        "print(\"MSE : \", mean_squared_error(y_test, y_pred_hist_grad))\n",
        "print(\"MAE :\", mean_absolute_error(y_test, y_pred_hist_grad))"
      ]
    },
    {
      "cell_type": "markdown",
      "metadata": {
        "id": "1JXISBcgn7Ti"
      },
      "source": [
        "# Staking"
      ]
    },
    {
      "cell_type": "markdown",
      "metadata": {
        "id": "S89O76cQ4ddf"
      },
      "source": [
        "## StackingRegressor"
      ]
    },
    {
      "cell_type": "code",
      "execution_count": 32,
      "metadata": {
        "id": "TEB_W3aC4ga3"
      },
      "outputs": [],
      "source": [
        "from sklearn.ensemble import StackingRegressor\n",
        "from sklearn.linear_model import LinearRegression"
      ]
    },
    {
      "cell_type": "code",
      "execution_count": 33,
      "metadata": {
        "id": "_bw1cY8100Kc"
      },
      "outputs": [],
      "source": [
        "estimator = [\n",
        "    (\"Foret\", rf_1),\n",
        "    (\"xgboost\", xgb_model),\n",
        "    (\"GradientBoosting\", model_grad)\n",
        "]"
      ]
    },
    {
      "cell_type": "code",
      "execution_count": 34,
      "metadata": {
        "id": "GkVatXII17Gl"
      },
      "outputs": [],
      "source": [
        "stack_regression = StackingRegressor(\n",
        "    estimators = estimator, \n",
        "    final_estimator = LinearRegression()\n",
        ")"
      ]
    },
    {
      "cell_type": "code",
      "execution_count": 35,
      "metadata": {
        "colab": {
          "base_uri": "https://localhost:8080/",
          "height": 163
        },
        "id": "L31TJX3o2T6-",
        "outputId": "6f0e73f0-9957-4e4a-d0db-bb9c0cffdc4f"
      },
      "outputs": [
        {
          "data": {
            "text/html": [
              "<style>#sk-container-id-4 {color: black;background-color: white;}#sk-container-id-4 pre{padding: 0;}#sk-container-id-4 div.sk-toggleable {background-color: white;}#sk-container-id-4 label.sk-toggleable__label {cursor: pointer;display: block;width: 100%;margin-bottom: 0;padding: 0.3em;box-sizing: border-box;text-align: center;}#sk-container-id-4 label.sk-toggleable__label-arrow:before {content: \"▸\";float: left;margin-right: 0.25em;color: #696969;}#sk-container-id-4 label.sk-toggleable__label-arrow:hover:before {color: black;}#sk-container-id-4 div.sk-estimator:hover label.sk-toggleable__label-arrow:before {color: black;}#sk-container-id-4 div.sk-toggleable__content {max-height: 0;max-width: 0;overflow: hidden;text-align: left;background-color: #f0f8ff;}#sk-container-id-4 div.sk-toggleable__content pre {margin: 0.2em;color: black;border-radius: 0.25em;background-color: #f0f8ff;}#sk-container-id-4 input.sk-toggleable__control:checked~div.sk-toggleable__content {max-height: 200px;max-width: 100%;overflow: auto;}#sk-container-id-4 input.sk-toggleable__control:checked~label.sk-toggleable__label-arrow:before {content: \"▾\";}#sk-container-id-4 div.sk-estimator input.sk-toggleable__control:checked~label.sk-toggleable__label {background-color: #d4ebff;}#sk-container-id-4 div.sk-label input.sk-toggleable__control:checked~label.sk-toggleable__label {background-color: #d4ebff;}#sk-container-id-4 input.sk-hidden--visually {border: 0;clip: rect(1px 1px 1px 1px);clip: rect(1px, 1px, 1px, 1px);height: 1px;margin: -1px;overflow: hidden;padding: 0;position: absolute;width: 1px;}#sk-container-id-4 div.sk-estimator {font-family: monospace;background-color: #f0f8ff;border: 1px dotted black;border-radius: 0.25em;box-sizing: border-box;margin-bottom: 0.5em;}#sk-container-id-4 div.sk-estimator:hover {background-color: #d4ebff;}#sk-container-id-4 div.sk-parallel-item::after {content: \"\";width: 100%;border-bottom: 1px solid gray;flex-grow: 1;}#sk-container-id-4 div.sk-label:hover label.sk-toggleable__label {background-color: #d4ebff;}#sk-container-id-4 div.sk-serial::before {content: \"\";position: absolute;border-left: 1px solid gray;box-sizing: border-box;top: 0;bottom: 0;left: 50%;z-index: 0;}#sk-container-id-4 div.sk-serial {display: flex;flex-direction: column;align-items: center;background-color: white;padding-right: 0.2em;padding-left: 0.2em;position: relative;}#sk-container-id-4 div.sk-item {position: relative;z-index: 1;}#sk-container-id-4 div.sk-parallel {display: flex;align-items: stretch;justify-content: center;background-color: white;position: relative;}#sk-container-id-4 div.sk-item::before, #sk-container-id-4 div.sk-parallel-item::before {content: \"\";position: absolute;border-left: 1px solid gray;box-sizing: border-box;top: 0;bottom: 0;left: 50%;z-index: -1;}#sk-container-id-4 div.sk-parallel-item {display: flex;flex-direction: column;z-index: 1;position: relative;background-color: white;}#sk-container-id-4 div.sk-parallel-item:first-child::after {align-self: flex-end;width: 50%;}#sk-container-id-4 div.sk-parallel-item:last-child::after {align-self: flex-start;width: 50%;}#sk-container-id-4 div.sk-parallel-item:only-child::after {width: 0;}#sk-container-id-4 div.sk-dashed-wrapped {border: 1px dashed gray;margin: 0 0.4em 0.5em 0.4em;box-sizing: border-box;padding-bottom: 0.4em;background-color: white;}#sk-container-id-4 div.sk-label label {font-family: monospace;font-weight: bold;display: inline-block;line-height: 1.2em;}#sk-container-id-4 div.sk-label-container {text-align: center;}#sk-container-id-4 div.sk-container {/* jupyter's `normalize.less` sets `[hidden] { display: none; }` but bootstrap.min.css set `[hidden] { display: none !important; }` so we also need the `!important` here to be able to override the default hidden behavior on the sphinx rendered scikit-learn.org. See: https://github.com/scikit-learn/scikit-learn/issues/21755 */display: inline-block !important;position: relative;}#sk-container-id-4 div.sk-text-repr-fallback {display: none;}</style><div id=\"sk-container-id-4\" class=\"sk-top-container\"><div class=\"sk-text-repr-fallback\"><pre>StackingRegressor(estimators=[(&#x27;Foret&#x27;,\n",
              "                               RandomForestRegressor(max_depth=30,\n",
              "                                                     n_estimators=500)),\n",
              "                              (&#x27;xgboost&#x27;,\n",
              "                               XGBRegressor(base_score=None, booster=None,\n",
              "                                            callbacks=None,\n",
              "                                            colsample_bylevel=None,\n",
              "                                            colsample_bynode=None,\n",
              "                                            colsample_bytree=0.8,\n",
              "                                            early_stopping_rounds=None,\n",
              "                                            enable_categorical=False,\n",
              "                                            eval_metric=None,\n",
              "                                            feature_types=None, gamma=None,\n",
              "                                            gpu_id=None, grow_policy=...\n",
              "                                            max_cat_threshold=None,\n",
              "                                            max_cat_to_onehot=None,\n",
              "                                            max_delta_step=None, max_depth=4,\n",
              "                                            max_leaves=None, min_child_weight=1,\n",
              "                                            missing=nan,\n",
              "                                            monotone_constraints=None,\n",
              "                                            n_estimators=1000, n_jobs=None,\n",
              "                                            num_parallel_tree=None,\n",
              "                                            predictor=None, random_state=None, ...)),\n",
              "                              (&#x27;GradientBoosting&#x27;,\n",
              "                               GradientBoostingRegressor(max_depth=5,\n",
              "                                                         n_estimators=1000))],\n",
              "                  final_estimator=LinearRegression())</pre><b>In a Jupyter environment, please rerun this cell to show the HTML representation or trust the notebook. <br />On GitHub, the HTML representation is unable to render, please try loading this page with nbviewer.org.</b></div><div class=\"sk-container\" hidden><div class=\"sk-item sk-dashed-wrapped\"><div class=\"sk-label-container\"><div class=\"sk-label sk-toggleable\"><input class=\"sk-toggleable__control sk-hidden--visually\" id=\"sk-estimator-id-4\" type=\"checkbox\" ><label for=\"sk-estimator-id-4\" class=\"sk-toggleable__label sk-toggleable__label-arrow\">StackingRegressor</label><div class=\"sk-toggleable__content\"><pre>StackingRegressor(estimators=[(&#x27;Foret&#x27;,\n",
              "                               RandomForestRegressor(max_depth=30,\n",
              "                                                     n_estimators=500)),\n",
              "                              (&#x27;xgboost&#x27;,\n",
              "                               XGBRegressor(base_score=None, booster=None,\n",
              "                                            callbacks=None,\n",
              "                                            colsample_bylevel=None,\n",
              "                                            colsample_bynode=None,\n",
              "                                            colsample_bytree=0.8,\n",
              "                                            early_stopping_rounds=None,\n",
              "                                            enable_categorical=False,\n",
              "                                            eval_metric=None,\n",
              "                                            feature_types=None, gamma=None,\n",
              "                                            gpu_id=None, grow_policy=...\n",
              "                                            max_cat_threshold=None,\n",
              "                                            max_cat_to_onehot=None,\n",
              "                                            max_delta_step=None, max_depth=4,\n",
              "                                            max_leaves=None, min_child_weight=1,\n",
              "                                            missing=nan,\n",
              "                                            monotone_constraints=None,\n",
              "                                            n_estimators=1000, n_jobs=None,\n",
              "                                            num_parallel_tree=None,\n",
              "                                            predictor=None, random_state=None, ...)),\n",
              "                              (&#x27;GradientBoosting&#x27;,\n",
              "                               GradientBoostingRegressor(max_depth=5,\n",
              "                                                         n_estimators=1000))],\n",
              "                  final_estimator=LinearRegression())</pre></div></div></div><div class=\"sk-serial\"><div class=\"sk-item\"><div class=\"sk-parallel\"><div class=\"sk-parallel-item\"><div class=\"sk-item\"><div class=\"sk-label-container\"><div class=\"sk-label sk-toggleable\"><label>Foret</label></div></div><div class=\"sk-serial\"><div class=\"sk-item\"><div class=\"sk-estimator sk-toggleable\"><input class=\"sk-toggleable__control sk-hidden--visually\" id=\"sk-estimator-id-5\" type=\"checkbox\" ><label for=\"sk-estimator-id-5\" class=\"sk-toggleable__label sk-toggleable__label-arrow\">RandomForestRegressor</label><div class=\"sk-toggleable__content\"><pre>RandomForestRegressor(max_depth=30, n_estimators=500)</pre></div></div></div></div></div></div><div class=\"sk-parallel-item\"><div class=\"sk-item\"><div class=\"sk-label-container\"><div class=\"sk-label sk-toggleable\"><label>xgboost</label></div></div><div class=\"sk-serial\"><div class=\"sk-item\"><div class=\"sk-estimator sk-toggleable\"><input class=\"sk-toggleable__control sk-hidden--visually\" id=\"sk-estimator-id-6\" type=\"checkbox\" ><label for=\"sk-estimator-id-6\" class=\"sk-toggleable__label sk-toggleable__label-arrow\">XGBRegressor</label><div class=\"sk-toggleable__content\"><pre>XGBRegressor(base_score=None, booster=None, callbacks=None,\n",
              "             colsample_bylevel=None, colsample_bynode=None,\n",
              "             colsample_bytree=0.8, early_stopping_rounds=None,\n",
              "             enable_categorical=False, eval_metric=None, feature_types=None,\n",
              "             gamma=None, gpu_id=None, grow_policy=None, importance_type=None,\n",
              "             interaction_constraints=None, learning_rate=0.1, max_bin=None,\n",
              "             max_cat_threshold=None, max_cat_to_onehot=None,\n",
              "             max_delta_step=None, max_depth=4, max_leaves=None,\n",
              "             min_child_weight=1, missing=nan, monotone_constraints=None,\n",
              "             n_estimators=1000, n_jobs=None, num_parallel_tree=None,\n",
              "             predictor=None, random_state=None, ...)</pre></div></div></div></div></div></div><div class=\"sk-parallel-item\"><div class=\"sk-item\"><div class=\"sk-label-container\"><div class=\"sk-label sk-toggleable\"><label>GradientBoosting</label></div></div><div class=\"sk-serial\"><div class=\"sk-item\"><div class=\"sk-estimator sk-toggleable\"><input class=\"sk-toggleable__control sk-hidden--visually\" id=\"sk-estimator-id-7\" type=\"checkbox\" ><label for=\"sk-estimator-id-7\" class=\"sk-toggleable__label sk-toggleable__label-arrow\">GradientBoostingRegressor</label><div class=\"sk-toggleable__content\"><pre>GradientBoostingRegressor(max_depth=5, n_estimators=1000)</pre></div></div></div></div></div></div></div></div><div class=\"sk-item\"><div class=\"sk-parallel\"><div class=\"sk-parallel-item\"><div class=\"sk-item\"><div class=\"sk-label-container\"><div class=\"sk-label sk-toggleable\"><label>final_estimator</label></div></div><div class=\"sk-serial\"><div class=\"sk-item\"><div class=\"sk-estimator sk-toggleable\"><input class=\"sk-toggleable__control sk-hidden--visually\" id=\"sk-estimator-id-8\" type=\"checkbox\" ><label for=\"sk-estimator-id-8\" class=\"sk-toggleable__label sk-toggleable__label-arrow\">LinearRegression</label><div class=\"sk-toggleable__content\"><pre>LinearRegression()</pre></div></div></div></div></div></div></div></div></div></div></div></div>"
            ],
            "text/plain": [
              "StackingRegressor(estimators=[('Foret',\n",
              "                               RandomForestRegressor(max_depth=30,\n",
              "                                                     n_estimators=500)),\n",
              "                              ('xgboost',\n",
              "                               XGBRegressor(base_score=None, booster=None,\n",
              "                                            callbacks=None,\n",
              "                                            colsample_bylevel=None,\n",
              "                                            colsample_bynode=None,\n",
              "                                            colsample_bytree=0.8,\n",
              "                                            early_stopping_rounds=None,\n",
              "                                            enable_categorical=False,\n",
              "                                            eval_metric=None,\n",
              "                                            feature_types=None, gamma=None,\n",
              "                                            gpu_id=None, grow_policy=...\n",
              "                                            max_cat_threshold=None,\n",
              "                                            max_cat_to_onehot=None,\n",
              "                                            max_delta_step=None, max_depth=4,\n",
              "                                            max_leaves=None, min_child_weight=1,\n",
              "                                            missing=nan,\n",
              "                                            monotone_constraints=None,\n",
              "                                            n_estimators=1000, n_jobs=None,\n",
              "                                            num_parallel_tree=None,\n",
              "                                            predictor=None, random_state=None, ...)),\n",
              "                              ('GradientBoosting',\n",
              "                               GradientBoostingRegressor(max_depth=5,\n",
              "                                                         n_estimators=1000))],\n",
              "                  final_estimator=LinearRegression())"
            ]
          },
          "execution_count": 35,
          "metadata": {},
          "output_type": "execute_result"
        }
      ],
      "source": [
        "stack_regression.fit(X_train, y_train)"
      ]
    },
    {
      "cell_type": "code",
      "execution_count": 36,
      "metadata": {
        "id": "xs-kw1FL1Za4"
      },
      "outputs": [],
      "source": [
        "y_pred_stack = stack_regression.predict(X_test)"
      ]
    },
    {
      "cell_type": "code",
      "execution_count": 37,
      "metadata": {
        "colab": {
          "base_uri": "https://localhost:8080/"
        },
        "id": "O-lr8zLE2wsN",
        "outputId": "78a5860c-ba8a-4900-f3a3-39253fd2a2db"
      },
      "outputs": [
        {
          "name": "stdout",
          "output_type": "stream",
          "text": [
            "R2 score :  0.8967456900870034\n",
            "RMSE :  120903.60869195209\n",
            "MSE :  14617682594.736671\n",
            "MAE : 65839.59068459326\n"
          ]
        }
      ],
      "source": [
        "print(\"R2 score : \", r2_score(y_test, y_pred_stack))\n",
        "print(\"RMSE : \", np.sqrt(mean_squared_error(y_test, y_pred_stack)))\n",
        "print(\"MSE : \", mean_squared_error(y_test, y_pred_stack))\n",
        "print(\"MAE :\", mean_absolute_error(y_test, y_pred_stack))"
      ]
    },
    {
      "cell_type": "markdown",
      "metadata": {
        "id": "GGxngR4akT9X"
      },
      "source": [
        "## Avec Voting Regressor"
      ]
    },
    {
      "cell_type": "code",
      "execution_count": 30,
      "metadata": {
        "id": "_Cb6GooMyU-S"
      },
      "outputs": [],
      "source": [
        "from sklearn.ensemble import VotingRegressor\n",
        "ereg = VotingRegressor(estimators=[('xgboost', xgb_model), ('GradientBoosting', model_grad), (\"HistGradBoos\", model_hist_grad)])\n",
        "ereg = ereg.fit(X_train, y_train)\n",
        "y_pred_ereg = ereg.predict(X_test)"
      ]
    },
    {
      "cell_type": "code",
      "execution_count": 38,
      "metadata": {
        "colab": {
          "base_uri": "https://localhost:8080/"
        },
        "id": "1FbyfSQJ0gKc",
        "outputId": "93f3da23-536b-48a8-99c9-7a5c9d8acdea"
      },
      "outputs": [
        {
          "name": "stdout",
          "output_type": "stream",
          "text": [
            "R2 score :  0.8928970138262748\n",
            "RMSE :  123136.26018574712\n",
            "MSE :  15162538572.532011\n",
            "MAE : 66433.92296156764\n"
          ]
        }
      ],
      "source": [
        "print(\"R2 score : \", r2_score(y_test, y_pred_ereg))\n",
        "print(\"RMSE : \", np.sqrt(mean_squared_error(y_test, y_pred_ereg)))\n",
        "print(\"MSE : \", mean_squared_error(y_test, y_pred_ereg))\n",
        "print(\"MAE :\", mean_absolute_error(y_test, y_pred_ereg))"
      ]
    },
    {
      "cell_type": "markdown",
      "metadata": {
        "id": "KAUcuMs_n7Tj"
      },
      "source": [
        "# Prévision des prix"
      ]
    },
    {
      "cell_type": "code",
      "execution_count": 39,
      "metadata": {
        "colab": {
          "base_uri": "https://localhost:8080/",
          "height": 299
        },
        "id": "EfFrYx8_kn-C",
        "outputId": "337f37a9-0cf9-4a41-f5ab-15f910af4a92"
      },
      "outputs": [
        {
          "data": {
            "text/html": [
              "\n",
              "  <div id=\"df-613325fa-6324-4746-980b-c3fd278f0b8f\">\n",
              "    <div class=\"colab-df-container\">\n",
              "      <div>\n",
              "<style scoped>\n",
              "    .dataframe tbody tr th:only-of-type {\n",
              "        vertical-align: middle;\n",
              "    }\n",
              "\n",
              "    .dataframe tbody tr th {\n",
              "        vertical-align: top;\n",
              "    }\n",
              "\n",
              "    .dataframe thead th {\n",
              "        text-align: right;\n",
              "    }\n",
              "</style>\n",
              "<table border=\"1\" class=\"dataframe\">\n",
              "  <thead>\n",
              "    <tr style=\"text-align: right;\">\n",
              "      <th></th>\n",
              "      <th>id</th>\n",
              "      <th>price</th>\n",
              "      <th>bedrooms</th>\n",
              "      <th>bathrooms</th>\n",
              "      <th>sqft_living</th>\n",
              "      <th>sqft_lot</th>\n",
              "      <th>floors</th>\n",
              "      <th>waterfront</th>\n",
              "      <th>view</th>\n",
              "      <th>condition</th>\n",
              "      <th>...</th>\n",
              "      <th>yr_built</th>\n",
              "      <th>yr_renovated</th>\n",
              "      <th>zipcode</th>\n",
              "      <th>lat</th>\n",
              "      <th>long</th>\n",
              "      <th>sqft_living15</th>\n",
              "      <th>sqft_lot15</th>\n",
              "      <th>part_maison_sur_terrain</th>\n",
              "      <th>Part_logement_dessus_sol_sur_terrai</th>\n",
              "      <th>part_sous_sol_sur_logement</th>\n",
              "    </tr>\n",
              "  </thead>\n",
              "  <tbody>\n",
              "    <tr>\n",
              "      <th>4</th>\n",
              "      <td>2487200875</td>\n",
              "      <td>NaN</td>\n",
              "      <td>4</td>\n",
              "      <td>3.00</td>\n",
              "      <td>1960</td>\n",
              "      <td>5000</td>\n",
              "      <td>1.0</td>\n",
              "      <td>0</td>\n",
              "      <td>0</td>\n",
              "      <td>5</td>\n",
              "      <td>...</td>\n",
              "      <td>1965</td>\n",
              "      <td>0</td>\n",
              "      <td>98136</td>\n",
              "      <td>47.5208</td>\n",
              "      <td>-122.393</td>\n",
              "      <td>1360</td>\n",
              "      <td>5000</td>\n",
              "      <td>0.392000</td>\n",
              "      <td>0.535714</td>\n",
              "      <td>0.464286</td>\n",
              "    </tr>\n",
              "    <tr>\n",
              "      <th>20</th>\n",
              "      <td>7983200060</td>\n",
              "      <td>NaN</td>\n",
              "      <td>3</td>\n",
              "      <td>1.00</td>\n",
              "      <td>1250</td>\n",
              "      <td>9774</td>\n",
              "      <td>1.0</td>\n",
              "      <td>0</td>\n",
              "      <td>0</td>\n",
              "      <td>4</td>\n",
              "      <td>...</td>\n",
              "      <td>1969</td>\n",
              "      <td>0</td>\n",
              "      <td>98003</td>\n",
              "      <td>47.3343</td>\n",
              "      <td>-122.306</td>\n",
              "      <td>1280</td>\n",
              "      <td>8850</td>\n",
              "      <td>0.127890</td>\n",
              "      <td>1.000000</td>\n",
              "      <td>0.000000</td>\n",
              "    </tr>\n",
              "    <tr>\n",
              "      <th>27</th>\n",
              "      <td>1794500383</td>\n",
              "      <td>NaN</td>\n",
              "      <td>3</td>\n",
              "      <td>1.75</td>\n",
              "      <td>2450</td>\n",
              "      <td>2691</td>\n",
              "      <td>2.0</td>\n",
              "      <td>0</td>\n",
              "      <td>0</td>\n",
              "      <td>3</td>\n",
              "      <td>...</td>\n",
              "      <td>1915</td>\n",
              "      <td>0</td>\n",
              "      <td>98119</td>\n",
              "      <td>47.6386</td>\n",
              "      <td>-122.360</td>\n",
              "      <td>1760</td>\n",
              "      <td>3573</td>\n",
              "      <td>0.910442</td>\n",
              "      <td>0.714286</td>\n",
              "      <td>0.285714</td>\n",
              "    </tr>\n",
              "    <tr>\n",
              "      <th>46</th>\n",
              "      <td>8035350320</td>\n",
              "      <td>NaN</td>\n",
              "      <td>3</td>\n",
              "      <td>2.50</td>\n",
              "      <td>3160</td>\n",
              "      <td>13603</td>\n",
              "      <td>2.0</td>\n",
              "      <td>0</td>\n",
              "      <td>0</td>\n",
              "      <td>3</td>\n",
              "      <td>...</td>\n",
              "      <td>2003</td>\n",
              "      <td>0</td>\n",
              "      <td>98019</td>\n",
              "      <td>47.7443</td>\n",
              "      <td>-121.977</td>\n",
              "      <td>3050</td>\n",
              "      <td>9232</td>\n",
              "      <td>0.232302</td>\n",
              "      <td>1.000000</td>\n",
              "      <td>0.000000</td>\n",
              "    </tr>\n",
              "    <tr>\n",
              "      <th>51</th>\n",
              "      <td>5245600105</td>\n",
              "      <td>NaN</td>\n",
              "      <td>3</td>\n",
              "      <td>1.00</td>\n",
              "      <td>1190</td>\n",
              "      <td>9199</td>\n",
              "      <td>1.0</td>\n",
              "      <td>0</td>\n",
              "      <td>0</td>\n",
              "      <td>3</td>\n",
              "      <td>...</td>\n",
              "      <td>1955</td>\n",
              "      <td>0</td>\n",
              "      <td>98148</td>\n",
              "      <td>47.4258</td>\n",
              "      <td>-122.322</td>\n",
              "      <td>1190</td>\n",
              "      <td>9364</td>\n",
              "      <td>0.129362</td>\n",
              "      <td>1.000000</td>\n",
              "      <td>0.000000</td>\n",
              "    </tr>\n",
              "  </tbody>\n",
              "</table>\n",
              "<p>5 rows × 21 columns</p>\n",
              "</div>\n",
              "      <button class=\"colab-df-convert\" onclick=\"convertToInteractive('df-613325fa-6324-4746-980b-c3fd278f0b8f')\"\n",
              "              title=\"Convert this dataframe to an interactive table.\"\n",
              "              style=\"display:none;\">\n",
              "        \n",
              "  <svg xmlns=\"http://www.w3.org/2000/svg\" height=\"24px\"viewBox=\"0 0 24 24\"\n",
              "       width=\"24px\">\n",
              "    <path d=\"M0 0h24v24H0V0z\" fill=\"none\"/>\n",
              "    <path d=\"M18.56 5.44l.94 2.06.94-2.06 2.06-.94-2.06-.94-.94-2.06-.94 2.06-2.06.94zm-11 1L8.5 8.5l.94-2.06 2.06-.94-2.06-.94L8.5 2.5l-.94 2.06-2.06.94zm10 10l.94 2.06.94-2.06 2.06-.94-2.06-.94-.94-2.06-.94 2.06-2.06.94z\"/><path d=\"M17.41 7.96l-1.37-1.37c-.4-.4-.92-.59-1.43-.59-.52 0-1.04.2-1.43.59L10.3 9.45l-7.72 7.72c-.78.78-.78 2.05 0 2.83L4 21.41c.39.39.9.59 1.41.59.51 0 1.02-.2 1.41-.59l7.78-7.78 2.81-2.81c.8-.78.8-2.07 0-2.86zM5.41 20L4 18.59l7.72-7.72 1.47 1.35L5.41 20z\"/>\n",
              "  </svg>\n",
              "      </button>\n",
              "      \n",
              "  <style>\n",
              "    .colab-df-container {\n",
              "      display:flex;\n",
              "      flex-wrap:wrap;\n",
              "      gap: 12px;\n",
              "    }\n",
              "\n",
              "    .colab-df-convert {\n",
              "      background-color: #E8F0FE;\n",
              "      border: none;\n",
              "      border-radius: 50%;\n",
              "      cursor: pointer;\n",
              "      display: none;\n",
              "      fill: #1967D2;\n",
              "      height: 32px;\n",
              "      padding: 0 0 0 0;\n",
              "      width: 32px;\n",
              "    }\n",
              "\n",
              "    .colab-df-convert:hover {\n",
              "      background-color: #E2EBFA;\n",
              "      box-shadow: 0px 1px 2px rgba(60, 64, 67, 0.3), 0px 1px 3px 1px rgba(60, 64, 67, 0.15);\n",
              "      fill: #174EA6;\n",
              "    }\n",
              "\n",
              "    [theme=dark] .colab-df-convert {\n",
              "      background-color: #3B4455;\n",
              "      fill: #D2E3FC;\n",
              "    }\n",
              "\n",
              "    [theme=dark] .colab-df-convert:hover {\n",
              "      background-color: #434B5C;\n",
              "      box-shadow: 0px 1px 3px 1px rgba(0, 0, 0, 0.15);\n",
              "      filter: drop-shadow(0px 1px 2px rgba(0, 0, 0, 0.3));\n",
              "      fill: #FFFFFF;\n",
              "    }\n",
              "  </style>\n",
              "\n",
              "      <script>\n",
              "        const buttonEl =\n",
              "          document.querySelector('#df-613325fa-6324-4746-980b-c3fd278f0b8f button.colab-df-convert');\n",
              "        buttonEl.style.display =\n",
              "          google.colab.kernel.accessAllowed ? 'block' : 'none';\n",
              "\n",
              "        async function convertToInteractive(key) {\n",
              "          const element = document.querySelector('#df-613325fa-6324-4746-980b-c3fd278f0b8f');\n",
              "          const dataTable =\n",
              "            await google.colab.kernel.invokeFunction('convertToInteractive',\n",
              "                                                     [key], {});\n",
              "          if (!dataTable) return;\n",
              "\n",
              "          const docLinkHtml = 'Like what you see? Visit the ' +\n",
              "            '<a target=\"_blank\" href=https://colab.research.google.com/notebooks/data_table.ipynb>data table notebook</a>'\n",
              "            + ' to learn more about interactive tables.';\n",
              "          element.innerHTML = '';\n",
              "          dataTable['output_type'] = 'display_data';\n",
              "          await google.colab.output.renderOutput(dataTable, element);\n",
              "          const docLink = document.createElement('div');\n",
              "          docLink.innerHTML = docLinkHtml;\n",
              "          element.appendChild(docLink);\n",
              "        }\n",
              "      </script>\n",
              "    </div>\n",
              "  </div>\n",
              "  "
            ],
            "text/plain": [
              "            id  price  bedrooms  bathrooms  sqft_living  sqft_lot  floors  \\\n",
              "4   2487200875    NaN         4       3.00         1960      5000     1.0   \n",
              "20  7983200060    NaN         3       1.00         1250      9774     1.0   \n",
              "27  1794500383    NaN         3       1.75         2450      2691     2.0   \n",
              "46  8035350320    NaN         3       2.50         3160     13603     2.0   \n",
              "51  5245600105    NaN         3       1.00         1190      9199     1.0   \n",
              "\n",
              "    waterfront  view  condition  ...  yr_built  yr_renovated  zipcode  \\\n",
              "4            0     0          5  ...      1965             0    98136   \n",
              "20           0     0          4  ...      1969             0    98003   \n",
              "27           0     0          3  ...      1915             0    98119   \n",
              "46           0     0          3  ...      2003             0    98019   \n",
              "51           0     0          3  ...      1955             0    98148   \n",
              "\n",
              "        lat     long  sqft_living15  sqft_lot15  part_maison_sur_terrain  \\\n",
              "4   47.5208 -122.393           1360        5000                 0.392000   \n",
              "20  47.3343 -122.306           1280        8850                 0.127890   \n",
              "27  47.6386 -122.360           1760        3573                 0.910442   \n",
              "46  47.7443 -121.977           3050        9232                 0.232302   \n",
              "51  47.4258 -122.322           1190        9364                 0.129362   \n",
              "\n",
              "    Part_logement_dessus_sol_sur_terrai  part_sous_sol_sur_logement  \n",
              "4                              0.535714                    0.464286  \n",
              "20                             1.000000                    0.000000  \n",
              "27                             0.714286                    0.285714  \n",
              "46                             1.000000                    0.000000  \n",
              "51                             1.000000                    0.000000  \n",
              "\n",
              "[5 rows x 21 columns]"
            ]
          },
          "execution_count": 39,
          "metadata": {},
          "output_type": "execute_result"
        }
      ],
      "source": [
        "price.head(5)"
      ]
    },
    {
      "cell_type": "code",
      "execution_count": 40,
      "metadata": {
        "colab": {
          "base_uri": "https://localhost:8080/"
        },
        "id": "1s93imVLn7Tj",
        "outputId": "b8d1b0a8-74c2-4280-c1e5-7e83e20bfd22"
      },
      "outputs": [
        {
          "data": {
            "text/plain": [
              "Index(['id', 'price', 'bedrooms', 'bathrooms', 'sqft_living', 'sqft_lot',\n",
              "       'floors', 'waterfront', 'view', 'condition', 'grade', 'yr_built',\n",
              "       'yr_renovated', 'zipcode', 'lat', 'long', 'sqft_living15', 'sqft_lot15',\n",
              "       'part_maison_sur_terrain', 'Part_logement_dessus_sol_sur_terrai',\n",
              "       'part_sous_sol_sur_logement'],\n",
              "      dtype='object')"
            ]
          },
          "execution_count": 40,
          "metadata": {},
          "output_type": "execute_result"
        }
      ],
      "source": [
        "price.columns"
      ]
    },
    {
      "cell_type": "code",
      "execution_count": 41,
      "metadata": {
        "colab": {
          "base_uri": "https://localhost:8080/"
        },
        "id": "FZeieQVOn7Tj",
        "outputId": "58cc9177-a647-4932-8bfc-86bcc1ec4f7b"
      },
      "outputs": [
        {
          "data": {
            "text/plain": [
              "Index(['bedrooms', 'bathrooms', 'sqft_living', 'sqft_lot', 'floors',\n",
              "       'waterfront', 'view', 'condition', 'grade', 'yr_built', 'yr_renovated',\n",
              "       'zipcode', 'lat', 'long', 'sqft_living15', 'sqft_lot15',\n",
              "       'part_maison_sur_terrain', 'Part_logement_dessus_sol_sur_terrai',\n",
              "       'part_sous_sol_sur_logement'],\n",
              "      dtype='object')"
            ]
          },
          "execution_count": 41,
          "metadata": {},
          "output_type": "execute_result"
        }
      ],
      "source": [
        "X_test.columns"
      ]
    },
    {
      "cell_type": "code",
      "execution_count": 42,
      "metadata": {
        "id": "90kQ-ROnn7Tk"
      },
      "outputs": [],
      "source": [
        "price = price.drop(columns=[\"id\", \"price\"])"
      ]
    },
    {
      "cell_type": "code",
      "execution_count": 43,
      "metadata": {
        "id": "oHYDfRH_n7Tk"
      },
      "outputs": [],
      "source": [
        "prediction_random_forest = rf_1.predict(price)\n",
        "prediction_xgboost = xgb_model.predict(price)\n",
        "prediction_bagging = bagging.predict(price)\n",
        "prediction_gradient_boost = model_grad.predict(price)\n",
        "prediction_hist_gradien_boosting = model_hist_grad.predict(price)\n",
        "prediction_model_stacking = stack_regression.predict(price)\n",
        "prediction_model_voting = ereg.predict(price)"
      ]
    },
    {
      "cell_type": "code",
      "execution_count": 44,
      "metadata": {
        "id": "7_MHw_7uqj0O"
      },
      "outputs": [],
      "source": [
        "mes_previsions = pd.DataFrame({'RandomForest': prediction_random_forest, \n",
        "                               'XGBoost': prediction_xgboost,\n",
        "                               'Bagging':prediction_bagging,\n",
        "                               'GradientBoosting':prediction_gradient_boost,\n",
        "                               'HistogramGradientBoosting':prediction_hist_gradien_boosting,\n",
        "                               'StackingRegressor':prediction_model_stacking,\n",
        "                               'VotingRegressor':prediction_model_voting\n",
        "                               })"
      ]
    },
    {
      "cell_type": "code",
      "execution_count": 48,
      "metadata": {
        "colab": {
          "base_uri": "https://localhost:8080/",
          "height": 206
        },
        "id": "_7HCP6Zzy87U",
        "outputId": "e454f1b1-ae15-4997-a76a-5b0ea0cbb723"
      },
      "outputs": [
        {
          "data": {
            "text/html": [
              "\n",
              "  <div id=\"df-64b33c88-d5de-42fe-8a06-c5bdeeb19662\">\n",
              "    <div class=\"colab-df-container\">\n",
              "      <div>\n",
              "<style scoped>\n",
              "    .dataframe tbody tr th:only-of-type {\n",
              "        vertical-align: middle;\n",
              "    }\n",
              "\n",
              "    .dataframe tbody tr th {\n",
              "        vertical-align: top;\n",
              "    }\n",
              "\n",
              "    .dataframe thead th {\n",
              "        text-align: right;\n",
              "    }\n",
              "</style>\n",
              "<table border=\"1\" class=\"dataframe\">\n",
              "  <thead>\n",
              "    <tr style=\"text-align: right;\">\n",
              "      <th></th>\n",
              "      <th>RandomForest</th>\n",
              "      <th>XGBoost</th>\n",
              "      <th>Bagging</th>\n",
              "      <th>GradientBoosting</th>\n",
              "      <th>HistogramGradientBoosting</th>\n",
              "      <th>StackingRegressor</th>\n",
              "      <th>VotingRegressor</th>\n",
              "    </tr>\n",
              "  </thead>\n",
              "  <tbody>\n",
              "    <tr>\n",
              "      <th>0</th>\n",
              "      <td>496503.950000</td>\n",
              "      <td>502422.437500</td>\n",
              "      <td>490329.0</td>\n",
              "      <td>496792.708890</td>\n",
              "      <td>441352.664043</td>\n",
              "      <td>499129.180810</td>\n",
              "      <td>471652.204169</td>\n",
              "    </tr>\n",
              "    <tr>\n",
              "      <th>1</th>\n",
              "      <td>215777.880214</td>\n",
              "      <td>205533.656250</td>\n",
              "      <td>215142.0</td>\n",
              "      <td>213678.354178</td>\n",
              "      <td>201742.369009</td>\n",
              "      <td>204945.590553</td>\n",
              "      <td>209462.457743</td>\n",
              "    </tr>\n",
              "    <tr>\n",
              "      <th>2</th>\n",
              "      <td>819543.106000</td>\n",
              "      <td>877646.250000</td>\n",
              "      <td>838574.0</td>\n",
              "      <td>929563.016422</td>\n",
              "      <td>838501.482519</td>\n",
              "      <td>879541.849822</td>\n",
              "      <td>862798.199316</td>\n",
              "    </tr>\n",
              "    <tr>\n",
              "      <th>3</th>\n",
              "      <td>520824.630000</td>\n",
              "      <td>543513.125000</td>\n",
              "      <td>530470.0</td>\n",
              "      <td>516504.494205</td>\n",
              "      <td>548593.539994</td>\n",
              "      <td>535310.025014</td>\n",
              "      <td>528792.658785</td>\n",
              "    </tr>\n",
              "    <tr>\n",
              "      <th>4</th>\n",
              "      <td>238273.930765</td>\n",
              "      <td>213961.640625</td>\n",
              "      <td>235527.0</td>\n",
              "      <td>200053.341267</td>\n",
              "      <td>213458.174030</td>\n",
              "      <td>211201.378028</td>\n",
              "      <td>209140.145218</td>\n",
              "    </tr>\n",
              "  </tbody>\n",
              "</table>\n",
              "</div>\n",
              "      <button class=\"colab-df-convert\" onclick=\"convertToInteractive('df-64b33c88-d5de-42fe-8a06-c5bdeeb19662')\"\n",
              "              title=\"Convert this dataframe to an interactive table.\"\n",
              "              style=\"display:none;\">\n",
              "        \n",
              "  <svg xmlns=\"http://www.w3.org/2000/svg\" height=\"24px\"viewBox=\"0 0 24 24\"\n",
              "       width=\"24px\">\n",
              "    <path d=\"M0 0h24v24H0V0z\" fill=\"none\"/>\n",
              "    <path d=\"M18.56 5.44l.94 2.06.94-2.06 2.06-.94-2.06-.94-.94-2.06-.94 2.06-2.06.94zm-11 1L8.5 8.5l.94-2.06 2.06-.94-2.06-.94L8.5 2.5l-.94 2.06-2.06.94zm10 10l.94 2.06.94-2.06 2.06-.94-2.06-.94-.94-2.06-.94 2.06-2.06.94z\"/><path d=\"M17.41 7.96l-1.37-1.37c-.4-.4-.92-.59-1.43-.59-.52 0-1.04.2-1.43.59L10.3 9.45l-7.72 7.72c-.78.78-.78 2.05 0 2.83L4 21.41c.39.39.9.59 1.41.59.51 0 1.02-.2 1.41-.59l7.78-7.78 2.81-2.81c.8-.78.8-2.07 0-2.86zM5.41 20L4 18.59l7.72-7.72 1.47 1.35L5.41 20z\"/>\n",
              "  </svg>\n",
              "      </button>\n",
              "      \n",
              "  <style>\n",
              "    .colab-df-container {\n",
              "      display:flex;\n",
              "      flex-wrap:wrap;\n",
              "      gap: 12px;\n",
              "    }\n",
              "\n",
              "    .colab-df-convert {\n",
              "      background-color: #E8F0FE;\n",
              "      border: none;\n",
              "      border-radius: 50%;\n",
              "      cursor: pointer;\n",
              "      display: none;\n",
              "      fill: #1967D2;\n",
              "      height: 32px;\n",
              "      padding: 0 0 0 0;\n",
              "      width: 32px;\n",
              "    }\n",
              "\n",
              "    .colab-df-convert:hover {\n",
              "      background-color: #E2EBFA;\n",
              "      box-shadow: 0px 1px 2px rgba(60, 64, 67, 0.3), 0px 1px 3px 1px rgba(60, 64, 67, 0.15);\n",
              "      fill: #174EA6;\n",
              "    }\n",
              "\n",
              "    [theme=dark] .colab-df-convert {\n",
              "      background-color: #3B4455;\n",
              "      fill: #D2E3FC;\n",
              "    }\n",
              "\n",
              "    [theme=dark] .colab-df-convert:hover {\n",
              "      background-color: #434B5C;\n",
              "      box-shadow: 0px 1px 3px 1px rgba(0, 0, 0, 0.15);\n",
              "      filter: drop-shadow(0px 1px 2px rgba(0, 0, 0, 0.3));\n",
              "      fill: #FFFFFF;\n",
              "    }\n",
              "  </style>\n",
              "\n",
              "      <script>\n",
              "        const buttonEl =\n",
              "          document.querySelector('#df-64b33c88-d5de-42fe-8a06-c5bdeeb19662 button.colab-df-convert');\n",
              "        buttonEl.style.display =\n",
              "          google.colab.kernel.accessAllowed ? 'block' : 'none';\n",
              "\n",
              "        async function convertToInteractive(key) {\n",
              "          const element = document.querySelector('#df-64b33c88-d5de-42fe-8a06-c5bdeeb19662');\n",
              "          const dataTable =\n",
              "            await google.colab.kernel.invokeFunction('convertToInteractive',\n",
              "                                                     [key], {});\n",
              "          if (!dataTable) return;\n",
              "\n",
              "          const docLinkHtml = 'Like what you see? Visit the ' +\n",
              "            '<a target=\"_blank\" href=https://colab.research.google.com/notebooks/data_table.ipynb>data table notebook</a>'\n",
              "            + ' to learn more about interactive tables.';\n",
              "          element.innerHTML = '';\n",
              "          dataTable['output_type'] = 'display_data';\n",
              "          await google.colab.output.renderOutput(dataTable, element);\n",
              "          const docLink = document.createElement('div');\n",
              "          docLink.innerHTML = docLinkHtml;\n",
              "          element.appendChild(docLink);\n",
              "        }\n",
              "      </script>\n",
              "    </div>\n",
              "  </div>\n",
              "  "
            ],
            "text/plain": [
              "    RandomForest        XGBoost   Bagging  GradientBoosting  \\\n",
              "0  496503.950000  502422.437500  490329.0     496792.708890   \n",
              "1  215777.880214  205533.656250  215142.0     213678.354178   \n",
              "2  819543.106000  877646.250000  838574.0     929563.016422   \n",
              "3  520824.630000  543513.125000  530470.0     516504.494205   \n",
              "4  238273.930765  213961.640625  235527.0     200053.341267   \n",
              "\n",
              "   HistogramGradientBoosting  StackingRegressor  VotingRegressor  \n",
              "0              441352.664043      499129.180810    471652.204169  \n",
              "1              201742.369009      204945.590553    209462.457743  \n",
              "2              838501.482519      879541.849822    862798.199316  \n",
              "3              548593.539994      535310.025014    528792.658785  \n",
              "4              213458.174030      211201.378028    209140.145218  "
            ]
          },
          "execution_count": 48,
          "metadata": {},
          "output_type": "execute_result"
        }
      ],
      "source": [
        "mes_previsions.head(5)"
      ]
    },
    {
      "cell_type": "code",
      "execution_count": 49,
      "metadata": {
        "id": "31LYDmCW0Kfn"
      },
      "outputs": [],
      "source": [
        "moyennes = mes_previsions.mean(axis=1)\n",
        "mes_previsions = mes_previsions.assign(Ma_prevision =moyennes)"
      ]
    },
    {
      "cell_type": "code",
      "execution_count": 52,
      "metadata": {
        "colab": {
          "base_uri": "https://localhost:8080/",
          "height": 206
        },
        "id": "esPgOUr812pS",
        "outputId": "56c7ab0b-e2d5-4871-e3fb-9dfc93f95b00"
      },
      "outputs": [
        {
          "data": {
            "text/html": [
              "\n",
              "  <div id=\"df-199755df-03e1-4833-a104-50f8cf2cb1b4\">\n",
              "    <div class=\"colab-df-container\">\n",
              "      <div>\n",
              "<style scoped>\n",
              "    .dataframe tbody tr th:only-of-type {\n",
              "        vertical-align: middle;\n",
              "    }\n",
              "\n",
              "    .dataframe tbody tr th {\n",
              "        vertical-align: top;\n",
              "    }\n",
              "\n",
              "    .dataframe thead th {\n",
              "        text-align: right;\n",
              "    }\n",
              "</style>\n",
              "<table border=\"1\" class=\"dataframe\">\n",
              "  <thead>\n",
              "    <tr style=\"text-align: right;\">\n",
              "      <th></th>\n",
              "      <th>RandomForest</th>\n",
              "      <th>XGBoost</th>\n",
              "      <th>Bagging</th>\n",
              "      <th>GradientBoosting</th>\n",
              "      <th>HistogramGradientBoosting</th>\n",
              "      <th>StackingRegressor</th>\n",
              "      <th>VotingRegressor</th>\n",
              "      <th>Ma_prevision</th>\n",
              "    </tr>\n",
              "  </thead>\n",
              "  <tbody>\n",
              "    <tr>\n",
              "      <th>0</th>\n",
              "      <td>496503.950000</td>\n",
              "      <td>502422.437500</td>\n",
              "      <td>490329.0</td>\n",
              "      <td>496792.708890</td>\n",
              "      <td>441352.664043</td>\n",
              "      <td>499129.180810</td>\n",
              "      <td>471652.204169</td>\n",
              "      <td>485454.592202</td>\n",
              "    </tr>\n",
              "    <tr>\n",
              "      <th>1</th>\n",
              "      <td>215777.880214</td>\n",
              "      <td>205533.656250</td>\n",
              "      <td>215142.0</td>\n",
              "      <td>213678.354178</td>\n",
              "      <td>201742.369009</td>\n",
              "      <td>204945.590553</td>\n",
              "      <td>209462.457743</td>\n",
              "      <td>209468.901135</td>\n",
              "    </tr>\n",
              "    <tr>\n",
              "      <th>2</th>\n",
              "      <td>819543.106000</td>\n",
              "      <td>877646.250000</td>\n",
              "      <td>838574.0</td>\n",
              "      <td>929563.016422</td>\n",
              "      <td>838501.482519</td>\n",
              "      <td>879541.849822</td>\n",
              "      <td>862798.199316</td>\n",
              "      <td>863738.272011</td>\n",
              "    </tr>\n",
              "    <tr>\n",
              "      <th>3</th>\n",
              "      <td>520824.630000</td>\n",
              "      <td>543513.125000</td>\n",
              "      <td>530470.0</td>\n",
              "      <td>516504.494205</td>\n",
              "      <td>548593.539994</td>\n",
              "      <td>535310.025014</td>\n",
              "      <td>528792.658785</td>\n",
              "      <td>532001.210428</td>\n",
              "    </tr>\n",
              "    <tr>\n",
              "      <th>4</th>\n",
              "      <td>238273.930765</td>\n",
              "      <td>213961.640625</td>\n",
              "      <td>235527.0</td>\n",
              "      <td>200053.341267</td>\n",
              "      <td>213458.174030</td>\n",
              "      <td>211201.378028</td>\n",
              "      <td>209140.145218</td>\n",
              "      <td>217373.658562</td>\n",
              "    </tr>\n",
              "  </tbody>\n",
              "</table>\n",
              "</div>\n",
              "      <button class=\"colab-df-convert\" onclick=\"convertToInteractive('df-199755df-03e1-4833-a104-50f8cf2cb1b4')\"\n",
              "              title=\"Convert this dataframe to an interactive table.\"\n",
              "              style=\"display:none;\">\n",
              "        \n",
              "  <svg xmlns=\"http://www.w3.org/2000/svg\" height=\"24px\"viewBox=\"0 0 24 24\"\n",
              "       width=\"24px\">\n",
              "    <path d=\"M0 0h24v24H0V0z\" fill=\"none\"/>\n",
              "    <path d=\"M18.56 5.44l.94 2.06.94-2.06 2.06-.94-2.06-.94-.94-2.06-.94 2.06-2.06.94zm-11 1L8.5 8.5l.94-2.06 2.06-.94-2.06-.94L8.5 2.5l-.94 2.06-2.06.94zm10 10l.94 2.06.94-2.06 2.06-.94-2.06-.94-.94-2.06-.94 2.06-2.06.94z\"/><path d=\"M17.41 7.96l-1.37-1.37c-.4-.4-.92-.59-1.43-.59-.52 0-1.04.2-1.43.59L10.3 9.45l-7.72 7.72c-.78.78-.78 2.05 0 2.83L4 21.41c.39.39.9.59 1.41.59.51 0 1.02-.2 1.41-.59l7.78-7.78 2.81-2.81c.8-.78.8-2.07 0-2.86zM5.41 20L4 18.59l7.72-7.72 1.47 1.35L5.41 20z\"/>\n",
              "  </svg>\n",
              "      </button>\n",
              "      \n",
              "  <style>\n",
              "    .colab-df-container {\n",
              "      display:flex;\n",
              "      flex-wrap:wrap;\n",
              "      gap: 12px;\n",
              "    }\n",
              "\n",
              "    .colab-df-convert {\n",
              "      background-color: #E8F0FE;\n",
              "      border: none;\n",
              "      border-radius: 50%;\n",
              "      cursor: pointer;\n",
              "      display: none;\n",
              "      fill: #1967D2;\n",
              "      height: 32px;\n",
              "      padding: 0 0 0 0;\n",
              "      width: 32px;\n",
              "    }\n",
              "\n",
              "    .colab-df-convert:hover {\n",
              "      background-color: #E2EBFA;\n",
              "      box-shadow: 0px 1px 2px rgba(60, 64, 67, 0.3), 0px 1px 3px 1px rgba(60, 64, 67, 0.15);\n",
              "      fill: #174EA6;\n",
              "    }\n",
              "\n",
              "    [theme=dark] .colab-df-convert {\n",
              "      background-color: #3B4455;\n",
              "      fill: #D2E3FC;\n",
              "    }\n",
              "\n",
              "    [theme=dark] .colab-df-convert:hover {\n",
              "      background-color: #434B5C;\n",
              "      box-shadow: 0px 1px 3px 1px rgba(0, 0, 0, 0.15);\n",
              "      filter: drop-shadow(0px 1px 2px rgba(0, 0, 0, 0.3));\n",
              "      fill: #FFFFFF;\n",
              "    }\n",
              "  </style>\n",
              "\n",
              "      <script>\n",
              "        const buttonEl =\n",
              "          document.querySelector('#df-199755df-03e1-4833-a104-50f8cf2cb1b4 button.colab-df-convert');\n",
              "        buttonEl.style.display =\n",
              "          google.colab.kernel.accessAllowed ? 'block' : 'none';\n",
              "\n",
              "        async function convertToInteractive(key) {\n",
              "          const element = document.querySelector('#df-199755df-03e1-4833-a104-50f8cf2cb1b4');\n",
              "          const dataTable =\n",
              "            await google.colab.kernel.invokeFunction('convertToInteractive',\n",
              "                                                     [key], {});\n",
              "          if (!dataTable) return;\n",
              "\n",
              "          const docLinkHtml = 'Like what you see? Visit the ' +\n",
              "            '<a target=\"_blank\" href=https://colab.research.google.com/notebooks/data_table.ipynb>data table notebook</a>'\n",
              "            + ' to learn more about interactive tables.';\n",
              "          element.innerHTML = '';\n",
              "          dataTable['output_type'] = 'display_data';\n",
              "          await google.colab.output.renderOutput(dataTable, element);\n",
              "          const docLink = document.createElement('div');\n",
              "          docLink.innerHTML = docLinkHtml;\n",
              "          element.appendChild(docLink);\n",
              "        }\n",
              "      </script>\n",
              "    </div>\n",
              "  </div>\n",
              "  "
            ],
            "text/plain": [
              "    RandomForest        XGBoost   Bagging  GradientBoosting  \\\n",
              "0  496503.950000  502422.437500  490329.0     496792.708890   \n",
              "1  215777.880214  205533.656250  215142.0     213678.354178   \n",
              "2  819543.106000  877646.250000  838574.0     929563.016422   \n",
              "3  520824.630000  543513.125000  530470.0     516504.494205   \n",
              "4  238273.930765  213961.640625  235527.0     200053.341267   \n",
              "\n",
              "   HistogramGradientBoosting  StackingRegressor  VotingRegressor  \\\n",
              "0              441352.664043      499129.180810    471652.204169   \n",
              "1              201742.369009      204945.590553    209462.457743   \n",
              "2              838501.482519      879541.849822    862798.199316   \n",
              "3              548593.539994      535310.025014    528792.658785   \n",
              "4              213458.174030      211201.378028    209140.145218   \n",
              "\n",
              "    Ma_prevision  \n",
              "0  485454.592202  \n",
              "1  209468.901135  \n",
              "2  863738.272011  \n",
              "3  532001.210428  \n",
              "4  217373.658562  "
            ]
          },
          "execution_count": 52,
          "metadata": {},
          "output_type": "execute_result"
        }
      ],
      "source": [
        "mes_previsions.head(5)"
      ]
    },
    {
      "cell_type": "code",
      "execution_count": 53,
      "metadata": {
        "id": "v3opLRmfqsYW"
      },
      "outputs": [],
      "source": [
        "mes_previsions.to_csv('resultats_predictions.csv', index=False)"
      ]
    },
    {
      "cell_type": "code",
      "execution_count": 54,
      "metadata": {
        "colab": {
          "base_uri": "https://localhost:8080/",
          "height": 17
        },
        "id": "s5RZWcVR0q5B",
        "outputId": "dc3368bb-cf75-4dd5-ddf0-adc3f689eecc"
      },
      "outputs": [
        {
          "data": {
            "application/javascript": "\n    async function download(id, filename, size) {\n      if (!google.colab.kernel.accessAllowed) {\n        return;\n      }\n      const div = document.createElement('div');\n      const label = document.createElement('label');\n      label.textContent = `Downloading \"${filename}\": `;\n      div.appendChild(label);\n      const progress = document.createElement('progress');\n      progress.max = size;\n      div.appendChild(progress);\n      document.body.appendChild(div);\n\n      const buffers = [];\n      let downloaded = 0;\n\n      const channel = await google.colab.kernel.comms.open(id);\n      // Send a message to notify the kernel that we're ready.\n      channel.send({})\n\n      for await (const message of channel.messages) {\n        // Send a message to notify the kernel that we're ready.\n        channel.send({})\n        if (message.buffers) {\n          for (const buffer of message.buffers) {\n            buffers.push(buffer);\n            downloaded += buffer.byteLength;\n            progress.value = downloaded;\n          }\n        }\n      }\n      const blob = new Blob(buffers, {type: 'application/binary'});\n      const a = document.createElement('a');\n      a.href = window.URL.createObjectURL(blob);\n      a.download = filename;\n      div.appendChild(a);\n      a.click();\n      div.remove();\n    }\n  ",
            "text/plain": [
              "<IPython.core.display.Javascript object>"
            ]
          },
          "metadata": {},
          "output_type": "display_data"
        },
        {
          "data": {
            "application/javascript": "download(\"download_b160094b-567b-4ee3-a23f-058a1bdc130b\", \"resultats_predictions.csv\", 286461)",
            "text/plain": [
              "<IPython.core.display.Javascript object>"
            ]
          },
          "metadata": {},
          "output_type": "display_data"
        }
      ],
      "source": [
        "from google.colab import files\n",
        "files.download('resultats_predictions.csv')"
      ]
    }
  ],
  "metadata": {
    "colab": {
      "collapsed_sections": [
        "7vIo1NXxvRN-",
        "y0MbVFI9stL2",
        "S3B1T43xmL6g",
        "SqEyHVxTuTQ2",
        "Pf9hkOy7nJdl",
        "EY6NcUpApDtE",
        "DPuw8fO-stL9",
        "1vYRPY6s11eE",
        "fhhRntFOstL-",
        "3AdAoanZdKUP",
        "Vr4aBJi-4acL",
        "4aLF5XW0a5qs",
        "1JXISBcgn7Ti",
        "S89O76cQ4ddf",
        "GGxngR4akT9X"
      ],
      "provenance": []
    },
    "kernelspec": {
      "display_name": "Python 3",
      "language": "python",
      "name": "python3"
    },
    "language_info": {
      "codemirror_mode": {
        "name": "ipython",
        "version": 3
      },
      "file_extension": ".py",
      "mimetype": "text/x-python",
      "name": "python",
      "nbconvert_exporter": "python",
      "pygments_lexer": "ipython3",
      "version": "3.9.16"
    },
    "vscode": {
      "interpreter": {
        "hash": "c766268a8d8e9028bf2aee8d92f51ba242b73f097ccb08322d60fec14447b350"
      }
    }
  },
  "nbformat": 4,
  "nbformat_minor": 0
}
